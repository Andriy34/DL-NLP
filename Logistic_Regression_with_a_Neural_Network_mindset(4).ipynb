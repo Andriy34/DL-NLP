{
 "cells": [
  {
   "cell_type": "markdown",
   "metadata": {},
   "source": [
    "# Lab1 Logistic Regression using a Neural Network\n",
    "## Логістична регресія за допомогою нейронної мережі\n",
    "\n",
    "Ми використовуватимемо нейронні мережі для побудови класифікатора логістичної регресії для розпізнавання зображень.\n",
    "\n",
    "Під час вправ вам потрібно буде заповнити код між цими коментарями:\n",
    "```python\n",
    "# CODE_START\n",
    "<...your code here...>\n",
    "# CODE_END\n",
    "```\n",
    "\n",
    "Будь ласка, пам’ятайте, що нам потрібно векторизувати наш код, тому:\n",
    "\n",
    "    Не використовуйте цикли (for/while) у коді, якщо в інструкціях явно не вказано це зробити.\n",
    "\n",
    "    Використовуйте np.dot(X, Y) для обчислення скалярних добутків.\n",
    "\n",
    "Під час вправ ви:\n",
    "\n",
    "    Побудуєте загальну архітектуру алгоритму навчання, включаючи:\n",
    "\n",
    "        Ініціалізацію параметрів\n",
    "\n",
    "        Обчислення функції вартості та її градієнта\n",
    "\n",
    "        Використання алгоритму оптимізації (градієнтний спуск)\n",
    "\n",
    "    Об’єднаєте всі три функції вище в основну функцію моделі у правильному порядку."
   ]
  },
  {
   "cell_type": "markdown",
   "metadata": {},
   "source": [
    "<a name='1'></a>\n",
    "## 1 - Packages ##\n",
    "\n",
    "Спершу запустіть комірку нижче, щоб імпортувати всі пакети, які знадобляться вам під час цієї роботи.\n",
    "\n",
    "    numpy — основна бібліотека для наукових обчислень у Python.\n",
    "\n",
    "    h5py — поширений пакет для роботи з наборами даних, збереженими у файлах H5.\n",
    "\n",
    "    matplotlib — популярна бібліотека для побудови графіків у Python.\n",
    "\n",
    "    PIL та scipy використовуються тут для тестування вашої моделі на власному зображенні в кінці."
   ]
  },
  {
   "cell_type": "code",
   "execution_count": 36,
   "metadata": {
    "deletable": false,
    "editable": false
   },
   "outputs": [],
   "source": [
    "### v1.2"
   ]
  },
  {
   "cell_type": "code",
   "execution_count": 37,
   "metadata": {},
   "outputs": [
    {
     "name": "stdout",
     "output_type": "stream",
     "text": [
      "The autoreload extension is already loaded. To reload it, use:\n",
      "  %reload_ext autoreload\n"
     ]
    }
   ],
   "source": [
    "import numpy as np\n",
    "import copy\n",
    "import matplotlib.pyplot as plt\n",
    "import h5py\n",
    "import scipy\n",
    "from PIL import Image\n",
    "from scipy import ndimage\n",
    "from lr_utils import load_dataset\n",
    "from public_tests import *\n",
    "\n",
    "%matplotlib inline\n",
    "# Module autoreloading\n",
    "%load_ext autoreload\n",
    "%autoreload 2"
   ]
  },
  {
   "cell_type": "markdown",
   "metadata": {},
   "source": [
    "<a name='2'></a>\n",
    "## 2 - Overview of the Problem set ##\n",
    "#### 2. Огляд набору даних\n",
    "**Постановка задачі**: Вам надано набір даних (\"data.h5\"), який містить:\n",
    "\n",
    "    тренувальний набір з m_train зображень, позначених як кіт (y=1) або не кіт (y=0);\n",
    "\n",
    "    тестовий набір з m_test зображень, також позначених як кіт або не кіт;\n",
    "\n",
    "    кожне зображення має розмірність (num_px, num_px, 3), де 3 відповідає трьом каналам (RGB). Отже, кожне зображення є квадратним (висота = num_px, ширина = num_px).\n",
    "\n",
    "Ви побудуєте простий алгоритм розпізнавання зображень, який зможе коректно класифікувати картинки на \"кіт\" чи \"не кіт\".\n",
    "\n",
    "Давайте ознайомимося з набором даних ближче. Завантажте дані, виконавши наступний код."
   ]
  },
  {
   "cell_type": "code",
   "execution_count": 38,
   "metadata": {},
   "outputs": [],
   "source": [
    "# Loading the data (cat/non-cat)\n",
    "train_set_x_orig, train_set_y, test_set_x_orig, test_set_y, classes = load_dataset()"
   ]
  },
  {
   "cell_type": "markdown",
   "metadata": {},
   "source": [
    "Ми додали \"_orig\" у кінці наборів даних зображень (тренувального та тестового), тому що ми збираємося їх попередньо обробити. Після попередньої обробки ми отримаємо `train_set_x` та `test_set_x` (мітки `train_set_y` та `test_set_y` не потребують жодної попередньої обробки).  \n",
    "\n",
    "Кожен рядок у ваших `train_set_x_orig` та `test_set_x_orig` — це масив, що представляє зображення. Ви можете візуалізувати приклад, запустивши наведений нижче код. Також можете змінити значення `index` та перезапустити код, щоб побачити інші зображення.  \n",
    "\n",
    "*(Примітка: \"попередня обробка\" (preprocessing) тут стосується нормалізації даних, зміни розмірності тощо, щоб підготувати їх для подачі в нейронну мережу.)*"
   ]
  },
  {
   "cell_type": "code",
   "execution_count": 39,
   "metadata": {},
   "outputs": [
    {
     "name": "stdout",
     "output_type": "stream",
     "text": [
      "y = [0], it's a 'non-cat' picture.\n"
     ]
    },
    {
     "data": {
      "image/png": "[encoded data removed]",
      "text/plain": [
       "<Figure size 640x480 with 1 Axes>"
      ]
     },
     "metadata": {},
     "output_type": "display_data"
    }
   ],
   "source": [
    "# Example of a picture\n",
    "index = 4\n",
    "plt.imshow(train_set_x_orig[index])\n",
    "print (\"y = \" + str(train_set_y[:, index]) + \", it's a '\" + classes[np.squeeze(train_set_y[:, index])].decode(\"utf-8\") +  \"' picture.\")"
   ]
  },
  {
   "cell_type": "markdown",
   "metadata": {},
   "source": [
    "**Важливо**: багато помилок у глибокому навчанні виникають через невідповідність розмірностей матриць/векторів. Якщо ви будете чітко контролювати розмірності, це значно зменшить кількість помилок.\n",
    "\n",
    "<a name='ex-1'></a>\n",
    "### Вправа 1\n",
    "Знайдіть значення для:\n",
    "- m_train (кількість тренувальних прикладів)\n",
    "- m_test (кількість тестових прикладів)\n",
    "- num_px (висота = ширина тренувального зображення у пікселях)\n",
    "\n",
    "Пам'ятайте, що `train_set_x_orig` є numpy-масивом форми `(m_train, num_px, num_px, 3)`. Наприклад, ви можете отримати `m_train` через `train_set_x_orig.shape[0]`.\n",
    "\n",
    "**Примітка перекладача**:\n",
    "- \"shape\" у контексті NumPy залишається без перекладу, оскільки це технічний термін\n",
    "- \"numpy-array\" також залишається без перекладу, оскільки це власна назва структури даних\n",
    "- Індекс \"[0]\" залишається у оригінальному форматі, оскільки це частина синтаксису Python"
   ]
  },
  {
   "cell_type": "code",
   "execution_count": 40,
   "metadata": {
    "deletable": false,
    "nbgrader": {
     "cell_type": "code",
     "checksum": "921fe679a632ec7ec9963069fa405725",
     "grade": false,
     "grade_id": "cell-c4e7e9c1f174eb83",
     "locked": false,
     "schema_version": 3,
     "solution": true,
     "task": false
    }
   },
   "outputs": [
    {
     "name": "stdout",
     "output_type": "stream",
     "text": [
      "кількість тренувальних прикладів: m_train = 209\n",
      "кількість тестових прикладів: m_test = 50\n",
      "розмірність (висоту/ширину) кожного зображення: num_px = 64\n",
      "кожне зображення має розмір: (64, 64, 3)\n",
      "train_set_x shape: (209, 64, 64, 3)\n",
      "train_set_y shape: (1, 209)\n",
      "test_set_x shape: (50, 64, 64, 3)\n",
      "test_set_y shape: (1, 50)\n"
     ]
    }
   ],
   "source": [
    "# код аналізує базову статистику датасету перед початком роботи з моделлю.\n",
    "\n",
    "m_train = train_set_x_orig.shape[0]  # Отримуємо кількість тренувальних зображень (прикладів) з першого виміру масиву train_set_x_orig\n",
    "m_test = test_set_x_orig.shape[0]    # Отримуємо кількість тестових зображень   \n",
    "num_px = train_set_x_orig.shape[1]   # Отримуємо розмірність зображення (висоту/ширину) з другого виміру train_set_x_orig\n",
    "\n",
    "# CODE_START\n",
    "# CODE_END\n",
    "\n",
    "print (\"кількість тренувальних прикладів: m_train = \" + str(m_train))\n",
    "print (\"кількість тестових прикладів: m_test = \" + str(m_test))\n",
    "print (\"розмірність (висоту/ширину) кожного зображення: num_px = \" + str(num_px))\n",
    "\n",
    "print (\"кожне зображення має розмір: (\" + str(num_px) + \", \" + str(num_px) + \", 3)\")\n",
    "\n",
    "# Виводимо розмірність навчального набору зображень\n",
    "print (\"train_set_x shape: \" + str(train_set_x_orig.shape))\n",
    "# Виводимо розмірність міток навчального набору\n",
    "print (\"train_set_y shape: \" + str(train_set_y.shape))\n",
    "# Виводимо розмірність тестового набору зображень\n",
    "print (\"test_set_x shape: \" + str(test_set_x_orig.shape))\n",
    "# Виводимо розмірність міток тестового набору\n",
    "print (\"test_set_y shape: \" + str(test_set_y.shape))\n"
   ]
  },
  {
   "cell_type": "markdown",
   "metadata": {},
   "source": [
    "**Expected Output for m_train, m_test and num_px**: \n",
    "<table style=\"width:15%\">\n",
    "  <tr>\n",
    "    <td> m_train </td>\n",
    "    <td> 209 </td> \n",
    "  </tr>\n",
    "  \n",
    "  <tr>\n",
    "    <td>m_test</td>\n",
    "    <td> 50 </td> \n",
    "  </tr>\n",
    "  \n",
    "  <tr>\n",
    "    <td>num_px</td>\n",
    "    <td> 64 </td> \n",
    "  </tr>\n",
    "  \n",
    "</table>\n"
   ]
  },
  {
   "cell_type": "markdown",
   "metadata": {},
   "source": [
    "Для зручності вам слід перетворити зображення розміром (num_px, num_px, 3) у numpy-масив форми (num_px * num_px * 3, 1). Після цього наш тренувальний (і тестовий) набір даних стане numpy-масивом, де кожен стовпець представлятиме розгорнуте зображення. Має бути m_train (відповідно m_test) стовпців.\n",
    "\n",
    "<a name='ex-2'></a>\n",
    "### Вправа 2\n",
    "Перетворіть тренувальний та тестовий набори даних так, щоб зображення розміром (num_px, num_px, 3) стали векторами форми (num_px * num_px * 3, 1).\n",
    "\n",
    "Якщо у вас є матриця X форми (a, b, c, d), то щоб її перетворити у форму (b * c * d, a), можна зробити так:\n",
    "```python    \n",
    "X_flatten = X.reshape(X.shape[0], -1).T      # X.T - це транспонована матриця X\n",
    "```"
   ]
  },
  {
   "cell_type": "code",
   "execution_count": 41,
   "metadata": {
    "deletable": false,
    "nbgrader": {
     "cell_type": "code",
     "checksum": "5a2aa62bdd8c01450111b758ef159aec",
     "grade": false,
     "grade_id": "cell-0f43921062c34e50",
     "locked": false,
     "schema_version": 3,
     "solution": true,
     "task": false
    }
   },
   "outputs": [
    {
     "name": "stdout",
     "output_type": "stream",
     "text": [
      "train_set_x_flatten shape: (12288, 209)\n",
      "train_set_y shape: (1, 209)\n",
      "test_set_x_flatten shape: (12288, 50)\n",
      "test_set_y shape: (1, 50)\n"
     ]
    }
   ],
   "source": [
    "\n",
    "# Переформовуємо тренувальні зображення у вектори розміром (num_px*num_px*3, m_train)\n",
    "train_set_x_flatten = train_set_x_orig.reshape(train_set_x_orig.shape[0], -1).T\n",
    "# Переформовуємо тестові зображення у вектори розміром (num_px*num_px*3, m_test)\n",
    "test_set_x_flatten = test_set_x_orig.reshape(test_set_x_orig.shape[0], -1).T\n",
    "\n",
    "\n",
    "# Перевірка: порівнюємо перші 10 пікселів другого тренувального зображення з очікуваними значеннями\n",
    "assert np.alltrue(train_set_x_flatten[0:10, 1] == [196, 192, 190, 193, 186, 182, 188, 179, 174, 213]), \"Wrong solution. Use (X.shape[0], -1).T.\"\n",
    "# Перевірка: порівнюємо перші 10 пікселів другого тестового зображення з очікуваними значеннями\n",
    "assert np.alltrue(test_set_x_flatten[0:10, 1] == [115, 110, 111, 137, 129, 129, 155, 146, 145, 159]), \"Wrong solution. Use (X.shape[0], -1).T.\"\n",
    "\n",
    "# Виводимо розміри отриманих векторів тренувальних зображень, міток тренувального набору,векторів тестових зображень,розміри міток тестового набору\n",
    "print (\"train_set_x_flatten shape: \" + str(train_set_x_flatten.shape))\n",
    "print (\"train_set_y shape: \" + str(train_set_y.shape))\n",
    "print (\"test_set_x_flatten shape: \" + str(test_set_x_flatten.shape))\n",
    "print (\"test_set_y shape: \" + str(test_set_y.shape))"
   ]
  },
  {
   "cell_type": "markdown",
   "metadata": {},
   "source": [
    "**Expected Output**: \n",
    "\n",
    "<table style=\"width:35%\">\n",
    "  <tr>\n",
    "    <td>train_set_x_flatten shape</td>\n",
    "    <td> (12288, 209)</td> \n",
    "  </tr>\n",
    "  <tr>\n",
    "    <td>train_set_y shape</td>\n",
    "    <td>(1, 209)</td> \n",
    "  </tr>\n",
    "  <tr>\n",
    "    <td>test_set_x_flatten shape</td>\n",
    "    <td>(12288, 50)</td> \n",
    "  </tr>\n",
    "  <tr>\n",
    "    <td>test_set_y shape</td>\n",
    "    <td>(1, 50)</td> \n",
    "  </tr>\n",
    "</table>"
   ]
  },
  {
   "cell_type": "markdown",
   "metadata": {},
   "source": [
    "Для представлення кольорових зображень необхідно вказати червоний, зелений та синій канали (RGB) для кожного пікселя, тому значення пікселя насправді є вектором із трьох чисел у діапазоні від 0 до 255.\n",
    "\n",
    "Одним із поширених етапів попередньої обробки даних у машинному навчанні є центрування та стандартизація набору даних. Це означає, що від кожного прикладу віднімається середнє значення всього масиву numpy, а потім кожен приклад ділиться на стандартне відхилення всього масиву numpy. Однак для наборів даних із зображеннями простіше та зручніше (і це працює майже так само добре) просто поділити кожен рядок набору даних на 255 (максимальне значення каналу пікселя).\n",
    "\n",
    "Давайте стандартизуємо наш набір даних."
   ]
  },
  {
   "cell_type": "code",
   "execution_count": 42,
   "metadata": {},
   "outputs": [],
   "source": [
    "train_set_x = train_set_x_flatten / 255.\n",
    "test_set_x = test_set_x_flatten / 255."
   ]
  },
  {
   "cell_type": "markdown",
   "metadata": {},
   "source": [
    "**Загальні кроки для попередньої обробки нового набору даних**:\n",
    "\n",
    "- Визначити розмірності та форми даних (m_train, m_test, num_px, ...)\n",
    "- Перетворити набори даних так, щоб кожен приклад став вектором розміру (num_px * num_px * 3, 1)\n",
    "- Стандартизувати дані"
   ]
  },
  {
   "cell_type": "markdown",
   "metadata": {},
   "source": [
    "<a name='3'></a>\n",
    "## 3 - General Architecture of the learning algorithm ##\n",
    "\n",
    "## 3 - Загальна архітектура алгоритму навчання ##\n",
    "\n",
    "Настав час розробити простий алгоритм для розрізнення зображень котів та інших об'єктів.\n",
    "\n",
    "Ви побудуєте Логістичну регресію, використовуючи підхід Нейронних мереж. Наступний рисунок пояснює, чому **Логістична регресія насправді є дуже простою Нейронною мережею!**\n",
    "\n",
    "<img src=\"images/LogReg_kiank.png\" style=\"width:650px;height:400px;\">\n",
    "\n",
    "**Математичний вираз алгоритму**:\n",
    "\n",
    "For one example $x^{(i)}$:\n",
    "$$z^{(i)} = w^T x^{(i)} + b \\tag{1}$$\n",
    "$$\\hat{y}^{(i)} = a^{(i)} = sigmoid(z^{(i)})\\tag{2}$$ \n",
    "$$ \\mathcal{L}(a^{(i)}, y^{(i)}) =  - y^{(i)}  \\log(a^{(i)}) - (1-y^{(i)} )  \\log(1-a^{(i)})\\tag{3}$$\n",
    "\n",
    "Вартість обчислюється шляхом підсумовування по всіх навчальних прикладах:\n",
    "$$ J = \\frac{1}{m} \\sum_{i=1}^m \\mathcal{L}(a^{(i)}, y^{(i)})\\tag{6}$$\n",
    "\n",
    "**Ключові кроки**:\n",
    "У цій вправі ви виконаєте наступні дії:\n",
    "\n",
    "- Ініціалізуєте параметри моделі\n",
    "- Вивчите параметри моделі шляхом мінімізації вартості\n",
    "- Використаєте вивчені параметри для прогнозування (на тестовому наборі)\n",
    "- Проаналізуєте результати та зробите висновки\n"
   ]
  },
  {
   "cell_type": "markdown",
   "metadata": {},
   "source": [
    "<a name='4'></a>\n",
    "## 4 - Побудова компонентів нашого алгоритму ##\n",
    "\n",
    "Основні кроки для побудови нейронної мережі:\n",
    "1. Визначити структуру моделі (наприклад, кількість вхідних ознак)\n",
    "2. Ініціалізувати параметри моделі\n",
    "3. Цикл:\n",
    "    - Обчислити поточні втрати (пряме поширення)\n",
    "    - Обчислити поточний градієнт (зворотне поширення)\n",
    "    - Оновити параметри (градієнтний спуск)\n",
    "\n",
    "Зазвичай компоненти 1-3 будуються окремо та інтегруються в одну функцію, яку ми називаємо `model()`.\n",
    "\n",
    "You often build 1-3 separately and integrate them into one function we call `model()`.\n",
    "\n",
    "<a name='4-1'></a>\n",
    "### 4.1 - Helper functions\n",
    "\n",
    "<a name='ex-3'></a>\n",
    "### Exercise 3 - sigmoid\n",
    "Спочатку реалізуйте функцію `sigmoid()`. Як ви бачили на рисунку вище, необхідно обчислити\n",
    "$$\n",
    "sigmoid(z) = \\frac{1}{1 + e^{-z}}\n",
    "$$\n",
    "for $z = w^T x + b$ щоб робити прогнози. Використовуйте `np.exp()`.\n",
    "\n"
   ]
  },
  {
   "cell_type": "code",
   "execution_count": 43,
   "metadata": {
    "deletable": false,
    "nbgrader": {
     "cell_type": "code",
     "checksum": "239ab1cf1028b721fd14f31b8103c40d",
     "grade": false,
     "grade_id": "cell-520521c430352f3b",
     "locked": false,
     "schema_version": 3,
     "solution": true,
     "task": false
    }
   },
   "outputs": [],
   "source": [
    "# GRADED FUNCTION: sigmoid\n",
    "\n",
    "def sigmoid(z):\n",
    "    \"\"\"\n",
    "    Compute the sigmoid of z\n",
    "\n",
    "    Arguments:\n",
    "    z -- A scalar or numpy array of any size.\n",
    "\n",
    "    Return:\n",
    "    s -- sigmoid(z)\n",
    "    \"\"\"\n",
    "\n",
    "    #(≈ 1 line of code)\n",
    "    s = 1 / (1 + np.exp(-z))\n",
    "    \n",
    "    return s"
   ]
  },
  {
   "cell_type": "code",
   "execution_count": 44,
   "metadata": {
    "deletable": false,
    "editable": false,
    "nbgrader": {
     "cell_type": "code",
     "checksum": "0483e6820669111a9c5914d8b24bc315",
     "grade": true,
     "grade_id": "cell-30ea3151cab9c491",
     "locked": true,
     "points": 10,
     "schema_version": 3,
     "solution": false,
     "task": false
    }
   },
   "outputs": [
    {
     "name": "stdout",
     "output_type": "stream",
     "text": [
      "sigmoid([0, 2]) = [0.5        0.88079708]\n",
      "\u001b[92mAll tests passed!\n"
     ]
    }
   ],
   "source": [
    "print (\"sigmoid([0, 2]) = \" + str(sigmoid(np.array([0,2]))))\n",
    "\n",
    "sigmoid_test(sigmoid)"
   ]
  },
  {
   "cell_type": "code",
   "execution_count": 45,
   "metadata": {},
   "outputs": [
    {
     "name": "stdout",
     "output_type": "stream",
     "text": [
      "[0.62245933 0.5        0.88079708]\n"
     ]
    }
   ],
   "source": [
    "x = np.array([0.5, 0, 2.0])\n",
    "output = sigmoid(x)\n",
    "print(output)"
   ]
  },
  {
   "cell_type": "markdown",
   "metadata": {},
   "source": [
    "<a name='4-2'></a>\n",
    "### 4.2 - Ініціалізація параметрів\n",
    "\n",
    "<a name='ex-4'></a>\n",
    "### Exercise 4 - initialize_with_zeros\n",
    "Реалізуйте ініціалізацію параметрів у клітинці нижче. Вам потрібно ініціалізувати w як вектор нулів. Якщо ви не знаєте, яку функцію NumPy використати, зверніться до документації бібліотеки Numpy за функцією `np.zeros()`."
   ]
  },
  {
   "cell_type": "code",
   "execution_count": 46,
   "metadata": {
    "deletable": false,
    "nbgrader": {
     "cell_type": "code",
     "checksum": "c4a37e375a85ddab7274a33abf46bb7c",
     "grade": false,
     "grade_id": "cell-befa9335e479864e",
     "locked": false,
     "schema_version": 3,
     "solution": true,
     "task": false
    }
   },
   "outputs": [],
   "source": [
    "# GRADED FUNCTION: initialize_with_zeros\n",
    "\n",
    "def initialize_with_zeros(dim):\n",
    "    \"\"\"\n",
    "    Ця функція створює вектор нулів розміру (dim, 1) для w та ініціалізує b як 0.\n",
    "\n",
    "    Аргументи:\n",
    "    dim -- розмір вектора w, який ми хочемо отримати (або кількість параметрів у цьому випадку)\n",
    "\n",
    "    Повертає:\n",
    "    w -- ініціалізований вектор розміру (dim, 1)\n",
    "    b -- ініціалізований скаляр (відповідає зміщенню) типу float\n",
    "    \"\"\"\n",
    "\n",
    "    \n",
    "    # (≈ 2 lines of code)\n",
    "    w = np.zeros((dim, 1))\n",
    "    b = 0.0\n",
    "\n",
    "    return w, b"
   ]
  },
  {
   "cell_type": "code",
   "execution_count": 47,
   "metadata": {
    "deletable": false,
    "editable": false,
    "nbgrader": {
     "cell_type": "code",
     "checksum": "a4c13b0eafa46ca94de21b41faea8c58",
     "grade": true,
     "grade_id": "cell-a3b6699f145f3a3f",
     "locked": true,
     "points": 10,
     "schema_version": 3,
     "solution": false,
     "task": false
    }
   },
   "outputs": [
    {
     "name": "stdout",
     "output_type": "stream",
     "text": [
      "w = [[0.]\n",
      " [0.]]\n",
      "b = 0.0\n",
      "\u001b[92mFirst test passed!\n",
      "\u001b[92mSecond test passed!\n"
     ]
    }
   ],
   "source": [
    "dim = 2\n",
    "w, b = initialize_with_zeros(dim)\n",
    "\n",
    "assert type(b) == float\n",
    "print (\"w = \" + str(w))\n",
    "print (\"b = \" + str(b))\n",
    "\n",
    "initialize_with_zeros_test_1(initialize_with_zeros)\n",
    "initialize_with_zeros_test_2(initialize_with_zeros)\n"
   ]
  },
  {
   "cell_type": "markdown",
   "metadata": {},
   "source": [
    "<a name='4-3'></a>\n",
    "### 4.3 - Пряме та зворотнє поширення\n",
    "\n",
    "Тепер, коли ваші параметри ініціалізовані, ви можете виконувати кроки \"прямого\" та \"зворотного\" поширення для навчання параметрів.\n",
    "\n",
    "<a name='ex-5'></a>\n",
    "### Вправа 5 - propagate\n",
    "Реалізуйте функцію `propagate()`, яка обчислює функцію вартості та її градієнт.\n",
    "\n",
    "**Hints**:\n",
    "\n",
    "Пряме поширення:\n",
    "- Ви отримуєте X\n",
    "- Обчислюєте $A = \\sigma(w^T X + b) = (a^{(1)}, a^{(2)}, ..., a^{(m-1)}, a^{(m)})$\n",
    "- Розраховуєте функцію вартості: $J = -\\frac{1}{m}\\sum\\limits_{i=1}^{m}(y^{(i)}\\log(a^{(i)})+(1-y^{(i)})\\log(1-a^{(i)}))$\n",
    "\n",
    "Ось дві формули, які ви будете використовувати:\n",
    "\n",
    "$$ \\frac{\\partial J}{\\partial w} = \\frac{1}{m}X(A-Y)^T\\tag{7}$$\n",
    "$$ \\frac{\\partial J}{\\partial b} = \\frac{1}{m} \\sum_{i=1}^m (a^{(i)}-y^{(i)})\\tag{8}$$\n",
    "\n"
   ]
  },
  {
   "cell_type": "code",
   "execution_count": 48,
   "metadata": {
    "deletable": false,
    "nbgrader": {
     "cell_type": "code",
     "checksum": "8552b2c9cff2b5fa537fab9f98a6e4da",
     "grade": false,
     "grade_id": "cell-11af17e28077b3d3",
     "locked": false,
     "schema_version": 3,
     "solution": true,
     "task": false
    }
   },
   "outputs": [],
   "source": [
    "# GRADED FUNCTION: propagate\n",
    "\n",
    "def propagate(w, b, X, Y):\n",
    "    \"\"\"\n",
    "    Реалізуйте функцію вартості та її градієнт для описаного вище поширення\n",
    "\n",
    "    Аргументи:\n",
    "    w -- ваги, numpy масив розміру (num_px * num_px * 3, 1)\n",
    "    b -- зміщення, скаляр\n",
    "    X -- дані розміру (num_px * num_px * 3, кількість прикладів)\n",
    "    Y -- вектор \"справжніх\" міток (містить 0 для не-кішок, 1 для кішок) розміру (1, кількість прикладів)\n",
    "\n",
    "    Повертає:\n",
    "    grads -- словник, що містить градієнти ваг та зміщення\n",
    "    (dw -- градієнт втрат відносно w, має таку ж форму як w)\n",
    "    (db -- градієнт втрат відносно b, має таку ж форму як b)\n",
    "    cost -- вартість негативного логарифмічного правдоподібня для логістичної регресії\n",
    "\n",
    "Поради:\n",
    "\n",
    "    Напишіть код крок за кроком для поширення. Використовуйте np.log(), np.dot()\n",
    "    \"\"\"\n",
    "    \n",
    "    m = X.shape[1]\n",
    "    \n",
    "    # FORWARD PROPAGATION (FROM X TO COST)\n",
    "    # compute activation\n",
    "    Z = np.dot(w.T, X) + b\n",
    "    A = 1 / (1 + np.exp(-Z))\n",
    "    # compute cost by using np.dot to perform multiplication. \n",
    "    # And don't use loops for the sum.\n",
    "    cost = -1/m * np.sum(Y * np.log(A) + (1-Y) * np.log(1-A))                              \n",
    "\n",
    "\n",
    "    # BACKWARD PROPAGATION (TO FIND GRAD)\n",
    "    dZ = A - Y\n",
    "    dw = 1/m * np.dot(X, dZ.T)\n",
    "    db = 1/m * np.sum(dZ)\n",
    "\n",
    "    cost = np.squeeze(np.array(cost))\n",
    "\n",
    "    \n",
    "    grads = {\"dw\": dw,\n",
    "             \"db\": db}\n",
    "    \n",
    "    return grads, cost"
   ]
  },
  {
   "cell_type": "code",
   "execution_count": 49,
   "metadata": {
    "deletable": false,
    "editable": false,
    "nbgrader": {
     "cell_type": "code",
     "checksum": "89373f564dc33ce8a883a55a6ef72b56",
     "grade": true,
     "grade_id": "cell-d1594d75b61dd554",
     "locked": true,
     "points": 10,
     "schema_version": 3,
     "solution": false,
     "task": false
    }
   },
   "outputs": [
    {
     "name": "stdout",
     "output_type": "stream",
     "text": [
      "dw = [[ 0.25071532]\n",
      " [-0.06604096]]\n",
      "db = -0.1250040450043965\n",
      "cost = 0.15900537707692405\n",
      "\u001b[92mAll tests passed!\n"
     ]
    }
   ],
   "source": [
    "w =  np.array([[1.], [2]])\n",
    "b = 1.5\n",
    "\n",
    "# X is using 3 examples, with 2 features each\n",
    "# Each example is stacked column-wise\n",
    "X = np.array([[1., -2., -1.], [3., 0.5, -3.2]])\n",
    "Y = np.array([[1, 1, 0]])\n",
    "grads, cost = propagate(w, b, X, Y)\n",
    "\n",
    "assert type(grads[\"dw\"]) == np.ndarray\n",
    "assert grads[\"dw\"].shape == (2, 1)\n",
    "assert type(grads[\"db\"]) == np.float64\n",
    "\n",
    "\n",
    "print (\"dw = \" + str(grads[\"dw\"]))\n",
    "print (\"db = \" + str(grads[\"db\"]))\n",
    "print (\"cost = \" + str(cost))\n",
    "\n",
    "propagate_test(propagate)"
   ]
  },
  {
   "cell_type": "markdown",
   "metadata": {},
   "source": [
    "**Expected output**\n",
    "\n",
    "```\n",
    "dw = [[ 0.25071532]\n",
    " [-0.06604096]]\n",
    "db = -0.1250040450043965\n",
    "cost = 0.15900537707692405\n",
    "```"
   ]
  },
  {
   "cell_type": "markdown",
   "metadata": {},
   "source": [
    "<a name='4-4'></a>\n",
    "### 4.4 - Оптимізація\n",
    "- Ви ініціалізували свої параметри.\n",
    "- Ви також можете обчислити функцію вартості та її градієнт.\n",
    "- Тепер ви хочете оновити параметри, використовуючи градієнтний спуск.\n",
    "\n",
    "<a name='ex-6'></a>\n",
    "### Вправа 6 - optimize\n",
    "Напишіть функцію оптимізації. Мета - навчити $w$ та $b$, мінімізуючи функцію вартості $J$. Для параметра $\\theta$ правило оновлення: $\\theta = \\theta - \\alpha \\text{ } d\\theta$, де $\\alpha$ - швидкість навчання."
   ]
  },
  {
   "cell_type": "code",
   "execution_count": 50,
   "metadata": {
    "deletable": false,
    "nbgrader": {
     "cell_type": "code",
     "checksum": "49d9b4c1a780bf141c8eb48e06cbb494",
     "grade": false,
     "grade_id": "cell-616d6883e807448d",
     "locked": false,
     "schema_version": 3,
     "solution": true,
     "task": false
    }
   },
   "outputs": [],
   "source": [
    "# GRADED FUNCTION: optimize\n",
    "\n",
    "def optimize(w, b, X, Y, num_iterations=100, learning_rate=0.009, print_cost=False):\n",
    "    \"\"\"\n",
    "    Ця функція оптимізує w та b, виконуючи алгоритм градієнтного спуску\n",
    "\n",
    "    Аргументи:\n",
    "        w -- ваги, numpy масив розміру (num_px * num_px * 3, 1)\n",
    "        b -- зміщення, скаляр\n",
    "        X -- дані розміру (num_px * num_px * 3, кількість прикладів)\n",
    "        Y -- вектор \"справжніх\" міток (0 - не кіт, 1 - кіт), розміру (1, кількість прикладів)\n",
    "        num_iterations -- кількість ітерацій циклу оптимізації\n",
    "        learning_rate -- швидкість навчання для правила оновлення градієнтного спуску\n",
    "        print_cost -- True для виведення втрат кожні 100 кроків\n",
    "\n",
    "    Повертає:\n",
    "        params -- словник, що містить ваги w та зміщення b\n",
    "        grads -- словник, що містить градієнти ваг та зміщення відносно функції вартості\n",
    "        costs -- список усіх обчислених значень вартості під час оптимізації (для побудови кривої навчання)\n",
    "\n",
    "    Поради:\n",
    "    Вам потрібно реалізувати два кроки та ітерувати через них:\n",
    "        1) Обчислити вартість та градієнт для поточних параметрів (використати propagate())\n",
    "        2) Оновити параметри за допомогою правила градієнтного спуску для w та b\n",
    "    \"\"\"\n",
    "    \n",
    "    w = copy.deepcopy(w)\n",
    "    b = copy.deepcopy(b)\n",
    "    \n",
    "    costs = []\n",
    "    \n",
    "    for i in range(num_iterations):\n",
    "        # (≈ 1 lines of code)\n",
    "        # Cost and gradient calculation \n",
    "        grads, cost = propagate(w, b, X, Y)\n",
    "        \n",
    "        # Retrieve derivatives from grads\n",
    "        dw = grads[\"dw\"]\n",
    "        db = grads[\"db\"]\n",
    "        \n",
    "        # update rule (≈ 2 lines of code)\n",
    "        w = w - learning_rate * dw\n",
    "        b = b - learning_rate * db\n",
    "        \n",
    "        # Record the costs\n",
    "        if i % 100 == 0:\n",
    "            costs.append(cost)\n",
    "        \n",
    "            # Print the cost every 100 training iterations\n",
    "            if print_cost:\n",
    "                print (\"Cost after iteration %i: %f\" %(i, cost))\n",
    "    \n",
    "    params = {\"w\": w,\n",
    "              \"b\": b}\n",
    "    \n",
    "    grads = {\"dw\": dw,\n",
    "             \"db\": db}\n",
    "    \n",
    "    return params, grads, costs"
   ]
  },
  {
   "cell_type": "code",
   "execution_count": 51,
   "metadata": {
    "deletable": false,
    "editable": false,
    "nbgrader": {
     "cell_type": "code",
     "checksum": "b65a5c90f86a990614156e41f64b4678",
     "grade": true,
     "grade_id": "cell-8e3d43fbb82a8901",
     "locked": true,
     "points": 10,
     "schema_version": 3,
     "solution": false,
     "task": false
    }
   },
   "outputs": [
    {
     "name": "stdout",
     "output_type": "stream",
     "text": [
      "w = [[0.80956046]\n",
      " [2.0508202 ]]\n",
      "b = 1.5948713189708588\n",
      "dw = [[ 0.17860505]\n",
      " [-0.04840656]]\n",
      "db = -0.08888460336847771\n",
      "Costs = [array(0.15900538)]\n",
      "\u001b[92mAll tests passed!\n"
     ]
    }
   ],
   "source": [
    "params, grads, costs = optimize(w, b, X, Y, num_iterations=100, learning_rate=0.009, print_cost=False)\n",
    "\n",
    "print (\"w = \" + str(params[\"w\"]))\n",
    "print (\"b = \" + str(params[\"b\"]))\n",
    "print (\"dw = \" + str(grads[\"dw\"]))\n",
    "print (\"db = \" + str(grads[\"db\"]))\n",
    "print(\"Costs = \" + str(costs))\n",
    "\n",
    "optimize_test(optimize)"
   ]
  },
  {
   "cell_type": "markdown",
   "metadata": {},
   "source": [
    "<a name='ex-7'></a>\n",
    "### Вправа 7 - predict\n",
    "Попередня функція повертає навчені параметри w та b. Ми можемо використовувати w і b для передбачення міток набору даних X. Реалізуйте функцію `predict()`. Є два кроки для обчислення передбачень:\n",
    "\n",
    "1. Обчисліть $\\hat{Y} = A = \\sigma(w^T X + b)$\n",
    "\n",
    "2. Перетворіть значення a у 0 (якщо активація <= 0.5) або 1 (якщо активація > 0.5), зберігаючи передбачення у векторі `Y_prediction`. За бажанням, можете використати `if`/`else` у циклі `for` (хоча існує спосіб векторизувати цю операцію).\n"
   ]
  },
  {
   "cell_type": "code",
   "execution_count": 52,
   "metadata": {
    "deletable": false,
    "nbgrader": {
     "cell_type": "code",
     "checksum": "e56419b97ebf382a8f93ac2873988887",
     "grade": false,
     "grade_id": "cell-d6f924f49c51dc2f",
     "locked": false,
     "schema_version": 3,
     "solution": true,
     "task": false
    }
   },
   "outputs": [],
   "source": [
    "# GRADED FUNCTION: predict\n",
    "\n",
    "def predict(w, b, X):\n",
    "    '''\n",
    "    Прогнозує, чи є мітка 0 чи 1, використовуючи навчені параметри логістичної регресії (w, b)\n",
    "\n",
    "    Аргументи:\n",
    "    w -- ваги, numpy масив розміру (num_px * num_px * 3, 1)\n",
    "    b -- зміщення, скаляр\n",
    "    X -- дані розміру (num_px * num_px * 3, кількість прикладів)\n",
    "\n",
    "    Повертає:\n",
    "    Y_prediction -- numpy масив (вектор), що містить усі прогнози (0/1) для прикладів у X\n",
    "    '''\n",
    "    \n",
    "    m = X.shape[1]\n",
    "    Y_prediction = np.zeros((1, m))\n",
    "    w = w.reshape(X.shape[0], 1)\n",
    "    \n",
    "    # Обчислюємо вектор \"A\", що прогнозує ймовірності наявності кота на зображенні\n",
    "    #(≈ 1 line of code)\n",
    "    A = sigmoid(np.dot(w.T, X) + b)\n",
    "    \n",
    "    # CODE_START\n",
    "    \n",
    "    # Векторизована реалізація (рекомендовано)\n",
    "    Y_prediction = (A > 0.5).astype(int)\n",
    "    \n",
    "\n",
    "    for i in range(A.shape[1]):\n",
    "        # Convert probabilities A[0,i] to actual predictions p[0,i]\n",
    "        #(≈ 4 lines of code)\n",
    "        if A[0, i] > 0.5:\n",
    "            Y_prediction[0, i] = 1\n",
    "        else:\n",
    "            Y_prediction[0, i] = 0\n",
    "        pass\n",
    "    \n",
    "    return Y_prediction"
   ]
  },
  {
   "cell_type": "code",
   "execution_count": 53,
   "metadata": {
    "deletable": false,
    "editable": false,
    "nbgrader": {
     "cell_type": "code",
     "checksum": "e3ea12608f15798d542a07c1bc9f561b",
     "grade": true,
     "grade_id": "cell-90b1fb967269548c",
     "locked": true,
     "points": 10,
     "schema_version": 3,
     "solution": false,
     "task": false
    }
   },
   "outputs": [
    {
     "name": "stdout",
     "output_type": "stream",
     "text": [
      "predictions = [[1 1 0]]\n",
      "\u001b[92mAll tests passed!\n"
     ]
    }
   ],
   "source": [
    "w = np.array([[0.1124579], [0.23106775]])\n",
    "b = -0.3\n",
    "X = np.array([[1., -1.1, -3.2],[1.2, 2., 0.1]])\n",
    "print (\"predictions = \" + str(predict(w, b, X)))\n",
    "\n",
    "predict_test(predict)"
   ]
  },
  {
   "cell_type": "markdown",
   "metadata": {},
   "source": [
    "Ви реалізували кілька ключових функцій, які:\n",
    "\n",
    "1. Ініціалізують параметри (w, b)\n",
    "2. Оптимізують функцію втрат для навчання параметрів (w, b):\n",
    "   - Обчислюють вартість та її градієнт\n",
    "   - Оновлюють параметри за допомогою градієнтного спуску\n",
    "3. Використовують навчені параметри (w, b) для прогнозування міток на заданому наборі прикладів\n",
    "\n",
    "Ці функції формують повний конвеєр логістичної регресії, реалізованої з використанням підходу нейронних мереж. Кожен етап є важливою складовою процесу машинного навчання."
   ]
  },
  {
   "cell_type": "markdown",
   "metadata": {},
   "source": [
    "<a name='5'></a>\n",
    "## 5 - Об'єднання всіх функцій у модель ##\n",
    "\n",
    "Тепер ви побачите, як структурована загальна модель, об'єднавши всі складові елементи (функції, реалізовані в попередніх частинах) у правильному порядку.\n",
    "\n",
    "<a name='ex-8'></a>\n",
    "### Вправа 8 - model\n",
    "Реалізуйте функцію model. Використовуйте наступні позначення:\n",
    "- `Y_prediction_test` для ваших прогнозів на тестовому наборі\n",
    "- `Y_prediction_train` для ваших прогнозів на навчальному наборі\n",
    "- `parameters`, `grads`, `costs` для виводу функції optimize()"
   ]
  },
  {
   "cell_type": "code",
   "execution_count": 54,
   "metadata": {
    "deletable": false,
    "nbgrader": {
     "cell_type": "code",
     "checksum": "b62adfb8f5a0f5bb5aa6798c3c5df66d",
     "grade": false,
     "grade_id": "cell-6dcba5967c4cbf8c",
     "locked": false,
     "schema_version": 3,
     "solution": true,
     "task": false
    }
   },
   "outputs": [],
   "source": [
    "# GRADED FUNCTION: model\n",
    "\n",
    "def model(X_train, Y_train, X_test, Y_test, num_iterations=2000, learning_rate=0.5, print_cost=False):\n",
    "    \"\"\"\n",
    "    Побудова моделі логістичної регресії шляхом виклику раніше реалізованих функцій\n",
    "\n",
    "    Аргументи:\n",
    "        X_train -- навчальний набір у вигляді numpy масиву розміру (num_px * num_px * 3, m_train)\n",
    "        Y_train -- навчальні мітки у вигляді numpy масиву (вектора) розміру (1, m_train)\n",
    "        X_test -- тестовий набір у вигляді numpy масиву розміру (num_px * num_px * 3, m_test)\n",
    "        Y_test -- тестові мітки у вигляді numpy масиву (вектора) розміру (1, m_test)\n",
    "        num_iterations -- гіперпараметр, що визначає кількість ітерацій оптимізації\n",
    "        learning_rate -- гіперпараметр, що визначає швидкість навчання для optimize()\n",
    "        print_cost -- Якщо True, виводить значення функції втрат кожні 100 ітерацій\n",
    "\n",
    "    Повертає:\n",
    "        d -- словник з інформацією про модель\n",
    "    \"\"\"\n",
    "    # Ініціалізація параметрів нулями\n",
    "    # and use the \"shape\" function to get the first dimension of X_train\n",
    "    w, b = initialize_with_zeros(X_train.shape[0])\n",
    "    \n",
    "    # Градієнтний спуск\n",
    "    params, grads, costs = optimize(w, b, X_train, Y_train, num_iterations, learning_rate, print_cost)\n",
    "    \n",
    "    # Отримання параметрів w та b зі словника params\n",
    "    w = params[\"w\"]\n",
    "    b = params[\"b\"]\n",
    "    \n",
    "    # Прогнозування для тестового/навчального наборів\n",
    "    Y_prediction_test = predict(w, b, X_test)\n",
    "    Y_prediction_train = predict(w, b, X_train)\n",
    "    \n",
    "\n",
    "    # Print train/test Errors\n",
    "    if print_cost:\n",
    "        print(\"Точність на навчальному наборі: {} %\".format(100 - np.mean(np.abs(Y_prediction_train - Y_train)) * 100))\n",
    "        print(\"test accuracy: {} %\".format(100 - np.mean(np.abs(Y_prediction_test - Y_test)) * 100))\n",
    "\n",
    "    \n",
    "    d = {\"costs\": costs,\n",
    "         \"Y_prediction_test\": Y_prediction_test, \n",
    "         \"Y_prediction_train\" : Y_prediction_train, \n",
    "         \"w\" : w, \n",
    "         \"b\" : b,\n",
    "         \"learning_rate\" : learning_rate,\n",
    "         \"num_iterations\": num_iterations}\n",
    "    \n",
    "    return d"
   ]
  },
  {
   "cell_type": "code",
   "execution_count": 55,
   "metadata": {
    "deletable": false,
    "editable": false,
    "nbgrader": {
     "cell_type": "code",
     "checksum": "b468bc5ddf6ecc5c7dbcb9a02cfe0216",
     "grade": true,
     "grade_id": "cell-4170e070f3cde17e",
     "locked": true,
     "points": 10,
     "schema_version": 3,
     "solution": false,
     "task": false
    }
   },
   "outputs": [
    {
     "name": "stdout",
     "output_type": "stream",
     "text": [
      "\u001b[92mAll tests passed!\n"
     ]
    }
   ],
   "source": [
    "from public_tests import *\n",
    "\n",
    "model_test(model)"
   ]
  },
  {
   "cell_type": "markdown",
   "metadata": {},
   "source": [
    "If you pass all the tests, run the following cell to train your model."
   ]
  },
  {
   "cell_type": "code",
   "execution_count": 56,
   "metadata": {},
   "outputs": [
    {
     "name": "stdout",
     "output_type": "stream",
     "text": [
      "Cost after iteration 0: 0.693147\n",
      "Cost after iteration 100: 0.584508\n",
      "Cost after iteration 200: 0.466949\n",
      "Cost after iteration 300: 0.376007\n",
      "Cost after iteration 400: 0.331463\n",
      "Cost after iteration 500: 0.303273\n",
      "Cost after iteration 600: 0.279880\n",
      "Cost after iteration 700: 0.260042\n",
      "Cost after iteration 800: 0.242941\n",
      "Cost after iteration 900: 0.228004\n",
      "Cost after iteration 1000: 0.214820\n",
      "Cost after iteration 1100: 0.203078\n",
      "Cost after iteration 1200: 0.192544\n",
      "Cost after iteration 1300: 0.183033\n",
      "Cost after iteration 1400: 0.174399\n",
      "Cost after iteration 1500: 0.166521\n",
      "Cost after iteration 1600: 0.159305\n",
      "Cost after iteration 1700: 0.152667\n",
      "Cost after iteration 1800: 0.146542\n",
      "Cost after iteration 1900: 0.140872\n",
      "Точність на навчальному наборі: 99.04306220095694 %\n",
      "test accuracy: 70.0 %\n"
     ]
    }
   ],
   "source": [
    "logistic_regression_model = model(train_set_x, train_set_y, test_set_x, test_set_y, num_iterations=2000, learning_rate=0.005, print_cost=True)"
   ]
  },
  {
   "cell_type": "markdown",
   "metadata": {},
   "source": [
    "**Коментар**:\n",
    "\n",
    "* Точність на тренувальних даних близька до 100%. Це гарна перевірка здорового глузду: ваша модель працює і має достатню ємність, щоб запам’ятати тренувальні дані.\n",
    "* Точність на тестових даних — 70%. Насправді це непогано для такої простої моделі, з огляду на невеликий обсяг даних і те, що логістична регресія є лінійним класифікатором.\n",
    "\n",
    "Також видно, що модель явно перенавчається на тренувальних даних.\n",
    "\n",
    "Використовуючи наведений нижче код (і змінюючи змінну `index`), ви можете переглядати передбачення для зображень із тестового набору.\n",
    "\n"
   ]
  },
  {
   "cell_type": "code",
   "execution_count": 78,
   "metadata": {},
   "outputs": [
    {
     "name": "stdout",
     "output_type": "stream",
     "text": [
      "y = 1, you predicted that it is a \"cat\" picture.\n"
     ]
    },
    {
     "data": {
      "image/png": "[encoded data removed]",
      "text/plain": [
       "<Figure size 640x480 with 1 Axes>"
      ]
     },
     "metadata": {},
     "output_type": "display_data"
    }
   ],
   "source": [
    "# Example of a picture that was wrongly classified.\n",
    "index = 1\n",
    "plt.imshow(test_set_x[:, index].reshape((num_px, num_px, 3)))\n",
    "print (\"y = \" + str(test_set_y[0,index]) + \", you predicted that it is a \\\"\" + classes[int(logistic_regression_model['Y_prediction_test'][0,index])].decode(\"utf-8\") +  \"\\\" picture.\")"
   ]
  },
  {
   "cell_type": "markdown",
   "metadata": {},
   "source": [
    "Let's also plot the cost function and the gradients."
   ]
  },
  {
   "cell_type": "code",
   "execution_count": 28,
   "metadata": {},
   "outputs": [
    {
     "data": {
      "image/png": "[encoded data removed]",
      "text/plain": [
       "<Figure size 640x480 with 1 Axes>"
      ]
     },
     "metadata": {},
     "output_type": "display_data"
    }
   ],
   "source": [
    "# Plot learning curve (with costs)\n",
    "costs = np.squeeze(logistic_regression_model['costs'])\n",
    "plt.plot(costs)\n",
    "plt.ylabel('cost')\n",
    "plt.xlabel('iterations (per hundreds)')\n",
    "plt.title(\"Learning rate =\" + str(logistic_regression_model[\"learning_rate\"]))\n",
    "plt.show()"
   ]
  },
  {
   "cell_type": "markdown",
   "metadata": {},
   "source": [
    "**Інтерпретація**:\n",
    "Ви можете бачити, що вартість (cost) зменшується. Це свідчить про те, що параметри навчаються. Проте видно, що модель ще можна було б додатково натренувати на тренувальному наборі. Спробуйте збільшити кількість ітерацій у клітинці вище та перезапустити клітинки. Ви можете побачити, що точність на тренувальному наборі зросте, але точність на тестовому — знизиться. Це називається **перенавчанням**.\n"
   ]
  },
  {
   "cell_type": "markdown",
   "metadata": {},
   "source": [
    "<a name='6'></a>\n",
    "\n",
    "## 6 – Подальший аналіз\n",
    "\n",
    "Вітаємо з побудовою вашої першої моделі для класифікації зображень. Давайте проаналізуємо її глибше та розглянемо можливі варіанти вибору коефіцієнта навчання \n",
    "\n"
   ]
  },
  {
   "cell_type": "markdown",
   "metadata": {},
   "source": [
    "#### Вибір коефіцієнта навчання\n",
    "\n",
    "**Нагадування**:\n",
    "Щоб градієнтний спуск працював коректно, потрібно правильно вибрати коефіцієнт навчання. Коефіцієнт навчання \\$\\alpha\\$ визначає, наскільки швидко ми оновлюємо параметри. Якщо він занадто великий, ми можемо «перестрибнути» оптимальне значення. Якщо ж занадто малий — знадобиться дуже багато ітерацій, щоб збігтись до найкращих значень. Тому надзвичайно важливо використовувати добре підібраний коефіцієнт навчання.\n",
    "\n",
    "Давайте порівняємо графіки навчання нашої моделі при кількох значеннях коефіцієнта навчання. Запустіть клітинку нижче — це має зайняти приблизно 1 хвилину. Також ви можете спробувати інші значення, окрім тих трьох, які вже встановлені у змінній `learning_rates`, і подивитися, що вийде.\n",
    "\n"
   ]
  },
  {
   "cell_type": "code",
   "execution_count": 29,
   "metadata": {},
   "outputs": [
    {
     "name": "stdout",
     "output_type": "stream",
     "text": [
      "Training a model with learning rate: 0.01\n",
      "\n",
      "-------------------------------------------------------\n",
      "\n",
      "Training a model with learning rate: 0.001\n",
      "\n",
      "-------------------------------------------------------\n",
      "\n",
      "Training a model with learning rate: 0.0001\n",
      "\n",
      "-------------------------------------------------------\n",
      "\n"
     ]
    },
    {
     "data": {
      "image/png": "[encoded data removed]",
      "text/plain": [
       "<Figure size 640x480 with 1 Axes>"
      ]
     },
     "metadata": {},
     "output_type": "display_data"
    }
   ],
   "source": [
    "learning_rates = [0.01, 0.001, 0.0001]\n",
    "models = {}\n",
    "\n",
    "for lr in learning_rates:\n",
    "    print (\"Training a model with learning rate: \" + str(lr))\n",
    "    models[str(lr)] = model(train_set_x, train_set_y, test_set_x, test_set_y, num_iterations=1500, learning_rate=lr, print_cost=False)\n",
    "    print ('\\n' + \"-------------------------------------------------------\" + '\\n')\n",
    "\n",
    "for lr in learning_rates:\n",
    "    plt.plot(np.squeeze(models[str(lr)][\"costs\"]), label=str(models[str(lr)][\"learning_rate\"]))\n",
    "\n",
    "plt.ylabel('cost')\n",
    "plt.xlabel('iterations (hundreds)')\n",
    "\n",
    "legend = plt.legend(loc='upper center', shadow=True)\n",
    "frame = legend.get_frame()\n",
    "frame.set_facecolor('0.90')\n",
    "plt.show()"
   ]
  },
  {
   "cell_type": "markdown",
   "metadata": {},
   "source": [
    "**Інтерпретація**:\n",
    "\n",
    "* Різні коефіцієнти навчання дають різні значення функції втрат і, відповідно, різні результати передбачення.\n",
    "* Якщо коефіцієнт навчання занадто великий (наприклад, 0.01), функція втрат може коливатися вгору-вниз. Вона навіть може розійтися (хоча в цьому прикладі, використовуючи 0.01, вартість зрештою сходиться до хорошого значення).\n",
    "* Нижча вартість (cost) не завжди означає кращу модель. Потрібно перевіряти, чи немає перенавчання. Це відбувається, коли точність на тренувальних даних значно вища, ніж на тестових.\n",
    "* У глибокому навчанні зазвичай рекомендується:\n",
    "\n",
    "  * Вибирати такий коефіцієнт навчання, який краще мінімізує функцію втрат.\n",
    "  * Якщо ваша модель перенавчається, використовуйте інші техніки для зменшення перенавчання. (Ми поговоримо про це в наступних відео.)\n"
   ]
  },
  {
   "cell_type": "markdown",
   "metadata": {},
   "source": [
    "<a name='7'></a>\n",
    "\n",
    "## 7 – Перевірка на власному зображенні\n",
    "\n",
    "Вітаємо із завершенням цього завдання! Тепер ви можете використати власне зображення й подивитися, як ваша модель спрацює. Щоб це зробити:\n",
    "\n",
    "1. Додайте ваше зображення до каталогу цього Jupyter Notebook, у папку “images”\n",
    "2. Змініть назву зображення у відповідному рядку коду\n",
    "3. Запустіть код і перевірте, чи алгоритм правильно класифікує зображення (1 = кіт, 0 = не кіт)\n"
   ]
  },
  {
   "cell_type": "code",
   "execution_count": 81,
   "metadata": {},
   "outputs": [
    {
     "name": "stdout",
     "output_type": "stream",
     "text": [
      "y = 0, your algorithm predicts a \"non-cat\" picture.\n"
     ]
    },
    {
     "data": {
      "image/png": "[encoded data removed]",
      "text/plain": [
       "<Figure size 640x480 with 1 Axes>"
      ]
     },
     "metadata": {},
     "output_type": "display_data"
    }
   ],
   "source": [
    "# change this to the name of your image file\n",
    "my_image = \"Cats-image-cats-36712791-1222-917.jpg\"   \n",
    "\n",
    "# We preprocess the image to fit your algorithm.\n",
    "fname = \"images/\" + my_image\n",
    "image = np.array(Image.open(fname).resize((num_px, num_px)))\n",
    "plt.imshow(image)\n",
    "image = image / 255.\n",
    "image = image.reshape((1, num_px * num_px * 3)).T\n",
    "my_predicted_image = predict(logistic_regression_model[\"w\"], logistic_regression_model[\"b\"], image)\n",
    "\n",
    "print(\"y = \" + str(np.squeeze(my_predicted_image)) + \", your algorithm predicts a \\\"\" + classes[int(np.squeeze(my_predicted_image)),].decode(\"utf-8\") +  \"\\\" picture.\")"
   ]
  },
  {
   "cell_type": "markdown",
   "metadata": {},
   "source": [
    "**Важливо:**\n",
    "\n",
    "1. Попередня обробка датасету має велике значення.\n",
    "2. Ви реалізували кожну функцію окремо: `initialize()`, `propagate()`, `optimize()`. Потім ви побудували повну модель за допомогою `model()`.\n",
    "3. Налаштування коефіцієнта навчання (який є прикладом «гіперпараметра») може суттєво вплинути на ефективність алгоритму. У наступних частинах курсу ви побачите ще більше прикладів цього!"
   ]
  },
  {
   "cell_type": "markdown",
   "metadata": {},
   "source": [
    "Наостанок, якщо хочете, ми запрошуємо вас поекспериментувати з цим ноутбуком. Обов’язково надішліть свою роботу перед тим, як почнете щось змінювати. Після відправки ви можете спробувати таке:\n",
    "\n",
    "* Пограйтеся з коефіцієнтом навчання та кількістю ітерацій\n",
    "* Спробуйте різні методи ініціалізації параметрів і порівняйте результати\n",
    "* Перевірте інші способи попередньої обробки даних (наприклад, центроване масштабування або поділ кожного рядка на його стандартне відхилення)\n"
   ]
  },
  {
   "cell_type": "markdown",
   "metadata": {},
   "source": [
    "**Recommended reading**:\n",
    "- http://www.wildml.com/2015/09/implementing-a-neural-network-from-scratch/\n",
    "- https://stats.stackexchange.com/questions/211436/why-do-we-normalize-images-by-subtracting-the-datasets-image-mean-and-not-the-c"
   ]
  },
  {
   "cell_type": "code",
   "execution_count": null,
   "metadata": {},
   "outputs": [],
   "source": []
  }
 ],
 "metadata": {
  "kernelspec": {
   "display_name": "Python 3 (ipykernel)",
   "language": "python",
   "name": "python3"
  },
  "language_info": {
   "codemirror_mode": {
    "name": "ipython",
    "version": 3
   },
   "file_extension": ".py",
   "mimetype": "text/x-python",
   "name": "python",
   "nbconvert_exporter": "python",
   "pygments_lexer": "ipython3",
   "version": "3.11.3"
  }
 },
 "nbformat": 4,
 "nbformat_minor": 4
}
