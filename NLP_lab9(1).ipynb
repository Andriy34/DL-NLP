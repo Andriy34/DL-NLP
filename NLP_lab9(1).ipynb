{
 "cells": [
  {
   "cell_type": "code",
   "execution_count": 22,
   "id": "93ff17b7-c173-4ff5-8fa5-26e760353865",
   "metadata": {},
   "outputs": [],
   "source": [
    "import gensim\n",
    "\n",
    "assert gensim.models.doc2vec.FAST_VERSION > -1"
   ]
  },
  {
   "cell_type": "code",
   "execution_count": 23,
   "id": "fd213c03-cccd-4352-859a-81255ddf3393",
   "metadata": {},
   "outputs": [],
   "source": [
    "import gensim\n",
    "import gensim.test.utils\n",
    "\n",
    "# Set file names for train and test data\n",
    "lee_train_file = gensim.test.utils.datapath('lee_background.cor')\n",
    "lee_test_file = gensim.test.utils.datapath('lee.cor')"
   ]
  },
  {
   "cell_type": "code",
   "execution_count": 24,
   "id": "16ac0719-a680-4662-8821-e800dda7f4ca",
   "metadata": {},
   "outputs": [
    {
     "name": "stdout",
     "output_type": "stream",
     "text": [
      "TaggedDocument<['the', 'national', 'road', 'toll', 'for', 'the', 'christmas', 'new', 'year', 'holiday', 'period', 'stands', 'at', 'eight', 'fewer', 'than', 'for', 'the', 'same', 'time', 'last', 'year', 'people', 'have', 'died', 'on', 'new', 'south', 'wales', 'roads', 'with', 'eight', 'fatalities', 'in', 'both', 'queensland', 'and', 'victoria', 'western', 'australia', 'the', 'northern', 'territory', 'and', 'south', 'australia', 'have', 'each', 'recorded', 'three', 'deaths', 'while', 'the', 'act', 'and', 'tasmania', 'remain', 'fatality', 'free'], [2]>\n",
      "['the', 'united', 'states', 'government', 'has', 'said', 'it', 'wants', 'to', 'see', 'president', 'robert', 'mugabe', 'removed', 'from', 'power', 'and', 'that', 'it', 'is', 'working', 'with', 'the', 'zimbabwean', 'opposition', 'to', 'bring', 'about', 'change', 'of', 'administration', 'as', 'scores', 'of', 'white', 'farmers', 'went', 'into', 'hiding', 'to', 'escape', 'round', 'up', 'by', 'zimbabwean', 'police', 'senior', 'bush', 'administration', 'official', 'called', 'mr', 'mugabe', 'rule', 'illegitimate', 'and', 'irrational', 'and', 'said', 'that', 'his', 're', 'election', 'as', 'president', 'in', 'march', 'was', 'won', 'through', 'fraud', 'walter', 'kansteiner', 'the', 'assistant', 'secretary', 'of', 'state', 'for', 'african', 'affairs', 'went', 'on', 'to', 'blame', 'mr', 'mugabe', 'policies', 'for', 'contributing', 'to', 'the', 'threat', 'of', 'famine', 'in', 'zimbabwe']\n"
     ]
    }
   ],
   "source": [
    "import smart_open\n",
    "\n",
    "def read_corpus(fname, tokens_only=False):\n",
    "    with smart_open.open(fname, encoding=\"iso-8859-1\") as f:\n",
    "        for i, line in enumerate(f):\n",
    "            tokens = gensim.utils.simple_preprocess(line)\n",
    "            if tokens_only:\n",
    "                yield tokens\n",
    "            else:\n",
    "                # For training data, add tags\n",
    "                yield gensim.models.doc2vec.TaggedDocument(tokens, [i])\n",
    "\n",
    "train_corpus = list(read_corpus(lee_train_file))\n",
    "test_corpus = list(read_corpus(lee_test_file, tokens_only=True))\n",
    "\n",
    "print(train_corpus[2])\n",
    "print(test_corpus[2])"
   ]
  },
  {
   "cell_type": "code",
   "execution_count": 25,
   "id": "81d14b5c-fd9d-4006-96ca-4f6a3207d0cb",
   "metadata": {},
   "outputs": [
    {
     "data": {
      "text/plain": [
       "<gensim.models.doc2vec.Doc2Vec at 0x163a59a50>"
      ]
     },
     "execution_count": 25,
     "metadata": {},
     "output_type": "execute_result"
    }
   ],
   "source": [
    "import gensim.models\n",
    "\n",
    "model = gensim.models.doc2vec.Doc2Vec(vector_size=50, min_count=2, epochs=40)\n",
    "model"
   ]
  },
  {
   "cell_type": "code",
   "execution_count": 26,
   "id": "1d88f054-e65e-46ed-a3c9-5fa5c0aa92d4",
   "metadata": {},
   "outputs": [],
   "source": [
    "model.build_vocab(train_corpus)"
   ]
  },
  {
   "cell_type": "code",
   "execution_count": 27,
   "id": "be63508b-d7e9-4b00-8c90-962402383c00",
   "metadata": {},
   "outputs": [],
   "source": [
    "model.train(train_corpus, total_examples=model.corpus_count, epochs=model.epochs)"
   ]
  },
  {
   "cell_type": "code",
   "execution_count": 28,
   "id": "24502c0b-396a-49c3-9e07-24b0a2a1d94b",
   "metadata": {},
   "outputs": [
    {
     "data": {
      "text/plain": [
       "<gensim.models.keyedvectors.KeyedVectors at 0x12ec01950>"
      ]
     },
     "execution_count": 28,
     "metadata": {},
     "output_type": "execute_result"
    }
   ],
   "source": [
    "model.dv"
   ]
  },
  {
   "cell_type": "code",
   "execution_count": 29,
   "id": "25aeb95d-4bf0-4d5d-b201-05e5fe605148",
   "metadata": {},
   "outputs": [
    {
     "name": "stdout",
     "output_type": "stream",
     "text": [
      "[-2.3635106e-01 -3.2055363e-01 -7.6372109e-02  1.1140015e-01\n",
      "  1.1086052e-01 -1.2266620e-01 -5.4258130e-02  1.6664676e-04\n",
      " -3.0656746e-01 -1.5667590e-01  1.7392519e-01 -9.2228957e-02\n",
      "  1.6458532e-02 -4.1063368e-02 -1.6505621e-01 -1.9231008e-01\n",
      "  8.3026715e-02  1.7636187e-01  5.5203233e-02 -5.2253019e-02\n",
      "  5.9847429e-02  1.3428758e-02  1.2728877e-01 -6.4704165e-02\n",
      "  9.8073110e-03 -9.7042799e-02 -1.9156255e-01 -5.4943562e-02\n",
      " -1.0790176e-01 -7.5596102e-02  3.2569042e-01 -5.4641094e-02\n",
      "  9.8457046e-02  1.0474536e-01  1.5373200e-01  1.0982167e-01\n",
      " -1.2166955e-03 -1.6161810e-01 -1.1089631e-01  6.2733620e-02\n",
      " -7.4537322e-02 -8.6963400e-02  3.3904400e-02  2.1911137e-02\n",
      " -3.7665091e-02  2.6002578e-02 -1.2024457e-01 -3.0789163e-02\n",
      "  1.4448050e-01 -6.8067797e-02]\n"
     ]
    }
   ],
   "source": [
    "vector = model.infer_vector(['only', 'you', 'can', 'prevent', 'forest', 'fires'])\n",
    "print(vector)"
   ]
  },
  {
   "cell_type": "code",
   "execution_count": 30,
   "id": "27b1e8b3-bff0-44c1-b1f4-0db9ff9861ce",
   "metadata": {},
   "outputs": [
    {
     "name": "stdout",
     "output_type": "stream",
     "text": [
      "Counter({0: 291, 1: 9})\n"
     ]
    }
   ],
   "source": [
    "ranks = []\n",
    "second_ranks = []\n",
    "for doc_id in range(len(train_corpus)):\n",
    "    inferred_vector = model.infer_vector(train_corpus[doc_id].words)\n",
    "    sims = model.dv.most_similar([inferred_vector], topn=len(model.dv))\n",
    "    rank = [docid for docid, sim in sims].index(doc_id)\n",
    "    ranks.append(rank)\n",
    "\n",
    "    second_ranks.append(sims[1])\n",
    "\n",
    "import collections\n",
    "\n",
    "counter = collections.Counter(ranks)\n",
    "print(counter)"
   ]
  },
  {
   "cell_type": "code",
   "execution_count": 31,
   "id": "35e40fd2-7852-4bae-b77b-896c8253533f",
   "metadata": {},
   "outputs": [
    {
     "name": "stdout",
     "output_type": "stream",
     "text": [
      "Test Document (37): «robert mugabe strengthened his hold on the zimbabwean government yesterday by retaining the most combative hardliner ministers in cabinet shuffle which offered little hope of moderation of the land seizures and other policies that have kept zimbabwe in crisis and brought international condemnation»\n",
      "\n",
      "SIMILAR/DISSIMILAR DOCS PER MODEL Doc2Vec<dm/m,d50,n5,w5,mc2,s0.001,t3>:\n",
      "\n",
      "MOST (94, 0.7746660709381104): «foreign minister alexander downer says the commonwealth democracy watchdog should put zimbabwe formally on its agenda in the first step to possible suspension from the organisation mr downer says ministers from the commonwealth ministerial action group cmag should review whether the reported violence and intimidation in zimbabwe means it has violated the commonwealth code of good governance cmag ministers from australia bangladesh barbados botswana britain canada malaysia and nigeria will meet in london tomorrow for talks on zimbabwe in recent meetings they have suspended both fiji and pakistan following military coups however their talks on the violent campaign of farm occupations in zimbabwe have been restricted to informal discussions as president robert mugabe government holds power through recognised elections mr downer also says the commonwealth ministers should maintain pressure on president mugabe to allow international observers to oversee presidential elections next march»\n",
      "\n",
      "MEDIAN (41, 0.3542448878288269): «the man accused to trying to blow up an american airlines flight on sunday could not have acted alone according to british islamic leader who knew richard reid well abdul hak baker is the head of the brixton mosque in south london where year old mr reid had worshipped mr baker says mr reid is petty criminal who had converted to islam while in jail he says mr reid had become more and more militant in his outlook after becoming involved with group of muslim extremists the mosque leader says mr reid was easily led and he is not surprised at what happened wouldn say we were totally surprised because we said if we remember how he left us this is what he was believing in mr baker said this was the type of jihad that he was beginning to believe in september the eleventh would have had profound effect on him meanwhile us television is reporting osama bin laden loyalists held prisoner in afghanistan have told us troops mr reid trained in their camps»\n",
      "\n",
      "LEAST (6, -0.04244854673743248): «the united states team of monica seles and jan michael gambill scored decisive victory over unseeded france in their first hopman cup match at burswood dome in perth the pair runners up in the million dollar mixed teams event last year both won their singles encounters to give the us an unbeatable lead the year old seles currently ranked eighth recovered from shaky start to overpower virginie razzano who is ranked nd seles had to fight hard to get home in straight sets winning in minutes then the year old gambill ranked st wore down determined arnaud clement th to win in minutes the americans are aiming to go one better than last year when they were beaten by swiss pair martina hingis and roger federer in the final of the eight nation contest gambill said the win was great way to start the tennis year got little tentative at the end but it was great start to my year he said arnaud is great scrapper and am delighted to beat him even though am frankly bit out of shape that is one of the reasons am here will be in shape by the end of the tournament just aim to keep improving in the new year and if do think have chance to beat anyone when am playing well gambill was pressed hard by clement before taking the first set in minutes but the american gained the ascendancy in the second set breaking in the third and fifth games seles said she had expected her clash with razzano to be tough she was top junior player in the world so it was no surprise that she fought so well she said seles said she still had the hunger to strive to regain her position at the top of her sport this is why you play she said but want to try not to peak too early this season seles slow into her stride slipped to in her opening set against razzano but recovered quickly claiming the set after snatching four games in row in the second set seles broke her opponent in the opening game and completed victory with relative ease despite razzano tenacious efforts»\n",
      "\n"
     ]
    }
   ],
   "source": [
    "import random\n",
    "\n",
    "# Pick a random document from the test corpus and infer a vector from the model\n",
    "doc_id = random.randint(0, len(test_corpus) - 1)\n",
    "inferred_vector = model.infer_vector(test_corpus[doc_id])\n",
    "sims = model.dv.most_similar([inferred_vector], topn=len(model.dv))\n",
    "\n",
    "# Compare and print the most/median/least similar documents from the train corpus\n",
    "print('Test Document ({}): «{}»\\n'.format(doc_id, ' '.join(test_corpus[doc_id])))\n",
    "print(u'SIMILAR/DISSIMILAR DOCS PER MODEL %s:\\n' % model)\n",
    "for label, index in [('MOST', 0), ('MEDIAN', len(sims)//2), ('LEAST', len(sims) - 1)]:\n",
    "    print(u'%s %s: «%s»\\n' % (label, sims[index], ' '.join(train_corpus[sims[index][0]].words)))"
   ]
  },
  {
   "cell_type": "markdown",
   "id": "4cdd6be7-c617-400b-a332-ceaac64ec537",
   "metadata": {},
   "source": [
    "## Exercises"
   ]
  },
  {
   "cell_type": "code",
   "execution_count": 32,
   "id": "5e74b306-ec3f-47b0-8b59-1963e833b998",
   "metadata": {},
   "outputs": [
    {
     "name": "stdout",
     "output_type": "stream",
     "text": [
      "Requirement already satisfied: fastparquet in /Users/boykosvitlana/dl_venv/lib/python3.11/site-packages (2024.11.0)\n",
      "Requirement already satisfied: pandas>=1.5.0 in /Users/boykosvitlana/dl_venv/lib/python3.11/site-packages (from fastparquet) (2.2.3)\n",
      "Requirement already satisfied: numpy in /Users/boykosvitlana/dl_venv/lib/python3.11/site-packages (from fastparquet) (1.26.4)\n",
      "Requirement already satisfied: cramjam>=2.3 in /Users/boykosvitlana/dl_venv/lib/python3.11/site-packages (from fastparquet) (2.10.0)\n",
      "Requirement already satisfied: fsspec in /Users/boykosvitlana/dl_venv/lib/python3.11/site-packages (from fastparquet) (2025.3.0)\n",
      "Requirement already satisfied: packaging in /Users/boykosvitlana/dl_venv/lib/python3.11/site-packages (from fastparquet) (25.0)\n",
      "Requirement already satisfied: python-dateutil>=2.8.2 in /Users/boykosvitlana/dl_venv/lib/python3.11/site-packages (from pandas>=1.5.0->fastparquet) (2.9.0.post0)\n",
      "Requirement already satisfied: pytz>=2020.1 in /Users/boykosvitlana/dl_venv/lib/python3.11/site-packages (from pandas>=1.5.0->fastparquet) (2025.2)\n",
      "Requirement already satisfied: tzdata>=2022.7 in /Users/boykosvitlana/dl_venv/lib/python3.11/site-packages (from pandas>=1.5.0->fastparquet) (2025.2)\n",
      "Requirement already satisfied: six>=1.5 in /Users/boykosvitlana/dl_venv/lib/python3.11/site-packages (from python-dateutil>=2.8.2->pandas>=1.5.0->fastparquet) (1.17.0)\n",
      "\n",
      "\u001b[1m[\u001b[0m\u001b[34;49mnotice\u001b[0m\u001b[1;39;49m]\u001b[0m\u001b[39;49m A new release of pip available: \u001b[0m\u001b[31;49m22.3.1\u001b[0m\u001b[39;49m -> \u001b[0m\u001b[32;49m25.1.1\u001b[0m\n",
      "\u001b[1m[\u001b[0m\u001b[34;49mnotice\u001b[0m\u001b[1;39;49m]\u001b[0m\u001b[39;49m To update, run: \u001b[0m\u001b[32;49mpip install --upgrade pip\u001b[0m\n"
     ]
    }
   ],
   "source": [
    "!pip install fastparquet"
   ]
  },
  {
   "cell_type": "code",
   "execution_count": null,
   "id": "86667668-84a9-4f80-8f01-4f2cbfb88b19",
   "metadata": {},
   "outputs": [],
   "source": []
  },
  {
   "cell_type": "markdown",
   "id": "f9a50cf1-9839-499e-96d6-0dbe6f132a91",
   "metadata": {},
   "source": [
    "#### Task 0. Train your own doc2vec model on a test dataset. Most of the example files use Parquet file format. A short guide below."
   ]
  },
  {
   "cell_type": "code",
   "execution_count": 47,
   "id": "7bbcbf52-c101-41cd-bae1-adf1c309fb64",
   "metadata": {},
   "outputs": [
    {
     "data": {
      "text/html": [
       "<div>\n",
       "<style scoped>\n",
       "    .dataframe tbody tr th:only-of-type {\n",
       "        vertical-align: middle;\n",
       "    }\n",
       "\n",
       "    .dataframe tbody tr th {\n",
       "        vertical-align: top;\n",
       "    }\n",
       "\n",
       "    .dataframe thead th {\n",
       "        text-align: right;\n",
       "    }\n",
       "</style>\n",
       "<table border=\"1\" class=\"dataframe\">\n",
       "  <thead>\n",
       "    <tr style=\"text-align: right;\">\n",
       "      <th></th>\n",
       "      <th>text</th>\n",
       "      <th>label</th>\n",
       "    </tr>\n",
       "  </thead>\n",
       "  <tbody>\n",
       "    <tr>\n",
       "      <th>0</th>\n",
       "      <td>Fears for T N pension after talks Unions repre...</td>\n",
       "      <td>2</td>\n",
       "    </tr>\n",
       "    <tr>\n",
       "      <th>1</th>\n",
       "      <td>The Race is On: Second Private Team Sets Launc...</td>\n",
       "      <td>3</td>\n",
       "    </tr>\n",
       "    <tr>\n",
       "      <th>2</th>\n",
       "      <td>Ky. Company Wins Grant to Study Peptides (AP) ...</td>\n",
       "      <td>3</td>\n",
       "    </tr>\n",
       "    <tr>\n",
       "      <th>3</th>\n",
       "      <td>Prediction Unit Helps Forecast Wildfires (AP) ...</td>\n",
       "      <td>3</td>\n",
       "    </tr>\n",
       "    <tr>\n",
       "      <th>4</th>\n",
       "      <td>Calif. Aims to Limit Farm-Related Smog (AP) AP...</td>\n",
       "      <td>3</td>\n",
       "    </tr>\n",
       "    <tr>\n",
       "      <th>...</th>\n",
       "      <td>...</td>\n",
       "      <td>...</td>\n",
       "    </tr>\n",
       "    <tr>\n",
       "      <th>7595</th>\n",
       "      <td>Around the world Ukrainian presidential candid...</td>\n",
       "      <td>0</td>\n",
       "    </tr>\n",
       "    <tr>\n",
       "      <th>7596</th>\n",
       "      <td>Void is filled with Clement With the supply of...</td>\n",
       "      <td>1</td>\n",
       "    </tr>\n",
       "    <tr>\n",
       "      <th>7597</th>\n",
       "      <td>Martinez leaves bitter Like Roger Clemens did ...</td>\n",
       "      <td>1</td>\n",
       "    </tr>\n",
       "    <tr>\n",
       "      <th>7598</th>\n",
       "      <td>5 of arthritis patients in Singapore take Bext...</td>\n",
       "      <td>2</td>\n",
       "    </tr>\n",
       "    <tr>\n",
       "      <th>7599</th>\n",
       "      <td>EBay gets into rentals EBay plans to buy the a...</td>\n",
       "      <td>2</td>\n",
       "    </tr>\n",
       "  </tbody>\n",
       "</table>\n",
       "<p>7600 rows × 2 columns</p>\n",
       "</div>"
      ],
      "text/plain": [
       "                                                   text  label\n",
       "0     Fears for T N pension after talks Unions repre...      2\n",
       "1     The Race is On: Second Private Team Sets Launc...      3\n",
       "2     Ky. Company Wins Grant to Study Peptides (AP) ...      3\n",
       "3     Prediction Unit Helps Forecast Wildfires (AP) ...      3\n",
       "4     Calif. Aims to Limit Farm-Related Smog (AP) AP...      3\n",
       "...                                                 ...    ...\n",
       "7595  Around the world Ukrainian presidential candid...      0\n",
       "7596  Void is filled with Clement With the supply of...      1\n",
       "7597  Martinez leaves bitter Like Roger Clemens did ...      1\n",
       "7598  5 of arthritis patients in Singapore take Bext...      2\n",
       "7599  EBay gets into rentals EBay plans to buy the a...      2\n",
       "\n",
       "[7600 rows x 2 columns]"
      ]
     },
     "execution_count": 47,
     "metadata": {},
     "output_type": "execute_result"
    }
   ],
   "source": [
    "import pandas as pd\n",
    "\n",
    "file = \"test-00000-of-00001 (1).parquet\"\n",
    "data = pd.read_parquet(file)\n",
    "data"
   ]
  },
  {
   "cell_type": "code",
   "execution_count": 50,
   "id": "ba5d5d5d-5fcd-484e-b7ba-11ae6f60c305",
   "metadata": {},
   "outputs": [],
   "source": [
    "import pandas as pd\n",
    "from gensim.models.doc2vec import Doc2Vec, TaggedDocument\n",
    "from gensim.utils import simple_preprocess"
   ]
  },
  {
   "cell_type": "code",
   "execution_count": 51,
   "id": "4270779a-e5fa-4543-a732-c5dcd5b097ce",
   "metadata": {},
   "outputs": [],
   "source": [
    "# Перетворення текстів у TaggedDocument (токенізовані слова + унікальний ідентифікатор)\n",
    "tagged_data = [\n",
    "    TaggedDocument(\n",
    "        words=simple_preprocess(text),  # Розбиває текст на слова (токени)\n",
    "        tags=[str(i)]                  # Унікальний тег (тут — індекс рядка)\n",
    "    )\n",
    "    for i, text in enumerate(data['text'])\n",
    "]"
   ]
  },
  {
   "cell_type": "code",
   "execution_count": 53,
   "id": "f1f086cf-20a6-4ab3-98db-0a3f34085474",
   "metadata": {},
   "outputs": [],
   "source": [
    "# Створюємо та навчаємо модель\n",
    "\n",
    "# Ініціалізація моделі\n",
    "model = Doc2Vec(\n",
    "    vector_size=100,    # Розмір вектора документа\n",
    "    min_count=2,        # Ігноруємо слова, що зустрічаються < 2 разів\n",
    "    epochs=30,          # Кількість епох навчання\n",
    "    dm=1,               # Режим Distributed Memory (DM)\n",
    "    workers=4           # Кількість потоків\n",
    ")\n",
    "\n",
    "# будуємо словник\n",
    "model.build_vocab(tagged_data)\n",
    "\n",
    "# навчаємо модель на даних\n",
    "model.train(\n",
    "    tagged_data,\n",
    "    total_examples=model.corpus_count,\n",
    "    epochs=model.epochs\n",
    ")"
   ]
  },
  {
   "cell_type": "code",
   "execution_count": 54,
   "id": "92edb128-1923-4f49-b8b4-f992e2f6ddc5",
   "metadata": {},
   "outputs": [],
   "source": [
    "# зберігаємо та завантажуємо модель\n",
    "\n",
    "model.save(\"doc2vec_model.model\")\n",
    "loaded_model = Doc2Vec.load(\"doc2vec_model.model\")"
   ]
  },
  {
   "cell_type": "code",
   "execution_count": 57,
   "id": "6e23de07-72e4-46dc-9a0f-6e490462abf8",
   "metadata": {},
   "outputs": [
    {
     "name": "stdout",
     "output_type": "stream",
     "text": [
      "Doc 7312: Similarity = 0.69\n",
      "Boycott Rethink After Ahern Apology The DUP was last night reconsidering its boycott of talks with t...\n",
      "Doc 6292: Similarity = 0.69\n",
      "SKorea's Hyundai Motor to join strike against labor reform bill (AFP) AFP - Workers at South Korea's...\n",
      "Doc 867: Similarity = 0.68\n",
      "Federal-Mogul May Sell Turner  amp; Newall Assets, Independent Says Federal-Mogul Corp., the bankrup...\n",
      "Doc 7309: Similarity = 0.68\n",
      "Vodafone Drops on Report It Supports Bid for Sprint (Update2) Shares in Vodafone Group Plc, the worl...\n",
      "Doc 2906: Similarity = 0.67\n",
      "Bush, Kerry Differ on Approach to North Korea  SEOUL (Reuters) - The determination of North Korea to...\n"
     ]
    }
   ],
   "source": [
    "# шукаємо схожі документи (5)\n",
    "\n",
    "similar_docs = model.dv.most_similar('0', topn=5)\n",
    "for doc_id, similarity in similar_docs:\n",
    "    print(f\"Doc {doc_id}: Similarity = {similarity:.2f}\")\n",
    "    print(data['text'][int(doc_id)][:100] + \"...\")  # Вивід уривка тексту"
   ]
  },
  {
   "cell_type": "code",
   "execution_count": 58,
   "id": "3f04a9db-3f85-442d-9760-e5de012d1896",
   "metadata": {},
   "outputs": [
    {
     "name": "stdout",
     "output_type": "stream",
     "text": [
      "[-0.38286534 -0.01745132  0.36554155 -0.08339477  0.18552297 -0.21808296\n",
      "  0.02624688  0.276265   -0.2699174   0.04848212  0.04570699 -0.07405192\n",
      " -0.02545081  0.09969936 -0.17319246 -0.36024502  0.19452754  0.02028139\n",
      " -0.3541433  -0.2425142   0.42800122  0.4070015  -0.01218341 -0.06962993\n",
      "  0.18593952  0.17270583 -0.05057585  0.05607817 -0.02047254 -0.1771728\n",
      "  0.3346613   0.13670565  0.08814178  0.11999455 -0.19903794  0.20383206\n",
      "  0.20657356 -0.11939052 -0.29126722 -0.21660599 -0.13425359 -0.08689398\n",
      " -0.03980897  0.04431986  0.12863876 -0.32491133 -0.1935405  -0.34181622\n",
      " -0.01381759  0.21859188 -0.0831366  -0.088429   -0.10675119 -0.01345019\n",
      " -0.19389752  0.14209256  0.05664982  0.05360454 -0.12095398  0.01051721\n",
      "  0.18500876  0.33576483 -0.26584503 -0.28744158  0.05200316  0.06103697\n",
      "  0.03993298  0.00262939 -0.18682721  0.06208413 -0.30973023  0.46853995\n",
      "  0.02071415 -0.05862995  0.31129003  0.09843455  0.21396382 -0.19515827\n",
      " -0.18033326 -0.11583228  0.04850967  0.27286905 -0.19229709  0.30436146\n",
      " -0.07149743  0.2112535  -0.05878905 -0.18330435 -0.05099067  0.35001513\n",
      "  0.16393349  0.29437205 -0.11934458 -0.1941684   0.08205447 -0.03089012\n",
      "  0.1252015  -0.23759632  0.16893515 -0.01788166]\n"
     ]
    }
   ],
   "source": [
    "# Визначаємо вектор для нового тексту\n",
    "\n",
    "new_text = \"New example text about wildfires and climate change\"\n",
    "new_vector = model.infer_vector(simple_preprocess(new_text))\n",
    "print(new_vector)"
   ]
  },
  {
   "cell_type": "code",
   "execution_count": null,
   "id": "7e02bada-62e1-4c27-8e46-1aa47103c179",
   "metadata": {},
   "outputs": [],
   "source": []
  },
  {
   "cell_type": "code",
   "execution_count": null,
   "id": "7879addd-ad38-4627-a7e7-cf661a9a79f4",
   "metadata": {},
   "outputs": [],
   "source": []
  },
  {
   "cell_type": "code",
   "execution_count": null,
   "id": "14cf2398-2648-4951-bc2b-31d2a64fa4d2",
   "metadata": {},
   "outputs": [],
   "source": []
  },
  {
   "cell_type": "code",
   "execution_count": null,
   "id": "94b02317-011a-4d10-ac93-e0a2e85a2738",
   "metadata": {},
   "outputs": [],
   "source": []
  },
  {
   "cell_type": "code",
   "execution_count": null,
   "id": "cd13be35-99f9-4662-a710-3ad8572e293f",
   "metadata": {},
   "outputs": [],
   "source": [
    "file = \"test-00000-of-00001 (1).parquet\"\n",
    "data = pd.read_parquet(file)\n",
    "data"
   ]
  },
  {
   "cell_type": "markdown",
   "id": "99aca471-4e5f-42c4-8a63-76a31d2e382e",
   "metadata": {},
   "source": [
    "#### Task 1. Practice finding similar documents/articles/posts. Assess validity of the model.\n",
    "\n",
    "Практика пошуку схожих документів/статей/постів. Оцінка точності моделі."
   ]
  },
  {
   "cell_type": "code",
   "execution_count": 73,
   "id": "5e126121-5710-4760-adff-9c8ad5a49bde",
   "metadata": {},
   "outputs": [],
   "source": [
    "# завантажуємо навчальну модель\n",
    "\n",
    "from gensim.models import Doc2Vec\n",
    "\n",
    "model = Doc2Vec.load(\"doc2vec_model.model\")"
   ]
  },
  {
   "cell_type": "code",
   "execution_count": 60,
   "id": "d5e5dc43-89b2-42d9-a555-82b7d7d2ba4a",
   "metadata": {},
   "outputs": [
    {
     "name": "stdout",
     "output_type": "stream",
     "text": [
      "Оригінальний документ (ID 0):\n",
      "Fears for T N pension after talks Unions representing workers at Turner   Newall say they are 'disappointed' after talks with stricken parent firm Federal Mogul....\n",
      "\n",
      "Схожі документи:\n",
      "\n",
      "ID: 7312, Similarity: 0.695\n",
      "Boycott Rethink After Ahern Apology The DUP was last night reconsidering its boycott of talks with the Irish government after Taoiseach Bertie Ahern apologised to party leader Ian Paisley....\n",
      "\n",
      "ID: 6292, Similarity: 0.689\n",
      "SKorea's Hyundai Motor to join strike against labor reform bill (AFP) AFP - Workers at South Korea's largest automaker Hyundai Motor will go on strike Friday to oppose proposed government labor reform...\n",
      "\n",
      "ID: 867, Similarity: 0.680\n",
      "Federal-Mogul May Sell Turner  amp; Newall Assets, Independent Says Federal-Mogul Corp., the bankrupt US engineering company, may sell its UK-based Turner  amp; Newall Plc after the UK division #39;s ...\n",
      "\n",
      "ID: 7309, Similarity: 0.679\n",
      "Vodafone Drops on Report It Supports Bid for Sprint (Update2) Shares in Vodafone Group Plc, the world #39;s largest mobile-phone operator, dropped after The Wall Street Journal said the company is con...\n",
      "\n",
      "ID: 2906, Similarity: 0.669\n",
      "Bush, Kerry Differ on Approach to North Korea  SEOUL (Reuters) - The determination of North Korea to  develop nuclear arms could harden after President Bush and his  rival, Senator John Kerry, clashed...\n"
     ]
    }
   ],
   "source": [
    "# пошук схожих документів до першого тексту в датасеті \n",
    "\n",
    "similar_docs = model.dv.most_similar(\"0\", topn=5)  \n",
    "\n",
    "print(f\"Оригінальний документ (ID 0):\\n{data['text'][0][:200]}...\\n\")  # Вивід уривка\n",
    "print(\"Схожі документи:\")\n",
    "for doc_id, similarity in similar_docs:\n",
    "    print(f\"\\nID: {doc_id}, Similarity: {similarity:.3f}\")\n",
    "    print(data['text'][int(doc_id)][:200] + \"...\")  # Вивід уривка схожого тексту"
   ]
  },
  {
   "cell_type": "code",
   "execution_count": null,
   "id": "4c565b91-af9f-4273-bfab-7f939bfd8c3f",
   "metadata": {},
   "outputs": [],
   "source": []
  },
  {
   "cell_type": "code",
   "execution_count": 66,
   "id": "7c42c598-d8f3-457e-bc5b-50155d55ea6a",
   "metadata": {},
   "outputs": [
    {
     "name": "stdout",
     "output_type": "stream",
     "text": [
      "\n",
      "Текст: 'Climate change increases wildfires risks around the world'\n",
      "\n",
      "ID: 93, Similarity: 0.821\n",
      "Fund pessimism grows NEW YORK (CNN/Money) - Money managers are growing more pessimistic about the economy, corporate profits and US stock market returns, according to a monthly survey by Merrill Lynch...\n",
      "ID: 5836, Similarity: 0.802\n",
      "Stronger Sales Boost JC Penney Earnings (Reuters) Reuters - Department store operator J.C. Penney\\Co. Inc.  on Tuesday said third-quarter profit rose 86.3\\percent, helped by stronger sales and fewer m...\n",
      "ID: 5842, Similarity: 0.799\n",
      "Stocks Open Lower; Inflation Data Weighs  NEW YORK (Reuters) - U.S. stocks opened lower on Tuesday  after a government report showing a much larger-than-expected  rise in U.S. producer prices in Octob...\n"
     ]
    }
   ],
   "source": [
    "# Створюємо вектор для довільного тексту та знаходимо документи з датасету, близькі до нього:\n",
    "\n",
    "new_text = \"Climate change increases wildfires risks around the world\"\n",
    "inferred_vector = model.infer_vector(simple_preprocess(new_text))\n",
    "similar_docs = model.dv.most_similar([inferred_vector], topn=3)\n",
    "\n",
    "print(f\"\\nТекст: '{new_text}'\\n\")\n",
    "for doc_id, similarity in similar_docs:\n",
    "    print(f\"ID: {doc_id}, Similarity: {similarity:.3f}\")\n",
    "    print(data['text'][int(doc_id)][:200] + \"...\")"
   ]
  },
  {
   "cell_type": "code",
   "execution_count": 67,
   "id": "5b429485-e5f7-423a-93f9-b5bd136fd514",
   "metadata": {},
   "outputs": [
    {
     "name": "stdout",
     "output_type": "stream",
     "text": [
      "\n",
      "Мітка оригінального документу (ID 0): 2\n",
      "ID 93: Мітка 2, Схожість 0.821\n",
      "ID 5836: Мітка 2, Схожість 0.802\n",
      "ID 5842: Мітка 2, Схожість 0.799\n"
     ]
    }
   ],
   "source": [
    "# Якщо датасет містить мітки (наприклад, label=3), перевіримо, чи схожі документи належать до тієї ж категорії:\n",
    "\n",
    "original_label = data['label'][0]  \n",
    "print(f\"\\nМітка оригінального документу (ID 0): {original_label}\")\n",
    "\n",
    "for doc_id, similarity in similar_docs:\n",
    "    doc_label = data['label'][int(doc_id)]\n",
    "    print(f\"ID {doc_id}: Мітка {doc_label}, Схожість {similarity:.3f}\")"
   ]
  },
  {
   "cell_type": "code",
   "execution_count": 68,
   "id": "064821b2-6b37-4b7a-824a-c34e6145bcf4",
   "metadata": {},
   "outputs": [
    {
     "name": "stdout",
     "output_type": "stream",
     "text": [
      "\n",
      "Відсоток документів з тією ж міткою: 100.0%\n"
     ]
    }
   ],
   "source": [
    "# Рахуємо, який відсоток схожих документів має ту саму мітку:\n",
    "matches = 0\n",
    "total = len(similar_docs)\n",
    "\n",
    "for doc_id, _ in similar_docs:\n",
    "    if data['label'][int(doc_id)] == original_label:\n",
    "        matches += 1\n",
    "\n",
    "print(f\"\\nВідсоток документів з тією ж міткою: {matches/total:.1%}\")"
   ]
  },
  {
   "cell_type": "code",
   "execution_count": 75,
   "id": "87a73909-8e84-4c08-b395-b2acc6a50d43",
   "metadata": {},
   "outputs": [
    {
     "name": "stdout",
     "output_type": "stream",
     "text": [
      "RandomForestClassifier()\n"
     ]
    }
   ],
   "source": [
    "from sklearn.ensemble import RandomForestClassifier\n",
    "\n",
    "# Вектори документів\n",
    "X = [model.dv[str(i)] for i in range(len(data))]\n",
    "y = data['label']\n",
    "\n",
    "# Навчання класифікатора\n",
    "clf = RandomForestClassifier()\n",
    "clf.fit(X, y)\n",
    "print(clf) "
   ]
  },
  {
   "cell_type": "code",
   "execution_count": null,
   "id": "42f03449-9f50-48f8-8626-7f682086ad7f",
   "metadata": {},
   "outputs": [],
   "source": []
  }
 ],
 "metadata": {
  "kernelspec": {
   "display_name": "Python 3 (ipykernel)",
   "language": "python",
   "name": "python3"
  },
  "language_info": {
   "codemirror_mode": {
    "name": "ipython",
    "version": 3
   },
   "file_extension": ".py",
   "mimetype": "text/x-python",
   "name": "python",
   "nbconvert_exporter": "python",
   "pygments_lexer": "ipython3",
   "version": "3.11.3"
  }
 },
 "nbformat": 4,
 "nbformat_minor": 5
}
