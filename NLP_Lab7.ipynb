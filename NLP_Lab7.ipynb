{
 "cells": [
  {
   "cell_type": "markdown",
   "id": "48f99b32-3382-4c7b-85f7-6831df56997c",
   "metadata": {},
   "source": [
    "Task 0. Using https://www.nltk.org/howto/corpus.html#overview, implement TF-IDF vectorizer for e.g. Treebank corpus\n",
    "Реалізація TF-IDF векторизатора для корпусу Treebank\n",
    "Завдання 0. Використовуючи https://www.nltk.org/howto/corpus.html#overview,, реалізуйте TF-IDF векторизатор для корпусу Treebank."
   ]
  },
  {
   "cell_type": "code",
   "execution_count": 1,
   "id": "f69ab622-d7bc-48b3-b97c-32976d5f4f02",
   "metadata": {},
   "outputs": [
    {
     "name": "stderr",
     "output_type": "stream",
     "text": [
      "[nltk_data] Downloading package treebank to\n",
      "[nltk_data]     /Users/boykosvitlana/nltk_data...\n",
      "[nltk_data]   Package treebank is already up-to-date!\n",
      "[nltk_data] Downloading package punkt to\n",
      "[nltk_data]     /Users/boykosvitlana/nltk_data...\n",
      "[nltk_data]   Package punkt is already up-to-date!\n"
     ]
    },
    {
     "name": "stdout",
     "output_type": "stream",
     "text": [
      "\n",
      "Документ 1 - Топ-5 слів за TF-IDF:\n",
      "Vinken: 0.3415\n",
      "Pierre: 0.1708\n",
      "Elsevier: 0.1708\n",
      "Dutch: 0.1484\n",
      "N.V.: 0.1484\n",
      "\n",
      "Документ 2 - Топ-5 слів за TF-IDF:\n",
      "Agnew: 0.1960\n",
      "Fields: 0.1704\n",
      "Consolidated: 0.1704\n",
      "Gold: 0.1704\n",
      "Rudolph: 0.1704\n",
      "\n",
      "Документ 3 - Топ-5 слів за TF-IDF:\n",
      "asbestos: 0.0745\n",
      "filters: 0.0474\n",
      "Lorillard: 0.0338\n",
      "crocidolite: 0.0338\n",
      "fibers: 0.0271\n",
      "\n",
      "Документ 4 - Топ-5 слів за TF-IDF:\n",
      "yield: 0.0630\n",
      "funds: 0.0461\n",
      "yields: 0.0411\n",
      "seven-day: 0.0389\n",
      "maturities: 0.0389\n",
      "\n",
      "Документ 5 - Топ-5 слів за TF-IDF:\n",
      "Grace: 0.3651\n",
      "W.R.: 0.2738\n",
      "holds: 0.1446\n",
      "J.P.: 0.0913\n",
      "Daniels: 0.0913\n",
      "\n",
      "TF-IDF вектори для тестового тексту:\n",
      "sentence: 0.5881\n",
      "example: 0.2499\n",
      "this: 0.0999\n",
      "an: 0.0649\n",
      "is: 0.0465\n"
     ]
    }
   ],
   "source": [
    "import nltk\n",
    "from nltk.corpus import treebank\n",
    "from nltk.text import TextCollection\n",
    "from nltk.tokenize import word_tokenize\n",
    "import math\n",
    "\n",
    "# Завантаження корпусу Treebank\n",
    "nltk.download('treebank')\n",
    "nltk.download('punkt')\n",
    "\n",
    "# Отримання документів з корпусу\n",
    "documents = [treebank.words(fileid) for fileid in treebank.fileids()]\n",
    "\n",
    "# Створення колекції текстів для TF-IDF\n",
    "text_collection = TextCollection(documents)\n",
    "\n",
    "# Обчислює TF-IDF ваги для кожного унікального слова в документі\n",
    "def compute_tfidf(document):\n",
    "    tfidf_scores = {}\n",
    "    for word in set(document):\n",
    "        # Term Frequency (TF) в поточному документі\n",
    "        tf = document.count(word) / len(document)\n",
    "        \n",
    "        # Inverse Document Frequency (IDF)\n",
    "        idf = text_collection.idf(word)\n",
    "        \n",
    "        # TF-IDF score\n",
    "        tfidf_scores[word] = tf * idf\n",
    "    \n",
    "    return tfidf_scores\n",
    "\n",
    "# Приклад використання для перших 5 документів\n",
    "for i, doc in enumerate(documents[:5]):\n",
    "    print(f\"\\nДокумент {i+1} - Топ-5 слів за TF-IDF:\")\n",
    "    tfidf_scores = compute_tfidf(doc)\n",
    "    \n",
    "    # Сортування слів за значенням TF-IDF (спадання)\n",
    "    sorted_words = sorted(tfidf_scores.items(), key=lambda x: x[1], reverse=True)\n",
    "    \n",
    "    # Вивід топ-5 слів\n",
    "    for word, score in sorted_words[:5]:\n",
    "        print(f\"{word}: {score:.4f}\")\n",
    "\n",
    "# Функція для векторизації нового документа\n",
    "def vectorize_new_text(text):\n",
    "    tokens = word_tokenize(text.lower())\n",
    "    return compute_tfidf(tokens)\n",
    "\n",
    "# Тестування на новому тексті\n",
    "test_text = \"This is an example sentence for TF-IDF vectorization.\"\n",
    "print(\"\\nTF-IDF вектори для тестового тексту:\")\n",
    "vector = vectorize_new_text(test_text)\n",
    "for word, score in sorted(vector.items(), key=lambda x: x[1], reverse=True)[:5]:\n",
    "    print(f\"{word}: {score:.4f}\")"
   ]
  },
  {
   "cell_type": "code",
   "execution_count": null,
   "id": "991c2c42-fc6b-4955-9b8a-ed02f7ad8939",
   "metadata": {},
   "outputs": [],
   "source": []
  }
 ],
 "metadata": {
  "kernelspec": {
   "display_name": "Python 3 (ipykernel)",
   "language": "python",
   "name": "python3"
  },
  "language_info": {
   "codemirror_mode": {
    "name": "ipython",
    "version": 3
   },
   "file_extension": ".py",
   "mimetype": "text/x-python",
   "name": "python",
   "nbconvert_exporter": "python",
   "pygments_lexer": "ipython3",
   "version": "3.11.3"
  }
 },
 "nbformat": 4,
 "nbformat_minor": 5
}
