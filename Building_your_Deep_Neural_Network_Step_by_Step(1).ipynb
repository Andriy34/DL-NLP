{
 "cells": [
  {
   "cell_type": "markdown",
   "metadata": {},
   "source": [
    "# Lab3 Building your Deep Neural Network: Step by Step\n",
    "#### Побудова глибокої нейронної мережі крок за кроком\n",
    "\n",
    "\n",
    "**Позначення**:\n",
    "\n",
    "* Верхній індекс $\\[l]\\$ позначає величину, що належить \\$l\\$-ому шару.\n",
    "  \n",
    "   - Приклад: \\$a^{\\[L]}\\$ — активація \\$L\\$-го шару. \\$W^{\\[L]}\\$ і \\$b^{\\[L]}\\$ — параметри \\$L\\$-го шару.\n",
    "* Верхній індекс \\$(i)\\$ позначає величину, що належить \\$i\\$-ому прикладу.\n",
    "  \n",
    "   - Приклад: \\$x^{(i)}\\$ — \\$i\\$-ий тренувальний приклад.\n",
    "* Нижній індекс \\$i\\$ позначає \\$i\\$-ий елемент вектора.\n",
    "  \n",
    "   - Приклад: \\$a^{\\[l]}\\_i\\$ — \\$i\\$-ий елемент активацій \\$l\\$-го шару.\n"
   ]
  },
  {
   "cell_type": "markdown",
   "metadata": {},
   "source": [
    "<a name='1'></a>\n",
    "## 1 - Packages\n",
    "\n",
    "Спочатку імпортуйте всі пакети, які знадобляться під час цього завдання.\n",
    "\n",
    "* [numpy](www.numpy.org) — основний пакет для наукових обчислень на Python.\n",
    "* [matplotlib](http://matplotlib.org) — бібліотека для побудови графіків у Python.\n",
    "* [h5py](http://www.h5py.org) — поширений пакет для роботи з наборами даних, збережених у форматі H5.\n",
    "* [PIL](http://www.pythonware.com/products/pil/) та [scipy](https://www.scipy.org/) використовуються тут для перевірки моделі на власному зображенні наприкінці.\n",
    "* `dnn_utils` надає деякі необхідні функції для цього ноутбука.\n",
    "* `testCases` містить тестові приклади для перевірки правильності ваших функцій.\n",
    "* `np.random.seed(1)` використовується для збереження узгодженості викликів випадкових функцій. Це допомагає при оцінюванні вашої роботи. Будь ласка, не змінюйте seed!\n"
   ]
  },
  {
   "cell_type": "code",
   "execution_count": 9,
   "metadata": {
    "deletable": false,
    "editable": false
   },
   "outputs": [],
   "source": [
    "### v1.1"
   ]
  },
  {
   "cell_type": "code",
   "execution_count": 10,
   "metadata": {},
   "outputs": [
    {
     "name": "stdout",
     "output_type": "stream",
     "text": [
      "The autoreload extension is already loaded. To reload it, use:\n",
      "  %reload_ext autoreload\n"
     ]
    }
   ],
   "source": [
    "import numpy as np\n",
    "import h5py\n",
    "import matplotlib.pyplot as plt\n",
    "from testCases import *\n",
    "from dnn_app_utils_v3 import sigmoid, sigmoid_backward, relu, relu_backward, load_data\n",
    "from public_tests import *\n",
    "\n",
    "\n",
    "import time\n",
    "import scipy\n",
    "from PIL import Image\n",
    "from scipy import ndimage\n",
    "\n",
    "import copy\n",
    "%matplotlib inline\n",
    "plt.rcParams['figure.figsize'] = (5.0, 4.0) # set default size of plots\n",
    "plt.rcParams['image.interpolation'] = 'nearest'\n",
    "plt.rcParams['image.cmap'] = 'gray'\n",
    "\n",
    "%load_ext autoreload\n",
    "%autoreload 2\n",
    "\n",
    "np.random.seed(1)"
   ]
  },
  {
   "cell_type": "markdown",
   "metadata": {},
   "source": [
    "<a name='2'></a>\n",
    "## 2 – Огляд\n",
    "\n",
    "Щоб побудувати свою нейронну мережу, ви реалізуєте кілька \"допоміжних функцій\". Ось план дій:\n",
    "\n",
    "* Ініціалізуйте параметри для двошарової мережі та для \\$L\\$-шарової нейронної мережі.\n",
    "* Реалізуйте модуль прямого поширення (зображений фіолетовим на рисунку нижче):\n",
    "\n",
    "  * Завершіть LINEAR-частину кроку прямого поширення шару (що дає \\$Z^{\\[l]}\\$).\n",
    "  * Функція активації (relu/sigmoid) вже надана для вас.\n",
    "  * Об'єднайте два попередні кроки в нову функцію прямого поширення \\[LINEAR->ACTIVATION].\n",
    "  * Повторіть \\[LINEAR->RELU] для \\$L-1\\$ шарів (для шарів з 1 до \\$L-1\\$) і додайте \\[LINEAR->SIGMOID] на останньому шарі \\$L\\$. Це утворює нову функцію `L_model_forward`.\n",
    "* Обчисліть функцію втрат (loss).\n",
    "* Реалізуйте модуль зворотного поширення (позначений червоним на рисунку нижче):\n",
    "\n",
    "  * Завершіть LINEAR-частину кроку зворотного поширення шару.\n",
    "  * Градієнти функцій активації (relu\\_backward/sigmoid\\_backward) вже надані для вас.\n",
    "  * Об’єднайте два попередні кроки в нову функцію зворотного поширення \\[LINEAR->ACTIVATION].\n",
    "  * Повторіть \\[LINEAR->RELU] зворотне поширення \\$L-1\\$ разів і додайте \\[LINEAR->SIGMOID] зворотне поширення у новій функції `L_model_backward`.\n",
    "* Нарешті, оновіть параметри.\n",
    "\n",
    "<img src=\"images/final outline.png\" style=\"width:800px;height:500px;\">\n",
    "<caption><center><b>Figure 1</b></center></caption><br>\n",
    "\n",
    "\n",
    "**Примітка**:\n",
    "\n",
    "Для кожної функції прямого поширення існує відповідна функція зворотного поширення. Саме тому на кожному кроці прямого модуля ви зберігатимете деякі значення у кеші. Ці кешовані значення будуть корисні для обчислення градієнтів.\n",
    "\n",
    "У модулі зворотного поширення ви зможете використовувати кеш для обчислення градієнтів.\n"
   ]
  },
  {
   "cell_type": "markdown",
   "metadata": {},
   "source": [
    "<a name='3'></a>\n",
    "\n",
    "## 3 – Ініціалізація\n",
    "\n",
    "Ви напишете дві допоміжні функції для ініціалізації параметрів вашої моделі. Перша функція буде використовуватися для ініціалізації параметрів двошарової моделі. Друга — узагальнить цей процес для \\$L\\$-шарової мережі.\n",
    "\n",
    "<a name='3-1'></a>\n",
    "\n",
    "### 3.1 – Двошарова нейронна мережа\n",
    "\n",
    "<a name='ex-1'></a>\n",
    "\n",
    "### Вправа 1 – `initialize_parameters`\n",
    "\n",
    "Створіть та ініціалізуйте параметри для двошарової нейронної мережі.\n",
    "\n",
    "**Інструкції**:\n",
    "\n",
    "* Структура моделі: *LINEAR → RELU → LINEAR → SIGMOID*.\n",
    "* Для матриць ваг використовуйте випадкову ініціалізацію: `np.random.randn(d0, d1, ..., dn) * 0.01` з відповідною формою. Документація: [np.random.randn](https://numpy.org/doc/stable/reference/random/generated/numpy.random.randn.html)\n",
    "* Для векторів зсуву використовуйте ініціалізацію нулями: `np.zeros(shape)`. Документація: [np.zeros](https://numpy.org/doc/stable/reference/generated/numpy.zeros.html)\n"
   ]
  },
  {
   "cell_type": "code",
   "execution_count": 11,
   "metadata": {
    "deletable": false,
    "nbgrader": {
     "cell_type": "code",
     "checksum": "c468c89deb6d0cacf2ade5ab4151d26e",
     "grade": false,
     "grade_id": "cell-96d4e144d9419b32",
     "locked": false,
     "schema_version": 3,
     "solution": true,
     "task": false
    }
   },
   "outputs": [],
   "source": [
    "def initialize_parameters(n_x, n_h, n_y):\n",
    "    \"\"\"\n",
    "    Argument:\n",
    "    n_x -- розмір вхідного шару\n",
    "    n_h -- розмір прихованого шару\n",
    "    n_y -- розмір вихідного шару\n",
    "    \n",
    "    Returns:\n",
    "    parameters -- словник Python, що містить параметри:\n",
    "                    W1 -- матриця ваг розміром (n_h, n_x)\n",
    "                    b1 -- вектор зсувів розміром (n_h, 1)\n",
    "                    W2 -- матриця ваг розміром (n_y, n_h)\n",
    "                    b2 -- вектор зсувів розміром (n_y, 1)\n",
    "    \"\"\"\n",
    "    \n",
    "    np.random.seed(1)  # фіксуємо зерно генератора випадкових чисел для відтворюваності\n",
    "    \n",
    "    # Ініціалізуємо ваги малими випадковими числами, а зсуви нулями\n",
    "    W1 = np.random.randn(n_h, n_x) * 0.01\n",
    "    b1 = np.zeros((n_h, 1))\n",
    "    W2 = np.random.randn(n_y, n_h) * 0.01\n",
    "    b2 = np.zeros((n_y, 1))\n",
    "\n",
    "    \n",
    "    parameters = {\"W1\": W1,\n",
    "                  \"b1\": b1,\n",
    "                  \"W2\": W2,\n",
    "                  \"b2\": b2}\n",
    "    \n",
    "    return parameters    "
   ]
  },
  {
   "cell_type": "code",
   "execution_count": 12,
   "metadata": {
    "deletable": false,
    "editable": false,
    "nbgrader": {
     "cell_type": "code",
     "checksum": "276589230f938bc139a103fed96d590f",
     "grade": true,
     "grade_id": "cell-4b2bdbdd0f520c8d",
     "locked": true,
     "points": 10,
     "schema_version": 3,
     "solution": false,
     "task": false
    }
   },
   "outputs": [
    {
     "name": "stdout",
     "output_type": "stream",
     "text": [
      "Test Case 1:\n",
      "\n",
      "W1 = [[ 0.01624345 -0.00611756 -0.00528172]\n",
      " [-0.01072969  0.00865408 -0.02301539]]\n",
      "b1 = [[0.]\n",
      " [0.]]\n",
      "W2 = [[ 0.01744812 -0.00761207]]\n",
      "b2 = [[0.]]\n",
      "\u001b[92m All tests passed.\n",
      "\u001b[90m\n",
      "Test Case 2:\n",
      "\n",
      "W1 = [[ 0.01624345 -0.00611756 -0.00528172 -0.01072969]\n",
      " [ 0.00865408 -0.02301539  0.01744812 -0.00761207]\n",
      " [ 0.00319039 -0.0024937   0.01462108 -0.02060141]]\n",
      "b1 = [[0.]\n",
      " [0.]\n",
      " [0.]]\n",
      "W2 = [[-0.00322417 -0.00384054  0.01133769]\n",
      " [-0.01099891 -0.00172428 -0.00877858]]\n",
      "b2 = [[0.]\n",
      " [0.]]\n",
      "\u001b[92m All tests passed.\n"
     ]
    }
   ],
   "source": [
    "print(\"Test Case 1:\\n\")\n",
    "parameters = initialize_parameters(3,2,1)\n",
    "\n",
    "print(\"W1 = \" + str(parameters[\"W1\"]))\n",
    "print(\"b1 = \" + str(parameters[\"b1\"]))\n",
    "print(\"W2 = \" + str(parameters[\"W2\"]))\n",
    "print(\"b2 = \" + str(parameters[\"b2\"]))\n",
    "\n",
    "initialize_parameters_test_1(initialize_parameters)\n",
    "\n",
    "print(\"\\033[90m\\nTest Case 2:\\n\")\n",
    "parameters = initialize_parameters(4,3,2)\n",
    "\n",
    "print(\"W1 = \" + str(parameters[\"W1\"]))\n",
    "print(\"b1 = \" + str(parameters[\"b1\"]))\n",
    "print(\"W2 = \" + str(parameters[\"W2\"]))\n",
    "print(\"b2 = \" + str(parameters[\"b2\"]))\n",
    "\n",
    "initialize_parameters_test_2(initialize_parameters)"
   ]
  },
  {
   "cell_type": "markdown",
   "metadata": {},
   "source": [
    "***Expected output***\n",
    "```\n",
    "Test Case 1:\n",
    "\n",
    "W1 = [[ 0.01624345 -0.00611756 -0.00528172]\n",
    " [-0.01072969  0.00865408 -0.02301539]]\n",
    "b1 = [[0.]\n",
    " [0.]]\n",
    "W2 = [[ 0.01744812 -0.00761207]]\n",
    "b2 = [[0.]]\n",
    " All tests passed.\n",
    "\n",
    "Test Case 2:\n",
    "\n",
    "W1 = [[ 0.01624345 -0.00611756 -0.00528172 -0.01072969]\n",
    " [ 0.00865408 -0.02301539  0.01744812 -0.00761207]\n",
    " [ 0.00319039 -0.0024937   0.01462108 -0.02060141]]\n",
    "b1 = [[0.]\n",
    " [0.]\n",
    " [0.]]\n",
    "W2 = [[-0.00322417 -0.00384054  0.01133769]\n",
    " [-0.01099891 -0.00172428 -0.00877858]]\n",
    "b2 = [[0.]\n",
    " [0.]]\n",
    " All tests passed.\n",
    "```"
   ]
  },
  {
   "cell_type": "markdown",
   "metadata": {},
   "source": [
    "<a name='3-2'></a>\n",
    "### 3.2 – L-шарова нейронна мережа\n",
    "\n",
    "Ініціалізація для глибшої L-шарової нейронної мережі є складнішою, оскільки існує набагато більше матриць ваг і векторів зміщення. Під час виконання функції `initialize_parameters_deep` ви повинні переконатися, що ваші розмірності узгоджені між кожним шаром. Нагадаємо, що \\$n^{\\[l]}\\$ — це кількість одиниць у шарі \\$l\\$. Наприклад, якщо розмір вашого вхідного \\$X\\$ — \\$(12288, 209)\\$ (де \\$m=209\\$ прикладів), тоді:\n",
    "\n",
    "\n",
    "<table style=\"width:100%\">\n",
    "    <tr>\n",
    "        <td>  </td> \n",
    "        <td> <b>Shape of W</b> </td> \n",
    "        <td> <b>Shape of b</b>  </td> \n",
    "        <td> <b>Activation</b> </td>\n",
    "        <td> <b>Shape of Activation</b> </td> \n",
    "    <tr>\n",
    "    <tr>\n",
    "        <td> <b>Layer 1</b> </td> \n",
    "        <td> $(n^{[1]},12288)$ </td> \n",
    "        <td> $(n^{[1]},1)$ </td> \n",
    "        <td> $Z^{[1]} = W^{[1]}  X + b^{[1]} $ </td> \n",
    "        <td> $(n^{[1]},209)$ </td> \n",
    "    <tr>\n",
    "    <tr>\n",
    "        <td> <b>Layer 2</b> </td> \n",
    "        <td> $(n^{[2]}, n^{[1]})$  </td> \n",
    "        <td> $(n^{[2]},1)$ </td> \n",
    "        <td>$Z^{[2]} = W^{[2]} A^{[1]} + b^{[2]}$ </td> \n",
    "        <td> $(n^{[2]}, 209)$ </td> \n",
    "    <tr>\n",
    "       <tr>\n",
    "        <td> $\\vdots$ </td> \n",
    "        <td> $\\vdots$  </td> \n",
    "        <td> $\\vdots$  </td> \n",
    "        <td> $\\vdots$</td> \n",
    "        <td> $\\vdots$  </td> \n",
    "    <tr>  \n",
    "   <tr>\n",
    "       <td> <b>Layer L-1</b> </td> \n",
    "        <td> $(n^{[L-1]}, n^{[L-2]})$ </td> \n",
    "        <td> $(n^{[L-1]}, 1)$  </td> \n",
    "        <td>$Z^{[L-1]} =  W^{[L-1]} A^{[L-2]} + b^{[L-1]}$ </td> \n",
    "        <td> $(n^{[L-1]}, 209)$ </td> \n",
    "   <tr>\n",
    "   <tr>\n",
    "       <td> <b>Layer L</b> </td> \n",
    "        <td> $(n^{[L]}, n^{[L-1]})$ </td> \n",
    "        <td> $(n^{[L]}, 1)$ </td>\n",
    "        <td> $Z^{[L]} =  W^{[L]} A^{[L-1]} + b^{[L]}$</td>\n",
    "        <td> $(n^{[L]}, 209)$  </td> \n",
    "    <tr>\n",
    "</table>\n",
    "\n",
    "Remember that when you compute $W X + b$ in python, it carries out broadcasting. For example, if: \n",
    "\n",
    "$$ W = \\begin{bmatrix}\n",
    "    w_{00}  & w_{01} & w_{02} \\\\\n",
    "    w_{10}  & w_{11} & w_{12} \\\\\n",
    "    w_{20}  & w_{21} & w_{22} \n",
    "\\end{bmatrix}\\;\\;\\; X = \\begin{bmatrix}\n",
    "    x_{00}  & x_{01} & x_{02} \\\\\n",
    "    x_{10}  & x_{11} & x_{12} \\\\\n",
    "    x_{20}  & x_{21} & x_{22} \n",
    "\\end{bmatrix} \\;\\;\\; b =\\begin{bmatrix}\n",
    "    b_0  \\\\\n",
    "    b_1  \\\\\n",
    "    b_2\n",
    "\\end{bmatrix}\\tag{2}$$\n",
    "\n",
    "Then $WX + b$ will be:\n",
    "\n",
    "$$ WX + b = \\begin{bmatrix}\n",
    "    (w_{00}x_{00} + w_{01}x_{10} + w_{02}x_{20}) + b_0 & (w_{00}x_{01} + w_{01}x_{11} + w_{02}x_{21}) + b_0 & \\cdots \\\\\n",
    "    (w_{10}x_{00} + w_{11}x_{10} + w_{12}x_{20}) + b_1 & (w_{10}x_{01} + w_{11}x_{11} + w_{12}x_{21}) + b_1 & \\cdots \\\\\n",
    "    (w_{20}x_{00} + w_{21}x_{10} + w_{22}x_{20}) + b_2 &  (w_{20}x_{01} + w_{21}x_{11} + w_{22}x_{21}) + b_2 & \\cdots\n",
    "\\end{bmatrix}\\tag{3}  $$\n"
   ]
  },
  {
   "cell_type": "markdown",
   "metadata": {},
   "source": [
    "<a name='ex-2'></a>\n",
    "### Вправа 2 – `initialize_parameters_deep`\n",
    "\n",
    "Реалізуйте ініціалізацію для L-шарової нейронної мережі.\n",
    "\n",
    "**Інструкції**:\n",
    "\n",
    "* Структура моделі: *\\[LINEAR → RELU] \\$ \\times\\$ (L-1) → LINEAR → SIGMOID*. Тобто, вона має \\$L-1\\$ шарів з функцією активації ReLU, за якими йде вихідний шар з функцією активації sigmoid.\n",
    "* Використовуйте випадкову ініціалізацію для матриць ваг: `np.random.randn(d0, d1, ..., dn) * 0.01`.\n",
    "* Використовуйте нульову ініціалізацію для векторів зміщення: `np.zeros(shape)`.\n",
    "* Ви будете зберігати \\$n^{\\[l]}\\$, кількість одиниць у різних шарах, у змінній `layer_dims`. Наприклад, `layer_dims` для минулотижневої моделі класифікації Planar Data було б `[2, 4, 1]`: було два входи, один прихований шар з 4 нейронами та вихідний шар з 1 виходом. Це означає, що форма `W1` — (4,2), `b1` — (4,1), `W2` — (1,4), а `b2` — (1,1). Тепер ви узагальните це для \\$L\\$ шарів!\n",
    "* Ось реалізація для \\$L=1\\$ (однашарова нейронна мережа). Вона має надихнути вас на реалізацію загального випадку (L-шарова нейронна мережа).\n",
    "\n",
    "```python\n",
    "    if L == 1:\n",
    "        parameters[\"W\" + str(L)] = np.random.randn(layer_dims[1], layer_dims[0]) * 0.01\n",
    "        parameters[\"b\" + str(L)] = np.zeros((layer_dims[1], 1))\n",
    "```"
   ]
  },
  {
   "cell_type": "code",
   "execution_count": 13,
   "metadata": {
    "deletable": false,
    "nbgrader": {
     "cell_type": "code",
     "checksum": "1773f5c69d941998dc8da88f4151e8d3",
     "grade": false,
     "grade_id": "cell-37b22e0664a4949e",
     "locked": false,
     "schema_version": 3,
     "solution": true,
     "task": false
    }
   },
   "outputs": [],
   "source": [
    "def initialize_parameters_deep(layer_dims):\n",
    "    \"\"\"\n",
    "    Arguments:\n",
    "    layer_dims -- список розмірів кожного шару мережі, наприклад [input_size, hidden1, hidden2, ..., output_size]\n",
    "    \n",
    "    Returns:\n",
    "    parameters -- словник з параметрами:\n",
    "                    W1, b1, W2, b2, ..., WL, bL\n",
    "                    Wl -- матриця ваг для шару l розміром (layer_dims[l], layer_dims[l-1])\n",
    "                    bl -- вектор зсувів для шару l розміром (layer_dims[l], 1)\n",
    "    \"\"\"\n",
    "    \n",
    "    np.random.seed(3)   # Фіксація генератора випадкових чисел для відтворюваності результатів\n",
    "    parameters = {}\n",
    "    L = len(layer_dims) # number of layers in the network\n",
    "\n",
    "    for l in range(1, L):   # Загальна кількість шарів у мережі (включно з входом і виходом)\n",
    "\n",
    "        # Ініціалізуємо матрицю ваг випадковими числами, масштабованими на 0.01\n",
    "        parameters['W' + str(l)] = np.random.randn(layer_dims[l], layer_dims[l-1]) * 0.01 \n",
    "        # Ініціалізуємо вектор зсувів нулями\n",
    "        parameters['b' + str(l)] = np.zeros((layer_dims[l], 1))\n",
    "  \n",
    "        # Перевірка, що розміри ваг та зсувів співпадають з очікуваними\n",
    "        assert(parameters['W' + str(l)].shape == (layer_dims[l], layer_dims[l - 1]))\n",
    "        assert(parameters['b' + str(l)].shape == (layer_dims[l], 1))\n",
    "\n",
    "        \n",
    "    return parameters"
   ]
  },
  {
   "cell_type": "code",
   "execution_count": 14,
   "metadata": {
    "deletable": false,
    "editable": false,
    "nbgrader": {
     "cell_type": "code",
     "checksum": "cbe5dc6d38bb4b5f14b808945d135929",
     "grade": true,
     "grade_id": "cell-2ce3df377bb42f76",
     "locked": true,
     "points": 10,
     "schema_version": 3,
     "solution": false,
     "task": false
    }
   },
   "outputs": [
    {
     "name": "stdout",
     "output_type": "stream",
     "text": [
      "Test Case 1:\n",
      "\n",
      "W1 = [[ 0.01788628  0.0043651   0.00096497 -0.01863493 -0.00277388]\n",
      " [-0.00354759 -0.00082741 -0.00627001 -0.00043818 -0.00477218]\n",
      " [-0.01313865  0.00884622  0.00881318  0.01709573  0.00050034]\n",
      " [-0.00404677 -0.0054536  -0.01546477  0.00982367 -0.01101068]]\n",
      "b1 = [[0.]\n",
      " [0.]\n",
      " [0.]\n",
      " [0.]]\n",
      "W2 = [[-0.01185047 -0.0020565   0.01486148  0.00236716]\n",
      " [-0.01023785 -0.00712993  0.00625245 -0.00160513]\n",
      " [-0.00768836 -0.00230031  0.00745056  0.01976111]]\n",
      "b2 = [[0.]\n",
      " [0.]\n",
      " [0.]]\n",
      "\u001b[92m All tests passed.\n",
      "\u001b[90m\n",
      "Test Case 2:\n",
      "\n",
      "W1 = [[ 0.01788628  0.0043651   0.00096497 -0.01863493]\n",
      " [-0.00277388 -0.00354759 -0.00082741 -0.00627001]\n",
      " [-0.00043818 -0.00477218 -0.01313865  0.00884622]]\n",
      "b1 = [[0.]\n",
      " [0.]\n",
      " [0.]]\n",
      "W2 = [[ 0.00881318  0.01709573  0.00050034]\n",
      " [-0.00404677 -0.0054536  -0.01546477]]\n",
      "b2 = [[0.]\n",
      " [0.]]\n",
      "\u001b[92m All tests passed.\n"
     ]
    }
   ],
   "source": [
    "print(\"Test Case 1:\\n\")\n",
    "parameters = initialize_parameters_deep([5,4,3])\n",
    "\n",
    "print(\"W1 = \" + str(parameters[\"W1\"]))\n",
    "print(\"b1 = \" + str(parameters[\"b1\"]))\n",
    "print(\"W2 = \" + str(parameters[\"W2\"]))\n",
    "print(\"b2 = \" + str(parameters[\"b2\"]))\n",
    "\n",
    "initialize_parameters_deep_test_1(initialize_parameters_deep)\n",
    "\n",
    "print(\"\\033[90m\\nTest Case 2:\\n\")\n",
    "parameters = initialize_parameters_deep([4,3,2])\n",
    "\n",
    "print(\"W1 = \" + str(parameters[\"W1\"]))\n",
    "print(\"b1 = \" + str(parameters[\"b1\"]))\n",
    "print(\"W2 = \" + str(parameters[\"W2\"]))\n",
    "print(\"b2 = \" + str(parameters[\"b2\"]))\n",
    "initialize_parameters_deep_test_2(initialize_parameters_deep)"
   ]
  },
  {
   "cell_type": "markdown",
   "metadata": {},
   "source": [
    "***Expected output***\n",
    "```\n",
    "Test Case 1:\n",
    "\n",
    "W1 = [[ 0.01788628  0.0043651   0.00096497 -0.01863493 -0.00277388]\n",
    " [-0.00354759 -0.00082741 -0.00627001 -0.00043818 -0.00477218]\n",
    " [-0.01313865  0.00884622  0.00881318  0.01709573  0.00050034]\n",
    " [-0.00404677 -0.0054536  -0.01546477  0.00982367 -0.01101068]]\n",
    "b1 = [[0.]\n",
    " [0.]\n",
    " [0.]\n",
    " [0.]]\n",
    "W2 = [[-0.01185047 -0.0020565   0.01486148  0.00236716]\n",
    " [-0.01023785 -0.00712993  0.00625245 -0.00160513]\n",
    " [-0.00768836 -0.00230031  0.00745056  0.01976111]]\n",
    "b2 = [[0.]\n",
    " [0.]\n",
    " [0.]]\n",
    " All tests passed.\n",
    "\n",
    "Test Case 2:\n",
    "\n",
    "W1 = [[ 0.01788628  0.0043651   0.00096497 -0.01863493]\n",
    " [-0.00277388 -0.00354759 -0.00082741 -0.00627001]\n",
    " [-0.00043818 -0.00477218 -0.01313865  0.00884622]]\n",
    "b1 = [[0.]\n",
    " [0.]\n",
    " [0.]]\n",
    "W2 = [[ 0.00881318  0.01709573  0.00050034]\n",
    " [-0.00404677 -0.0054536  -0.01546477]]\n",
    "b2 = [[0.]\n",
    " [0.]]\n",
    " All tests passed.\n",
    "```"
   ]
  },
  {
   "cell_type": "markdown",
   "metadata": {},
   "source": [
    "<a name='4'></a>\n",
    "## 4 – Модуль прямого поширення\n",
    "\n",
    "<a name='4-1'></a>\n",
    "\n",
    "### 4.1 – Лінійне пряме поширення\n",
    "\n",
    "Тепер, коли ви ініціалізували параметри, можна перейти до модуля прямого поширення. Почніть із реалізації базових функцій, які ви зможете повторно використовувати пізніше при побудові моделі. Ви реалізуєте три функції в такому порядку:\n",
    "\n",
    "* **LINEAR**\n",
    "* **LINEAR → ACTIVATION**, де ACTIVATION буде або ReLU, або Sigmoid\n",
    "* **\\[LINEAR → RELU] × (L–1) → LINEAR → SIGMOID** (вся модель)\n",
    "\n",
    "Модуль лінійного прямого поширення (векторизований для всіх прикладів) обчислює такі рівняння:\n",
    "\n",
    "\n",
    "$$Z^{[l]} = W^{[l]}A^{[l-1]} +b^{[l]}\\tag{4}$$\n",
    "\n",
    "де $A^{[0]} = X$. \n",
    "\n",
    "<a name='ex-3'></a>\n",
    "### Вправа 3 – `linear_forward`\n",
    "\n",
    "Реалізуйте лінійну частину прямого поширення.\n",
    "\n",
    "**Нагадування**:\n",
    "Математичне представлення цього кроку:\n",
    "$Z^{[l]} = W^{[l]}A^{[l-1]} + b^{[l]}$\n",
    "Також може бути корисною функція `np.dot()`. Якщо розміри не збігаються, спробуйте вивести `W.shape` для діагностики.\n"
   ]
  },
  {
   "cell_type": "code",
   "execution_count": 15,
   "metadata": {
    "deletable": false,
    "nbgrader": {
     "cell_type": "code",
     "checksum": "770763ab229ee87e8f5dfd520428caa3",
     "grade": false,
     "grade_id": "cell-4d6e09486a53f4c4",
     "locked": false,
     "schema_version": 3,
     "solution": true,
     "task": false
    }
   },
   "outputs": [],
   "source": [
    "def linear_forward(A, W, b):\n",
    "    \"\"\"\n",
    "    Реалізує лінійну частину прямого проходження шару.\n",
    "\n",
    "    Arguments:\n",
    "    A -- активації з попереднього шару (або вхідні дані), розмір (розмір попереднього шару, кількість прикладів)\n",
    "    W -- матриця ваг, розмір (розмір поточного шару, розмір попереднього шару)\n",
    "    b -- вектор зсувів, розмір (розмір поточного шару, 1)\n",
    "\n",
    "    Returns:\n",
    "    Z -- вхід для функції активації (лінійна комбінація), також зветься параметром до активації\n",
    "    cache -- кортеж (A, W, b), який зберігаємо для зручності при зворотному проходженні (backward propagation)\n",
    "    \"\"\"\n",
    "    \n",
    "    # Обчислюємо лінійну комбінацію: Z = W * A + b\n",
    "    Z = np.dot(W, A) + b\n",
    "\n",
    "    cache = (A, W, b)\n",
    "    \n",
    "    return Z, cache"
   ]
  },
  {
   "cell_type": "code",
   "execution_count": 16,
   "metadata": {
    "deletable": false,
    "editable": false,
    "nbgrader": {
     "cell_type": "code",
     "checksum": "e3fd70fd81b04a2c70f37588ee21140c",
     "grade": true,
     "grade_id": "cell-df6ddb1e30f9c96d",
     "locked": true,
     "points": 10,
     "schema_version": 3,
     "solution": false,
     "task": false
    }
   },
   "outputs": [
    {
     "name": "stdout",
     "output_type": "stream",
     "text": [
      "Z = [[ 3.26295337 -1.23429987]]\n",
      "\u001b[92m All tests passed.\n"
     ]
    }
   ],
   "source": [
    "t_A, t_W, t_b = linear_forward_test_case()\n",
    "t_Z, t_linear_cache = linear_forward(t_A, t_W, t_b)\n",
    "print(\"Z = \" + str(t_Z))\n",
    "\n",
    "linear_forward_test(linear_forward)"
   ]
  },
  {
   "cell_type": "markdown",
   "metadata": {},
   "source": [
    "***Expected output***\n",
    "```\n",
    "Z = [[ 3.26295337 -1.23429987]]\n",
    "```"
   ]
  },
  {
   "cell_type": "markdown",
   "metadata": {},
   "source": [
    "<a name='4-2'></a>\n",
    "\n",
    "### 4.2 – Лінійно-активаційне пряме поширення\n",
    "\n",
    "У цьому ноутбуці ви використовуватимете дві функції активації:\n",
    "\n",
    "* **Sigmoid**:\n",
    "  $\\sigma(Z) = \\sigma(WA + b) = \\frac{1}{1 + e^{-(WA + b)}}$\n",
    "  Вам уже надано функцію `sigmoid`, яка повертає **два** елементи: значення активації \"`A`\" та \"`cache`\", що містить \"`Z`\" (його буде використано у відповідній зворотній функції). Використовувати її можна так:\n",
    "\n",
    "  ```python\n",
    "  A, activation_cache = sigmoid(Z)\n",
    "  ```\n",
    "\n",
    "* **ReLU**:\n",
    "  Математична формула для ReLU:\n",
    "  $A = \\text{RELU}(Z) = \\max(0, Z)$\n",
    "  Вам також надано функцію `relu`, яка повертає **два** елементи: значення активації \"`A`\" і \"`cache`\", що містить \"`Z`\" (його буде передано у відповідну зворотну функцію). Використовувати її можна так:\n",
    "\n",
    "  ```python\n",
    "  A, activation_cache = relu(Z)\n",
    "  ```\n"
   ]
  },
  {
   "cell_type": "markdown",
   "metadata": {},
   "source": [
    "Для зручності ви об’єднаєте дві функції (Лінійна та Активаційна) в одну функцію (LINEAR->ACTIVATION). Тобто реалізуєте функцію, яка виконує лінійний крок вперед, а потім крок активації.\n",
    "\n",
    "<a name='ex-4'></a>\n",
    "\n",
    "### Вправа 4 – `linear_activation_forward`\n",
    "\n",
    "Реалізуйте пряме поширення шару *LINEAR->ACTIVATION*. Математичне відношення:\n",
    "$A^{[l]} = g(Z^{[l]}) = g(W^{[l]}A^{[l-1]} + b^{[l]})$\n",
    "де активація \\$g\\$ може бути `sigmoid()` або `relu()`. Використайте функцію `linear_forward()` та відповідну функцію активації.\n"
   ]
  },
  {
   "cell_type": "code",
   "execution_count": 17,
   "metadata": {
    "deletable": false,
    "nbgrader": {
     "cell_type": "code",
     "checksum": "f09e76f2a56c8ee77db3e89214a676b2",
     "grade": false,
     "grade_id": "cell-eb48903dd8e48a90",
     "locked": false,
     "schema_version": 3,
     "solution": true,
     "task": false
    }
   },
   "outputs": [],
   "source": [
    "def linear_activation_forward(A_prev, W, b, activation):\n",
    "    \"\"\"\n",
    "    Реалізує пряме проходження для шару: лінійна операція + функція активації\n",
    "\n",
    "    Arguments:\n",
    "    A_prev -- активації з попереднього шару (або вхідні дані), розмір (розмір попереднього шару, кількість прикладів)\n",
    "    W -- матриця ваг поточного шару, розмір (розмір поточного шару, розмір попереднього шару)\n",
    "    b -- вектор зсувів поточного шару, розмір (розмір поточного шару, 1)\n",
    "    activation -- тип функції активації: \"sigmoid\" або \"relu\"\n",
    "\n",
    "    Returns:\n",
    "    A -- активації після застосування функції активації (пост-активаційне значення)\n",
    "    cache -- кортеж, який містить два кеші: лінійний (linear_cache) та активаційний (activation_cache)\n",
    "             для подальшого використання у зворотному проходженні\n",
    "    \"\"\"\n",
    "    \n",
    "    if activation == \"sigmoid\":\n",
    "      \n",
    "        Z, linear_cache = linear_forward(A_prev, W, b)  # Лінійний крок\n",
    "        A, activation_cache = sigmoid(Z)                # Застосування сигмоїдної активації\n",
    "\n",
    "    \n",
    "    elif activation == \"relu\":\n",
    "        \n",
    "        Z, linear_cache = linear_forward(A_prev, W, b)\n",
    "        A, activation_cache = relu(Z)            # Застосування ReLU активації\n",
    " \n",
    "    cache = (linear_cache, activation_cache)   # Зберігаємо обидва кеші для backward propagation\n",
    "\n",
    "    return A, cache"
   ]
  },
  {
   "cell_type": "code",
   "execution_count": 18,
   "metadata": {
    "deletable": false,
    "editable": false,
    "nbgrader": {
     "cell_type": "code",
     "checksum": "2b2a80630d2ecb9d03df4ecf6d76170d",
     "grade": true,
     "grade_id": "cell-ed5c76db14d687dd",
     "locked": true,
     "points": 10,
     "schema_version": 3,
     "solution": false,
     "task": false
    }
   },
   "outputs": [
    {
     "name": "stdout",
     "output_type": "stream",
     "text": [
      "With sigmoid: A = [[0.96890023 0.11013289]]\n",
      "With ReLU: A = [[3.43896131 0.        ]]\n",
      "\u001b[92m All tests passed.\n"
     ]
    }
   ],
   "source": [
    "t_A_prev, t_W, t_b = linear_activation_forward_test_case()\n",
    "\n",
    "t_A, t_linear_activation_cache = linear_activation_forward(t_A_prev, t_W, t_b, activation = \"sigmoid\")\n",
    "print(\"With sigmoid: A = \" + str(t_A))\n",
    "\n",
    "t_A, t_linear_activation_cache = linear_activation_forward(t_A_prev, t_W, t_b, activation = \"relu\")\n",
    "print(\"With ReLU: A = \" + str(t_A))\n",
    "\n",
    "linear_activation_forward_test(linear_activation_forward)"
   ]
  },
  {
   "cell_type": "markdown",
   "metadata": {},
   "source": [
    "***Expected output***\n",
    "```\n",
    "With sigmoid: A = [[0.96890023 0.11013289]]\n",
    "With ReLU: A = [[3.43896131 0.        ]]\n",
    "```"
   ]
  },
  {
   "cell_type": "markdown",
   "metadata": {},
   "source": [
    "**Примітка**: У глибинному навчанні обчислення \"\\[LINEAR->ACTIVATION]\" вважається одним шаром нейронної мережі, а не двома шарами.\n"
   ]
  },
  {
   "cell_type": "markdown",
   "metadata": {},
   "source": [
    "<a name='4-3'></a>\n",
    "### 4.3 – Модель з L шарами\n",
    "\n",
    "Для ще більшої зручності при реалізації \\$L\\$-шарової нейронної мережі вам потрібна функція, яка повторює попередню (`linear_activation_forward` з RELU) \\$L-1\\$ разів, а потім виконує один виклик `linear_activation_forward` з SIGMOID.\n",
    "\n",
    "<img src=\"images/model_architecture_kiank.png\" style=\"width:600px;height:300px;\">\n",
    "<caption><center> <b>Figure 2</b> : *[LINEAR -> RELU] $\\times$ (L-1) -> LINEAR -> SIGMOID* model</center></caption><br>\n",
    "\n",
    "<a name='ex-5'></a>\n",
    "### Вправа 5 – `L_model_forward`\n",
    "\n",
    "Реалізуйте пряме поширення описаної вище моделі.\n",
    "\n",
    "**Інструкції**: У наведеному нижче коді змінна `AL` позначатиме\n",
    "$A^{[L]} = \\sigma(Z^{[L]}) = \\sigma(W^{[L]} A^{[L-1]} + b^{[L]})$\n",
    "(Іноді це також називають `Yhat`, тобто \\$\\hat{Y}\\$.)\n",
    "\n",
    "**Підказки**:\n",
    "\n",
    "* Використовуйте функції, які ви написали раніше\n",
    "* Використайте цикл `for`, щоб повторити \\[LINEAR->RELU] \\$(L-1)\\$ разів\n",
    "* Не забувайте зберігати кеші в списку `caches`. Щоб додати нове значення `c` у список, використовуйте `list.append(c)`\n"
   ]
  },
  {
   "cell_type": "code",
   "execution_count": 19,
   "metadata": {
    "deletable": false,
    "nbgrader": {
     "cell_type": "code",
     "checksum": "a0071c19f83d4b851dc8a67e66545262",
     "grade": false,
     "grade_id": "cell-9a8ec52ec8f6e04a",
     "locked": false,
     "schema_version": 3,
     "solution": true,
     "task": false
    }
   },
   "outputs": [],
   "source": [
    "def L_model_forward(X, parameters):\n",
    "    \"\"\"\n",
    "    Реалізує пряме проходження для мережі з L шарів:\n",
    "    [LINEAR->RELU]*(L-1) -> LINEAR->SIGMOID\n",
    "    \n",
    "    Arguments:\n",
    "    X -- вхідні дані, numpy масив розміру (кількість ознак, кількість прикладів)\n",
    "    parameters -- словник параметрів (вивід функції initialize_parameters_deep)\n",
    "    \n",
    "    Returns:\n",
    "    AL -- активації останнього шару (вихід мережі)\n",
    "    caches -- список кешів, що містить кеші для кожного шару (для backward propagation)\n",
    "    \"\"\"\n",
    "\n",
    "    caches = []                  # список для збереження кешів\n",
    "    A = X                        # спочатку активації — це вхідні дані\n",
    "    L = len(parameters) // 2     # кількість шарів у мережі (по 2 параметри на шар: W і b)\n",
    "    \n",
    "    # Implement [LINEAR -> RELU]*(L-1). Add \"cache\" to the \"caches\" list.\n",
    "    # The for loop starts at 1 because layer 0 is the input\n",
    "    for l in range(1, L):\n",
    "        A_prev = A \n",
    "       \n",
    "        A_prev = A  # активації з попереднього шару\n",
    "        # Викликаємо forward для поточного шару з активацією ReLU\n",
    "        A, cache = linear_activation_forward(A_prev, \n",
    "                                           parameters['W' + str(l)], \n",
    "                                           parameters['b' + str(l)], \n",
    "                                           activation=\"relu\")\n",
    "        caches.append(cache)\n",
    "\n",
    "    \n",
    "    # Implement LINEAR -> SIGMOID. Add \"cache\" to the \"caches\" list.\n",
    "    # Пряме проходження для останнього шару з активацією сигмоїд (для класифікації)\n",
    "    AL, cache = linear_activation_forward(A, \n",
    "                                        parameters['W' + str(L)], \n",
    "                                        parameters['b' + str(L)], \n",
    "                                        activation=\"sigmoid\")\n",
    "    caches.append(cache)\n",
    "\n",
    "          \n",
    "    return AL, caches"
   ]
  },
  {
   "cell_type": "code",
   "execution_count": 20,
   "metadata": {
    "deletable": false,
    "editable": false,
    "nbgrader": {
     "cell_type": "code",
     "checksum": "18d99d8170d2fed802a3e97e362339c6",
     "grade": true,
     "grade_id": "cell-ddc3a524cd1a0782",
     "locked": true,
     "points": 10,
     "schema_version": 3,
     "solution": false,
     "task": false
    }
   },
   "outputs": [
    {
     "name": "stdout",
     "output_type": "stream",
     "text": [
      "AL = [[0.03921668 0.70498921 0.19734387 0.04728177]]\n",
      "\u001b[92m All tests passed.\n"
     ]
    }
   ],
   "source": [
    "t_X, t_parameters = L_model_forward_test_case_2hidden()\n",
    "t_AL, t_caches = L_model_forward(t_X, t_parameters)\n",
    "\n",
    "print(\"AL = \" + str(t_AL))\n",
    "\n",
    "L_model_forward_test(L_model_forward)"
   ]
  },
  {
   "cell_type": "markdown",
   "metadata": {},
   "source": [
    "***Expected output***\n",
    "```\n",
    "AL = [[0.03921668 0.70498921 0.19734387 0.04728177]]\n",
    "```"
   ]
  },
  {
   "cell_type": "markdown",
   "metadata": {},
   "source": [
    "**Чудово!** Ви реалізували повне пряме поширення, яке приймає вхідні дані X і видає вектор рядка \\$A^{\\[L]}\\$, що містить ваші передбачення. Воно також зберігає всі проміжні значення у \"caches\". Використовуючи \\$A^{\\[L]}\\$, ви можете обчислити вартість (cost) ваших передбачень.\n"
   ]
  },
  {
   "cell_type": "markdown",
   "metadata": {},
   "source": [
    "<a name='5'></a>\n",
    "\n",
    "## 5 – Функція вартості\n",
    "\n",
    "Тепер ви можете реалізувати пряме і зворотне поширення! Потрібно обчислити вартість, щоб перевірити, чи справді ваша модель навчається.\n",
    "\n",
    "<a name='ex-6'></a>\n",
    "\n",
    "### Вправа 6 – `compute_cost`\n",
    "\n",
    "Обчисліть крос-ентропійну вартість \\$J\\$, використовуючи таку формулу: $$-\\frac{1}{m} \\sum\\limits_{i = 1}^{m} (y^{(i)}\\log\\left(a^{[L] (i)}\\right) + (1-y^{(i)})\\log\\left(1- a^{[L](i)}\\right)) \\tag{7}$$\n"
   ]
  },
  {
   "cell_type": "code",
   "execution_count": 12,
   "metadata": {
    "deletable": false,
    "nbgrader": {
     "cell_type": "code",
     "checksum": "17919bb7d82635554b52aed7e96e8d9b",
     "grade": false,
     "grade_id": "cell-abad606772066f14",
     "locked": false,
     "schema_version": 3,
     "solution": true,
     "task": false
    }
   },
   "outputs": [],
   "source": [
    "def compute_cost(AL, Y):\n",
    "    \"\"\"\n",
    "    Обчислює функцію вартості (cost function) за формулою крос-ентропії.\n",
    "\n",
    "    Arguments:\n",
    "    AL -- вектор ймовірностей, отриманий від мережі (передбачення), розмір (1, кількість прикладів)\n",
    "    Y -- вектор істинних міток (0 або 1), розмір (1, кількість прикладів)\n",
    "\n",
    "    Returns:\n",
    "    cost -- значення крос-ентропійних втрат (скаляр)\n",
    "    \"\"\"\n",
    "    \n",
    "    m = Y.shape[1]   # кількість прикладів\n",
    "\n",
    "    # Compute loss from aL and y.\n",
    "    # Обчислення середньої крос-ентропійної втрати по всіх прикладах\n",
    "    cost = (-1/m) * np.sum(Y * np.log(AL) + (1 - Y) * np.log(1 - AL))\n",
    "\n",
    "    \n",
    "    cost = np.squeeze(cost)       # перетворення shape (1,) на скаляр, якщо потрібно\n",
    "    \n",
    "    \n",
    "    return cost"
   ]
  },
  {
   "cell_type": "code",
   "execution_count": 13,
   "metadata": {
    "deletable": false,
    "editable": false,
    "nbgrader": {
     "cell_type": "code",
     "checksum": "913bc99f9f1380196c0f88d82d1af893",
     "grade": true,
     "grade_id": "cell-e82b9dd1fa6e970b",
     "locked": true,
     "points": 10,
     "schema_version": 3,
     "solution": false,
     "task": false
    }
   },
   "outputs": [
    {
     "name": "stdout",
     "output_type": "stream",
     "text": [
      "Cost: 0.2797765635793422\n",
      "\u001b[92m All tests passed.\n"
     ]
    }
   ],
   "source": [
    "t_Y, t_AL = compute_cost_test_case()\n",
    "t_cost = compute_cost(t_AL, t_Y)\n",
    "\n",
    "print(\"Cost: \" + str(t_cost))\n",
    "\n",
    "compute_cost_test(compute_cost)"
   ]
  },
  {
   "cell_type": "markdown",
   "metadata": {},
   "source": [
    "**Expected Output**:\n",
    "\n",
    "<table>\n",
    "    <tr>\n",
    "        <td><b>cost</b> </td>\n",
    "    <td> 0.2797765635793422</td> \n",
    "    </tr>\n",
    "</table>"
   ]
  },
  {
   "cell_type": "markdown",
   "metadata": {},
   "source": [
    "<a name='6'></a>\n",
    "## 6 – Модуль зворотного поширення\n",
    "\n",
    "Так само, як і для прямого поширення, ви реалізуєте допоміжні функції для зворотного поширення. Пам’ятайте, що зворотне поширення використовується для обчислення градієнта функції втрат щодо параметрів.\n",
    "\n",
    "**Reminder**: \n",
    "<img src=\"images/backprop_kiank.png\" style=\"width:650px;height:250px;\">\n",
    "<caption><center><font color='purple'><b>Figure 3</b>: Пряме та зворотне поширення для LINEAR->RELU->LINEAR->SIGMOID <i>Фіолетові блоки позначають пряме поширення, а червоні — зворотне поширення.</i> </font></center></caption>\n",
    "\n",
    "\n",
    "<!-- \n",
    "For those of you who are experts in calculus (which you don't need to be to do this assignment!), the chain rule of calculus can be used to derive the derivative of the loss $\\mathcal{L}$ with respect to $z^{[1]}$ in a 2-layer network as follows:\n",
    "\n",
    "$$\\frac{d \\mathcal{L}(a^{[2]},y)}{{dz^{[1]}}} = \\frac{d\\mathcal{L}(a^{[2]},y)}{{da^{[2]}}}\\frac{{da^{[2]}}}{{dz^{[2]}}}\\frac{{dz^{[2]}}}{{da^{[1]}}}\\frac{{da^{[1]}}}{{dz^{[1]}}} \\tag{8} $$\n",
    "\n",
    "In order to calculate the gradient $dW^{[1]} = \\frac{\\partial L}{\\partial W^{[1]}}$, use the previous chain rule and you do $dW^{[1]} = dz^{[1]} \\times \\frac{\\partial z^{[1]} }{\\partial W^{[1]}}$. During backpropagation, at each step you multiply your current gradient by the gradient corresponding to the specific layer to get the gradient you wanted.\n",
    "\n",
    "Equivalently, in order to calculate the gradient $db^{[1]} = \\frac{\\partial L}{\\partial b^{[1]}}$, you use the previous chain rule and you do $db^{[1]} = dz^{[1]} \\times \\frac{\\partial z^{[1]} }{\\partial b^{[1]}}$.\n",
    "\n",
    "This is why we talk about **backpropagation**.\n",
    "!-->\n",
    "\n",
    "Тепер, аналогічно до прямого поширення, ви реалізуєте зворотне поширення у три кроки:\n",
    "\n",
    "1. Лінійне зворотне поширення (LINEAR backward)\n",
    "2. Зворотне поширення для LINEAR -> ACTIVATION, де ACTIVATION обчислює похідну функції активації — ReLU або sigmoid\n",
    "3. Зворотне поширення для всієї моделі: \\[LINEAR -> RELU] × (L-1) -> LINEAR -> SIGMOID backward"
   ]
  },
  {
   "cell_type": "markdown",
   "metadata": {},
   "source": [
    "Для наступної вправи вам потрібно пам’ятати, що:\n",
    "\n",
    "* `b` — це матриця (np.ndarray) з 1 стовпцем і n рядками, наприклад:\n",
    "\n",
    "  ```python\n",
    "  b = [[1.0], [2.0]]\n",
    "  ```\n",
    "  (пам’ятайте, що `b` є константою)\n",
    "* `np.sum` виконує сумування елементів масиву ndarray\n",
    "* `axis=1` або `axis=0` вказують, чи сумування виконується по рядках, чи по стовпцях відповідно\n",
    "* `keepdims` вказує, чи зберігати початкові розміри матриці після сумування\n",
    "* Ось приклад для прояснення:\n"
   ]
  },
  {
   "cell_type": "code",
   "execution_count": 21,
   "metadata": {},
   "outputs": [
    {
     "name": "stdout",
     "output_type": "stream",
     "text": [
      "axis=1 and keepdims=True\n",
      "[[3]\n",
      " [7]]\n",
      "axis=1 and keepdims=False\n",
      "[3 7]\n",
      "axis=0 and keepdims=True\n",
      "[[4 6]]\n",
      "axis=0 and keepdims=False\n",
      "[4 6]\n"
     ]
    }
   ],
   "source": [
    "A = np.array([[1, 2], [3, 4]])\n",
    "\n",
    "print('axis=1 and keepdims=True')\n",
    "print(np.sum(A, axis=1, keepdims=True))\n",
    "print('axis=1 and keepdims=False')\n",
    "print(np.sum(A, axis=1, keepdims=False))\n",
    "print('axis=0 and keepdims=True')\n",
    "print(np.sum(A, axis=0, keepdims=True))\n",
    "print('axis=0 and keepdims=False')\n",
    "print(np.sum(A, axis=0, keepdims=False))"
   ]
  },
  {
   "cell_type": "markdown",
   "metadata": {},
   "source": [
    "<a name='6-1'></a>\n",
    "### 6.1 – Лінійне зворотне поширення\n",
    "\n",
    "Для шару \\$l\\$ лінійна частина виглядає так:\n",
    "$Z^{[l]} = W^{[l]} A^{[l-1]} + b^{[l]}$\n",
    "(після чого застосовується функція активації).\n",
    "\n",
    "Припустимо, що ви вже обчислили похідну $dZ^{[l]} = \\frac{\\partial \\mathcal{L} }{\\partial Z^{[l]}}$. You want to get $(dW^{[l]}, db^{[l]}, dA^{[l-1]})$.\n",
    "\n",
    "<img src=\"images/linearback_kiank.png\" style=\"width:250px;height:300px;\">\n",
    "<caption><center><font color='purple'><b>Figure 4</b></font></center></caption>\n",
    "\n",
    "The three outputs $(dW^{[l]}, db^{[l]}, dA^{[l-1]})$ are computed using the input $dZ^{[l]}$.\n",
    "\n",
    "Here are the formulas you need:\n",
    "$$ dW^{[l]} = \\frac{\\partial \\mathcal{J} }{\\partial W^{[l]}} = \\frac{1}{m} dZ^{[l]} A^{[l-1] T} \\tag{8}$$\n",
    "$$ db^{[l]} = \\frac{\\partial \\mathcal{J} }{\\partial b^{[l]}} = \\frac{1}{m} \\sum_{i = 1}^{m} dZ^{[l](i)}\\tag{9}$$\n",
    "$$ dA^{[l-1]} = \\frac{\\partial \\mathcal{L} }{\\partial A^{[l-1]}} = W^{[l] T} dZ^{[l]} \\tag{10}$$\n",
    "\n",
    "\n",
    "$A^{[l-1] T}$ is the transpose of $A^{[l-1]}$. "
   ]
  },
  {
   "cell_type": "markdown",
   "metadata": {},
   "source": [
    "<a name='ex-7'></a>\n",
    "### Вправа 7 – `linear_backward`\n",
    "\n",
    "Використайте наведені вище три формули для реалізації функції `linear_backward()`.\n",
    "\n",
    "**Підказка**:\n",
    "\n",
    "* У NumPy транспонувати масив `A` можна за допомогою `A.T` або `A.transpose()`"
   ]
  },
  {
   "cell_type": "code",
   "execution_count": 22,
   "metadata": {
    "deletable": false,
    "nbgrader": {
     "cell_type": "code",
     "checksum": "137d11e28068848079eb6c315a59f2be",
     "grade": false,
     "grade_id": "cell-418e156a9203fe72",
     "locked": false,
     "schema_version": 3,
     "solution": true,
     "task": false
    }
   },
   "outputs": [],
   "source": [
    "def linear_backward(dZ, cache):\n",
    "    \"\"\"\n",
    "    Реалізує лінійну частину зворотного проходження для одного шару (шар l)\n",
    "\n",
    "    Arguments:\n",
    "    dZ -- градієнт вартості по відношенню до лінійного виходу шару l (shape як у Z)\n",
    "    cache -- кортеж (A_prev, W, b), отриманий під час прямого проходження цього шару\n",
    "\n",
    "    Returns:\n",
    "    dA_prev -- градієнт вартості по відношенню до активацій попереднього шару (l-1), має форму A_prev\n",
    "    dW -- градієнт вартості по відношенню до ваг W шару l, має форму W\n",
    "    db -- градієнт вартості по відношенню до вектору зсувів b шару l, має форму b\n",
    "    \"\"\"\n",
    "    A_prev, W, b = cache\n",
    "    m = A_prev.shape[1]\n",
    "\n",
    "    # Обчислюємо градієнти:\n",
    "    # dW - середній по всіх прикладах добуток dZ на активації попереднього шару\n",
    "    dW = (1/m) * np.dot(dZ, A_prev.T)\n",
    "\n",
    "    # db - середній по всіх прикладах сумарний градієнт по bias (зберігаємо розмірність)\n",
    "    db = (1/m) * np.sum(dZ, axis=1, keepdims=True)\n",
    "\n",
    "    \n",
    "    # dA_prev - градієнт по активаціях попереднього шару, щоб поширити назад\n",
    "    dA_prev = np.dot(W.T, dZ)\n",
    "\n",
    "    \n",
    "    return dA_prev, dW, db"
   ]
  },
  {
   "cell_type": "code",
   "execution_count": 23,
   "metadata": {
    "deletable": false,
    "editable": false,
    "nbgrader": {
     "cell_type": "code",
     "checksum": "35a1c64c59ad26318ab2f807acb9093c",
     "grade": true,
     "grade_id": "cell-b826650c7bd2a7ec",
     "locked": true,
     "points": 10,
     "schema_version": 3,
     "solution": false,
     "task": false
    }
   },
   "outputs": [
    {
     "name": "stdout",
     "output_type": "stream",
     "text": [
      "dA_prev: [[-1.15171336  0.06718465 -0.3204696   2.09812712]\n",
      " [ 0.60345879 -3.72508701  5.81700741 -3.84326836]\n",
      " [-0.4319552  -1.30987417  1.72354705  0.05070578]\n",
      " [-0.38981415  0.60811244 -1.25938424  1.47191593]\n",
      " [-2.52214926  2.67882552 -0.67947465  1.48119548]]\n",
      "dW: [[ 0.07313866 -0.0976715  -0.87585828  0.73763362  0.00785716]\n",
      " [ 0.85508818  0.37530413 -0.59912655  0.71278189 -0.58931808]\n",
      " [ 0.97913304 -0.24376494 -0.08839671  0.55151192 -0.10290907]]\n",
      "db: [[-0.14713786]\n",
      " [-0.11313155]\n",
      " [-0.13209101]]\n",
      "\u001b[92m All tests passed.\n"
     ]
    }
   ],
   "source": [
    "t_dZ, t_linear_cache = linear_backward_test_case()\n",
    "t_dA_prev, t_dW, t_db = linear_backward(t_dZ, t_linear_cache)\n",
    "\n",
    "print(\"dA_prev: \" + str(t_dA_prev))\n",
    "print(\"dW: \" + str(t_dW))\n",
    "print(\"db: \" + str(t_db))\n",
    "\n",
    "linear_backward_test(linear_backward)"
   ]
  },
  {
   "cell_type": "markdown",
   "metadata": {},
   "source": [
    "**Expected Output**:\n",
    "```\n",
    "dA_prev: [[-1.15171336  0.06718465 -0.3204696   2.09812712]\n",
    " [ 0.60345879 -3.72508701  5.81700741 -3.84326836]\n",
    " [-0.4319552  -1.30987417  1.72354705  0.05070578]\n",
    " [-0.38981415  0.60811244 -1.25938424  1.47191593]\n",
    " [-2.52214926  2.67882552 -0.67947465  1.48119548]]\n",
    "dW: [[ 0.07313866 -0.0976715  -0.87585828  0.73763362  0.00785716]\n",
    " [ 0.85508818  0.37530413 -0.59912655  0.71278189 -0.58931808]\n",
    " [ 0.97913304 -0.24376494 -0.08839671  0.55151192 -0.10290907]]\n",
    "db: [[-0.14713786]\n",
    " [-0.11313155]\n",
    " [-0.13209101]]\n",
    " ```"
   ]
  },
  {
   "cell_type": "markdown",
   "metadata": {},
   "source": [
    "<a name='6-2'></a>\n",
    "\n",
    "### 6.2 – Лінійно-активаційне зворотне поширення\n",
    "\n",
    "Далі ви створите функцію, що об’єднує дві допоміжні функції: **`linear_backward`** та крок зворотного поширення для активації — **`linear_activation_backward`**.\n",
    "\n",
    "Для допомоги в реалізації `linear_activation_backward` вам надано дві функції зворотного поширення:\n",
    "\n",
    "* **`sigmoid_backward`**: реалізує зворотне поширення для SIGMOID. Викликати її можна так:\n",
    "\n",
    "```python\n",
    "dZ = sigmoid_backward(dA, activation_cache)\n",
    "```\n",
    "\n",
    "* **`relu_backward`**: реалізує зворотне поширення для RELU. Викликати її можна так:\n",
    "\n",
    "```python\n",
    "dZ = relu_backward(dA, activation_cache)\n",
    "```\n",
    "\n",
    "Якщо \\$g(.)\\$ — функція активації,\n",
    "то `sigmoid_backward` і `relu_backward` обчислюють:\n",
    "$dZ^{[l]} = dA^{[l]} * g'(Z^{[l]}). \\tag{11}$\n",
    "\n",
    "<a name='ex-8'></a>\n",
    "\n",
    "### Вправа 8 – `linear_activation_backward`\n",
    "\n",
    "Реалізуйте зворотне поширення для шару *LINEAR->ACTIVATION*.\n"
   ]
  },
  {
   "cell_type": "code",
   "execution_count": 24,
   "metadata": {
    "deletable": false,
    "nbgrader": {
     "cell_type": "code",
     "checksum": "3497ac4aa36a57278edbfb84a44e1d72",
     "grade": false,
     "grade_id": "cell-6c59263d69168c17",
     "locked": false,
     "schema_version": 3,
     "solution": true,
     "task": false
    }
   },
   "outputs": [],
   "source": [
    "def linear_activation_backward(dA, cache, activation):\n",
    "    \"\"\"\n",
    "    Реалізує зворотнє поширення для шару виду LINEAR->ACTIVATION\n",
    "    \n",
    "    Arguments:\n",
    "    dA -- градієнт вартості по відношенню до активації поточного шару l\n",
    "    cache -- кортеж (linear_cache, activation_cache), збережений під час прямого проходження\n",
    "    activation -- тип активації у цьому шарі: \"sigmoid\" або \"relu\"\n",
    "    \n",
    "    Returns:\n",
    "    dA_prev -- градієнт вартості по відношенню до активації попереднього шару (l-1)\n",
    "    dW -- градієнт вартості по відношенню до ваг W шару l\n",
    "    db -- градієнт вартості по відношенню до bias b шару l\n",
    "    \"\"\"\n",
    "    linear_cache, activation_cache = cache\n",
    "    \n",
    "    if activation == \"relu\":\n",
    "        # Обчислюємо dZ через похідну ReLU\n",
    "        dZ = relu_backward(dA, activation_cache)\n",
    "        # Потім передаємо dZ у лінійний backward для обчислення градієнтів параметрів\n",
    "        dA_prev, dW, db = linear_backward(dZ, linear_cache)\n",
    "\n",
    "        \n",
    "    elif activation == \"sigmoid\":\n",
    "        # Обчислюємо dZ через похідну сигмоїди\n",
    "        dZ = sigmoid_backward(dA, activation_cache)\n",
    "        # Обчислюємо градієнти параметрів\n",
    "        dA_prev, dW, db = linear_backward(dZ, linear_cache)\n",
    "    \n",
    "    return dA_prev, dW, db"
   ]
  },
  {
   "cell_type": "code",
   "execution_count": 25,
   "metadata": {
    "deletable": false,
    "editable": false,
    "nbgrader": {
     "cell_type": "code",
     "checksum": "2aa3ea709e212c8d39caf189f86b5866",
     "grade": true,
     "grade_id": "cell-d88535fde29cd1d6",
     "locked": true,
     "points": 10,
     "schema_version": 3,
     "solution": false,
     "task": false
    }
   },
   "outputs": [
    {
     "name": "stdout",
     "output_type": "stream",
     "text": [
      "With sigmoid: dA_prev = [[ 0.11017994  0.01105339]\n",
      " [ 0.09466817  0.00949723]\n",
      " [-0.05743092 -0.00576154]]\n",
      "With sigmoid: dW = [[ 0.10266786  0.09778551 -0.01968084]]\n",
      "With sigmoid: db = [[-0.05729622]]\n",
      "With relu: dA_prev = [[ 0.44090989  0.        ]\n",
      " [ 0.37883606  0.        ]\n",
      " [-0.2298228   0.        ]]\n",
      "With relu: dW = [[ 0.44513824  0.37371418 -0.10478989]]\n",
      "With relu: db = [[-0.20837892]]\n",
      "\u001b[92m All tests passed.\n"
     ]
    }
   ],
   "source": [
    "t_dAL, t_linear_activation_cache = linear_activation_backward_test_case()\n",
    "\n",
    "t_dA_prev, t_dW, t_db = linear_activation_backward(t_dAL, t_linear_activation_cache, activation = \"sigmoid\")\n",
    "print(\"With sigmoid: dA_prev = \" + str(t_dA_prev))\n",
    "print(\"With sigmoid: dW = \" + str(t_dW))\n",
    "print(\"With sigmoid: db = \" + str(t_db))\n",
    "\n",
    "t_dA_prev, t_dW, t_db = linear_activation_backward(t_dAL, t_linear_activation_cache, activation = \"relu\")\n",
    "print(\"With relu: dA_prev = \" + str(t_dA_prev))\n",
    "print(\"With relu: dW = \" + str(t_dW))\n",
    "print(\"With relu: db = \" + str(t_db))\n",
    "\n",
    "linear_activation_backward_test(linear_activation_backward)"
   ]
  },
  {
   "cell_type": "markdown",
   "metadata": {},
   "source": [
    "**Expected output:**\n",
    "\n",
    "```\n",
    "With sigmoid: dA_prev = [[ 0.11017994  0.01105339]\n",
    " [ 0.09466817  0.00949723]\n",
    " [-0.05743092 -0.00576154]]\n",
    "With sigmoid: dW = [[ 0.10266786  0.09778551 -0.01968084]]\n",
    "With sigmoid: db = [[-0.05729622]]\n",
    "With relu: dA_prev = [[ 0.44090989  0.        ]\n",
    " [ 0.37883606  0.        ]\n",
    " [-0.2298228   0.        ]]\n",
    "With relu: dW = [[ 0.44513824  0.37371418 -0.10478989]]\n",
    "With relu: db = [[-0.20837892]]\n",
    "```"
   ]
  },
  {
   "cell_type": "markdown",
   "metadata": {},
   "source": [
    "<a name='6-3'></a>\n",
    "### 6.3 – Зворотне поширення для L-шарової моделі\n",
    "\n",
    "Тепер ви реалізуєте функцію зворотного поширення для всієї мережі!\n",
    "\n",
    "Нагадаємо, що під час реалізації функції `L_model_forward` на кожній ітерації ви зберігали кеш, який містить (X, W, b та Z). У модулі зворотного поширення ви будете використовувати ці змінні для обчислення градієнтів. Тому у функції `L_model_backward` ви ітеруватиметесь по всіх прихованих шарах у зворотному напрямку, починаючи з шару \\$L\\$. На кожному кроці ви будете використовувати кешовані значення для шару \\$l\\$, щоб виконати зворотне поширення через цей шар. На рисунку 5 нижче показано хід зворотного проходу.\n",
    "\n",
    "\n",
    "<img src=\"images/mn_backward.png\" style=\"width:450px;height:300px;\">\n",
    "<caption><center><font color='purple'><b>Figure 5</b>: Backward pass</font></center></caption>\n",
    "\n",
    "**Ініціалізація зворотного поширення**:\n",
    "\n",
    "Щоб виконати зворотне поширення в цій мережі, вам потрібно знати, що вихід:\n",
    "$A^{[L]} = \\sigma(Z^{[L]}).$\n",
    "Ваш код має обчислити `dAL` — похідну втрат за \\$A^{\\[L]}\\$:\n",
    "\n",
    "```python\n",
    "dAL = - (np.divide(Y, AL) - np.divide(1 - Y, 1 - AL))  # похідна функції вартості по AL\n",
    "```\n",
    "\n",
    "Потім цей градієнт після активації `dAL` можна передати далі назад. Як показано на рисунку 5, ви можете подати `dAL` у функцію зворотного поширення для LINEAR->SIGMOID, яку ви реалізували (вона використає кешовані значення, збережені у функції `L_model_forward`).\n",
    "\n",
    "Після цього вам потрібно буде за допомогою циклу `for` пройтися по всіх інших шарах, використовуючи функцію зворотного поширення для LINEAR->RELU. Кожен `dA`, `dW` та `db` слід зберігати у словнику `grads`. Для цього використовуйте формулу:\n",
    "\n",
    "$grads[\"dW\" + str(l)] = dW^{[l]} \\tag{15}$\n",
    "\n",
    "Наприклад, для \\$l=3\\$ це зберігає \\$dW^{\\[3]}\\$ у `grads[\"dW3\"]`.\n",
    "\n",
    "<a name='ex-9'></a>\n",
    "\n",
    "### Вправа 9 – `L_model_backward`\n",
    "\n",
    "Реалізуйте зворотне поширення для моделі *\\[LINEAR->RELU] × (L-1) -> LINEAR -> SIGMOID*.\n"
   ]
  },
  {
   "cell_type": "code",
   "execution_count": 26,
   "metadata": {
    "deletable": false,
    "nbgrader": {
     "cell_type": "code",
     "checksum": "d3e23a2b5f3b33e264a122b3c4b0d760",
     "grade": false,
     "grade_id": "cell-9eec96b6d83ff809",
     "locked": false,
     "schema_version": 3,
     "solution": true,
     "task": false
    }
   },
   "outputs": [],
   "source": [
    "def L_model_backward(AL, Y, caches):\n",
    "    \"\"\"\n",
    "    Реалізує зворотнє поширення для мережі з (L-1) шарами RELU + 1 вихідним шаром SIGMOID.\n",
    "    \n",
    "    Arguments:\n",
    "    AL -- вектор ймовірностей з виходу мережі (пряме проходження)\n",
    "    Y -- вектор правильних міток (0 або 1)\n",
    "    caches -- список кешів з усіх шарів (лінійні + активації)\n",
    "    \n",
    "    Returns:\n",
    "    grads -- словник з градієнтами для всіх параметрів мережі:\n",
    "             grads[\"dA\" + str(l)] -- градієнт активації шару l\n",
    "             grads[\"dW\" + str(l)] -- градієнт ваг шару l\n",
    "             grads[\"db\" + str(l)] -- градієнт байаса шару l\n",
    "    \"\"\"\n",
    "    grads = {}   \n",
    "    L = len(caches)   # кількість шарів \n",
    "    m = AL.shape[1]\n",
    "    Y = Y.reshape(AL.shape) # приводимо Y до такої ж форми, що й AL\n",
    "    \n",
    "    # Ініціалізуємо градієнт dAL — похідну функції вартості по AL (вихід мережі)\n",
    "    dAL = - (np.divide(Y, AL) - np.divide(1 - Y, 1 - AL))\n",
    "\n",
    "    # Lth layer (SIGMOID -> LINEAR) gradients. Inputs: \"dAL, current_cache\". Outputs: \"grads[\"dAL-1\"], grads[\"dWL\"], grads[\"dbL\"]\n",
    "    # Застосовуємо backward propagation для останнього шару (SIGMOID)\n",
    "    current_cache = caches[L-1]\n",
    "    grads[\"dA\" + str(L-1)], grads[\"dW\" + str(L)], grads[\"db\" + str(L)] = linear_activation_backward(dAL, current_cache, \"sigmoid\")\n",
    "\n",
    "    \n",
    "    # Цикл по шарах від L-2 до 0 для backward propagation RELU шарів\n",
    "    for l in reversed(range(L-1)):\n",
    "        # lth layer: (RELU -> LINEAR) gradients.\n",
    "        # Inputs: \"grads[\"dA\" + str(l + 1)], current_cache\". Outputs: \"grads[\"dA\" + str(l)] , grads[\"dW\" + str(l + 1)] , grads[\"db\" + str(l + 1)] \n",
    "        #(approx. 5 lines)\n",
    "        current_cache = caches[l]\n",
    "        dA_prev_temp, dW_temp, db_temp = linear_activation_backward(grads[\"dA\" + str(l + 1)], current_cache, \"relu\")\n",
    "        grads[\"dA\" + str(l)] = dA_prev_temp\n",
    "        grads[\"dW\" + str(l + 1)] = dW_temp\n",
    "        grads[\"db\" + str(l + 1)] = db_temp\n",
    "\n",
    "\n",
    "    return grads"
   ]
  },
  {
   "cell_type": "code",
   "execution_count": 27,
   "metadata": {
    "deletable": false,
    "editable": false,
    "nbgrader": {
     "cell_type": "code",
     "checksum": "c38a79bcdf2de4284faabd1b758812b5",
     "grade": true,
     "grade_id": "cell-7e61e6a1bfaa382d",
     "locked": true,
     "points": 10,
     "schema_version": 3,
     "solution": false,
     "task": false
    }
   },
   "outputs": [
    {
     "name": "stdout",
     "output_type": "stream",
     "text": [
      "dA0 = [[ 0.          0.52257901]\n",
      " [ 0.         -0.3269206 ]\n",
      " [ 0.         -0.32070404]\n",
      " [ 0.         -0.74079187]]\n",
      "dA1 = [[ 0.12913162 -0.44014127]\n",
      " [-0.14175655  0.48317296]\n",
      " [ 0.01663708 -0.05670698]]\n",
      "dW1 = [[0.41010002 0.07807203 0.13798444 0.10502167]\n",
      " [0.         0.         0.         0.        ]\n",
      " [0.05283652 0.01005865 0.01777766 0.0135308 ]]\n",
      "dW2 = [[-0.39202432 -0.13325855 -0.04601089]]\n",
      "db1 = [[-0.22007063]\n",
      " [ 0.        ]\n",
      " [-0.02835349]]\n",
      "db2 = [[0.15187861]]\n",
      "\u001b[92m All tests passed.\n"
     ]
    }
   ],
   "source": [
    "t_AL, t_Y_assess, t_caches = L_model_backward_test_case()\n",
    "grads = L_model_backward(t_AL, t_Y_assess, t_caches)\n",
    "\n",
    "print(\"dA0 = \" + str(grads['dA0']))\n",
    "print(\"dA1 = \" + str(grads['dA1']))\n",
    "print(\"dW1 = \" + str(grads['dW1']))\n",
    "print(\"dW2 = \" + str(grads['dW2']))\n",
    "print(\"db1 = \" + str(grads['db1']))\n",
    "print(\"db2 = \" + str(grads['db2']))\n",
    "\n",
    "L_model_backward_test(L_model_backward)"
   ]
  },
  {
   "cell_type": "markdown",
   "metadata": {},
   "source": [
    "**Expected output:**\n",
    "\n",
    "```\n",
    "dA0 = [[ 0.          0.52257901]\n",
    " [ 0.         -0.3269206 ]\n",
    " [ 0.         -0.32070404]\n",
    " [ 0.         -0.74079187]]\n",
    "dA1 = [[ 0.12913162 -0.44014127]\n",
    " [-0.14175655  0.48317296]\n",
    " [ 0.01663708 -0.05670698]]\n",
    "dW1 = [[0.41010002 0.07807203 0.13798444 0.10502167]\n",
    " [0.         0.         0.         0.        ]\n",
    " [0.05283652 0.01005865 0.01777766 0.0135308 ]]\n",
    "dW2 = [[-0.39202432 -0.13325855 -0.04601089]]\n",
    "db1 = [[-0.22007063]\n",
    " [ 0.        ]\n",
    " [-0.02835349]]\n",
    "db2 = [[0.15187861]]\n",
    "```"
   ]
  },
  {
   "cell_type": "markdown",
   "metadata": {},
   "source": [
    "<a name='6-4'></a>\n",
    "### 6.4 – Оновлення параметрів\n",
    "\n",
    "У цьому розділі ви оновите параметри моделі за допомогою градієнтного спуску:\n",
    "\n",
    "\n",
    "$$ W^{[l]} = W^{[l]} - \\alpha \\text{ } dW^{[l]} \\tag{16}$$\n",
    "$$ b^{[l]} = b^{[l]} - \\alpha \\text{ } db^{[l]} \\tag{17}$$\n",
    "\n",
    "де \\$\\alpha\\$ — швидкість навчання (learning rate).\n",
    "\n",
    "Після обчислення оновлених параметрів збережіть їх у словнику `parameters`.\n"
   ]
  },
  {
   "cell_type": "markdown",
   "metadata": {},
   "source": [
    "<a name='ex-10'></a>\n",
    "### Вправа 10 – update\\_parameters\n",
    "\n",
    "Реалізуйте функцію `update_parameters()`, яка оновлює параметри за допомогою градієнтного спуску.\n",
    "\n",
    "**Інструкції**:\n",
    "Оновлюйте параметри, застосовуючи градієнтний спуск на кожному шарі. $W^{[l]}$ and $b^{[l]}$ for $l = 1, 2, ..., L$. "
   ]
  },
  {
   "cell_type": "code",
   "execution_count": 28,
   "metadata": {
    "deletable": false,
    "nbgrader": {
     "cell_type": "code",
     "checksum": "e5e27794edcc10ab613c3eecd83a3011",
     "grade": false,
     "grade_id": "cell-3cb535f16aba3339",
     "locked": false,
     "schema_version": 3,
     "solution": true,
     "task": false
    }
   },
   "outputs": [],
   "source": [
    "def update_parameters(params, grads, learning_rate):\n",
    "    \"\"\"\n",
    "    Оновлення параметрів нейронної мережі за допомогою градієнтного спуску\n",
    "    \n",
    "    Arguments:\n",
    "    params -- словник з параметрами мережі (ваги і біаси)\n",
    "    grads -- словник з обчисленими градієнтами (з функції backward propagation)\n",
    "    \n",
    "    Returns:\n",
    "    parameters -- словник з оновленими параметрами після кроку градієнтного спуску\n",
    "    \"\"\"\n",
    "    parameters = copy.deepcopy(params)   # робимо копію параметрів, щоб не змінювати оригінал\n",
    "    L = len(parameters) // 2             # визначаємо кількість шарів\n",
    "\n",
    "    # Update rule for each parameter. Use a for loop.\n",
    "    # Для кожного шару оновлюємо W і b, віднімаючи градієнт помножений на learning_rate\n",
    "    for l in range(L):\n",
    "        parameters[\"W\" + str(l+1)] = parameters[\"W\" + str(l+1)] - learning_rate * grads[\"dW\" + str(l+1)]\n",
    "        parameters[\"b\" + str(l+1)] = parameters[\"b\" + str(l+1)] - learning_rate * grads[\"db\" + str(l+1)]\n",
    " \n",
    "    return parameters"
   ]
  },
  {
   "cell_type": "code",
   "execution_count": 29,
   "metadata": {
    "deletable": false,
    "editable": false,
    "nbgrader": {
     "cell_type": "code",
     "checksum": "e0606cae114ec47754dc5383bc3dcdea",
     "grade": true,
     "grade_id": "cell-139de12ee845c39c",
     "locked": true,
     "points": 10,
     "schema_version": 3,
     "solution": false,
     "task": false
    }
   },
   "outputs": [
    {
     "name": "stdout",
     "output_type": "stream",
     "text": [
      "W1 = [[-0.59562069 -0.09991781 -2.14584584  1.82662008]\n",
      " [-1.76569676 -0.80627147  0.51115557 -1.18258802]\n",
      " [-1.0535704  -0.86128581  0.68284052  2.20374577]]\n",
      "b1 = [[-0.04659241]\n",
      " [-1.28888275]\n",
      " [ 0.53405496]]\n",
      "W2 = [[-0.55569196  0.0354055   1.32964895]]\n",
      "b2 = [[-0.84610769]]\n",
      "\u001b[92m All tests passed.\n"
     ]
    }
   ],
   "source": [
    "t_parameters, grads = update_parameters_test_case()\n",
    "t_parameters = update_parameters(t_parameters, grads, 0.1)\n",
    "\n",
    "print (\"W1 = \"+ str(t_parameters[\"W1\"]))\n",
    "print (\"b1 = \"+ str(t_parameters[\"b1\"]))\n",
    "print (\"W2 = \"+ str(t_parameters[\"W2\"]))\n",
    "print (\"b2 = \"+ str(t_parameters[\"b2\"]))\n",
    "\n",
    "update_parameters_test(update_parameters)"
   ]
  },
  {
   "cell_type": "markdown",
   "metadata": {},
   "source": [
    "**Expected output:**\n",
    "\n",
    "```\n",
    "W1 = [[-0.59562069 -0.09991781 -2.14584584  1.82662008]\n",
    " [-1.76569676 -0.80627147  0.51115557 -1.18258802]\n",
    " [-1.0535704  -0.86128581  0.68284052  2.20374577]]\n",
    "b1 = [[-0.04659241]\n",
    " [-1.28888275]\n",
    " [ 0.53405496]]\n",
    "W2 = [[-0.55569196  0.0354055   1.32964895]]\n",
    "b2 = [[-0.84610769]]\n",
    "```"
   ]
  },
  {
   "cell_type": "markdown",
   "metadata": {},
   "source": [
    "<a name='2'></a>\n",
    "## 7 – Завантаження та обробка набору даних\n",
    "\n",
    "Ви будете використовувати той самий набір даних \"Кіт проти не-кота\", що й у прикладі \"Логістична регресія як нейронна мережа\". Модель, яку ви створили тоді, показала 70% точності на тесті у класифікації зображень кота та не-кота. Сподіваємось, ваша нова модель працюватиме ще краще!\n",
    "\n",
    "**Завдання**: Вам надано набір даних (\"data.h5\"), що містить:\n",
    "\n",
    "* навчальний набір з `m_train` зображень, позначених як кіт (1) або не-кот (0)\n",
    "* тестовий набір з `m_test` зображень, позначених як кіт та не-кот\n",
    "* кожне зображення має розмір (num\\_px, num\\_px, 3), де 3 — це канали RGB"
   ]
  },
  {
   "cell_type": "markdown",
   "metadata": {},
   "source": [
    "First, import helper functions"
   ]
  },
  {
   "cell_type": "code",
   "execution_count": 30,
   "metadata": {},
   "outputs": [],
   "source": [
    "from dnn_app_utils_v3 import *\n",
    "\n",
    "\n",
    "#np.random.seed(1)"
   ]
  },
  {
   "cell_type": "markdown",
   "metadata": {},
   "source": [
    "Давайте ближче познайомимось із набором даних. Завантажте дані, виконавши наведений нижче код."
   ]
  },
  {
   "cell_type": "code",
   "execution_count": 33,
   "metadata": {},
   "outputs": [],
   "source": [
    "train_x_orig, train_y, test_x_orig, test_y, classes = load_data()"
   ]
  },
  {
   "cell_type": "markdown",
   "metadata": {},
   "source": [
    "Наведений код покаже вам зображення з набору даних. Можете змінювати індекс і повторно запускати цей блок, щоб переглянути інші зображення."
   ]
  },
  {
   "cell_type": "code",
   "execution_count": 39,
   "metadata": {},
   "outputs": [
    {
     "name": "stdout",
     "output_type": "stream",
     "text": [
      "y = 0. It's a non-cat picture.\n"
     ]
    },
    {
     "data": {
      "image/png": "[encoded data removed]",
      "text/plain": [
       "<Figure size 500x400 with 1 Axes>"
      ]
     },
     "metadata": {},
     "output_type": "display_data"
    }
   ],
   "source": [
    "# Example of a picture\n",
    "index = 10\n",
    "plt.imshow(train_x_orig[index])\n",
    "print (\"y = \" + str(train_y[0,index]) + \". It's a \" + classes[train_y[0,index]].decode(\"utf-8\") +  \" picture.\")"
   ]
  },
  {
   "cell_type": "code",
   "execution_count": 41,
   "metadata": {},
   "outputs": [
    {
     "name": "stdout",
     "output_type": "stream",
     "text": [
      "Number of training examples: 209\n",
      "Number of testing examples: 50\n",
      "Each image is of size: (64, 64, 3)\n",
      "train_x_orig shape: (209, 64, 64, 3)\n",
      "train_y shape: (1, 209)\n",
      "test_x_orig shape: (50, 64, 64, 3)\n",
      "test_y shape: (1, 50)\n"
     ]
    }
   ],
   "source": [
    "# Ознайомтеся зі своїм набором даних\n",
    "m_train = train_x_orig.shape[0]\n",
    "num_px = train_x_orig.shape[1]\n",
    "m_test = test_x_orig.shape[0]\n",
    "\n",
    "print (\"Number of training examples: \" + str(m_train))\n",
    "print (\"Number of testing examples: \" + str(m_test))\n",
    "print (\"Each image is of size: (\" + str(num_px) + \", \" + str(num_px) + \", 3)\")\n",
    "print (\"train_x_orig shape: \" + str(train_x_orig.shape))\n",
    "print (\"train_y shape: \" + str(train_y.shape))\n",
    "print (\"test_x_orig shape: \" + str(test_x_orig.shape))\n",
    "print (\"test_y shape: \" + str(test_y.shape))"
   ]
  },
  {
   "cell_type": "markdown",
   "metadata": {},
   "source": [
    "Як зазвичай, перед подачею зображень у мережу їх змінюють за розміром (reshape) і стандартизують. Код наведено у наступній комірці.\n",
    "\n",
    "<img src=\"images/imvectorkiank.png\" style=\"width:450px;height:300px;\">\n",
    "<caption><center><font color='purple'><b>Figure 1</b>: Image to vector conversion.</font></center></caption>"
   ]
  },
  {
   "cell_type": "code",
   "execution_count": 42,
   "metadata": {},
   "outputs": [
    {
     "name": "stdout",
     "output_type": "stream",
     "text": [
      "train_x's shape: (12288, 209)\n",
      "test_x's shape: (12288, 50)\n"
     ]
    }
   ],
   "source": [
    "# Змінюємо форму (reshape) тренувальних та тестових прикладів\n",
    "train_x_flatten = train_x_orig.reshape(train_x_orig.shape[0], -1).T   # The \"-1\" makes reshape flatten the remaining dimensions\n",
    "test_x_flatten = test_x_orig.reshape(test_x_orig.shape[0], -1).T\n",
    "\n",
    "# Стандартизуємо дані, щоб значення ознак були в межах від 0 до 1.\n",
    "train_x = train_x_flatten/255.\n",
    "test_x = test_x_flatten/255.\n",
    "\n",
    "print (\"train_x's shape: \" + str(train_x.shape))\n",
    "print (\"test_x's shape: \" + str(test_x.shape))"
   ]
  },
  {
   "cell_type": "markdown",
   "metadata": {},
   "source": [
    "**Примітка**:\n",
    "\\$12,288\\$ дорівнює \\$64 \\times 64 \\times 3\\$, що є розміром одного вектора зображення після зміни форми."
   ]
  },
  {
   "cell_type": "markdown",
   "metadata": {},
   "source": [
    "## 8 – Архітектура моделі\n",
    "\n",
    "<a name='3-1'></a>\n",
    "\n",
    "### 8.1 – 2-шарова нейронна мережа\n",
    "\n",
    "Тепер, коли ви ознайомилися з набором даних, настав час побудувати глибоку нейронну мережу, щоб розрізняти зображення котів і не котів!\n",
    "\n",
    "Ви побудуєте дві різні моделі:\n",
    "\n",
    "* 2-шарову нейронну мережу\n",
    "* Глибоку нейронну мережу з L шарами\n",
    "\n",
    "Потім ви порівняєте продуктивність цих моделей і спробуєте різні значення \\$L\\$.\n",
    "\n",
    "Давайте розглянемо ці дві архітектури:\n",
    "\n",
    "<img src=\"images/2layerNN_kiank.png\" style=\"width:650px;height:400px;\">\n",
    "<caption><center><font color='purple'><b>Figure 2</b>: 2-layer neural network. <br> The model can be summarized as: INPUT -> LINEAR -> RELU -> LINEAR -> SIGMOID -> OUTPUT.</font></center></caption>\n",
    "\n",
    "<u><b>Detailed Architecture of Figure 2</b></u>:\n",
    "- The input is a (64,64,3) image which is flattened to a vector of size $(12288,1)$. \n",
    "- The corresponding vector: $[x_0,x_1,...,x_{12287}]^T$ is then multiplied by the weight matrix $W^{[1]}$ of size $(n^{[1]}, 12288)$.\n",
    "- Then, add a bias term and take its relu to get the following vector: $[a_0^{[1]}, a_1^{[1]},..., a_{n^{[1]}-1}^{[1]}]^T$.\n",
    "- Multiply the resulting vector by $W^{[2]}$ and add the intercept (bias). \n",
    "- Finally, take the sigmoid of the result. If it's greater than 0.5, classify it as a cat.\n",
    "\n",
    "<a name='3-2'></a>\n",
    "### 8.2 - L-layer Deep Neural Network\n",
    "\n",
    "It's pretty difficult to represent an L-layer deep neural network using the above representation. However, here is a simplified network representation:\n",
    "\n",
    "<img src=\"images/LlayerNN_kiank.png\" style=\"width:650px;height:400px;\">\n",
    "<caption><center><font color='purple'><b>Figure 3</b>: L-layer neural network. <br> The model can be summarized as: [LINEAR -> RELU] $\\times$ (L-1) -> LINEAR -> SIGMOID</font></center></caption>\n",
    "\n",
    "<u><b>Detailed Architecture of Figure 3</b></u>:\n",
    "* Вхідним є зображення розміром (64,64,3), яке перетворюється в вектор розміром (12288,1).\n",
    "* Відповідний вектор $\\[x\\_0, x\\_1, ..., x\\_{12287}]^T\\$ множиться на матрицю ваг \\$W^{\\[1]}\\$, після чого додається вільний член (зсув) \\$b^{\\[1]}\\$. Результат називається лінійним блоком.\n",
    "* Далі застосовують функцію активації ReLU до лінійного блоку. Цей процес може повторюватися кілька разів для кожної пари параметрів \\$(W^{\\[l]}, b^{\\[l]})\\$ залежно від архітектури моделі.\n",
    "* Нарешті, застосовується сигмоїдна функція активації до останнього лінійного блоку. Якщо результат більший за 0.5 — класифікуємо як кота.\n",
    "\n",
    "<a name='3-3'></a>\n",
    "\n",
    "### 8.3 – Загальна методологія\n",
    "\n",
    "Як зазвичай, ви будете слідувати методології глибокого навчання для побудови моделі:\n",
    "\n",
    "1. Ініціалізувати параметри / Визначити гіперпараметри\n",
    "2. Запустити цикл на num\\_iterations:\n",
    "    a. Пряме поширення (forward propagation)\n",
    "    b. Обчислити функцію вартості (cost function)\n",
    "    c. Зворотне поширення (backward propagation)\n",
    "    d. Оновити параметри (використовуючи parameters і grads із backpropagation)\n",
    "3. Використати натреновані параметри для прогнозування міток\n",
    "\n",
    "Тепер вперед — реалізуйте ці дві моделі!\n"
   ]
  },
  {
   "cell_type": "markdown",
   "metadata": {},
   "source": [
    "<a name='4'></a>\n",
    "\n",
    "## 9 - Двошарова нейронна мережа\n",
    "\n",
    "<a name='ex-1'></a>\n",
    "\n",
    "### Вправа 11 - two\\_layer\\_model\n",
    "\n",
    "Використайте допоміжні функції, які ви реалізували у попередньому завданні, щоб побудувати двошарову нейронну мережу зі структурою: *LINEAR -> RELU -> LINEAR -> SIGMOID*. Функції та їхні вхідні параметри:\n",
    "\n",
    "```python\n",
    "def initialize_parameters(n_x, n_h, n_y):\n",
    "    ...\n",
    "    return parameters \n",
    "def linear_activation_forward(A_prev, W, b, activation):\n",
    "    ...\n",
    "    return A, cache\n",
    "def compute_cost(AL, Y):\n",
    "    ...\n",
    "    return cost\n",
    "def linear_activation_backward(dA, cache, activation):\n",
    "    ...\n",
    "    return dA_prev, dW, db\n",
    "def update_parameters(parameters, grads, learning_rate):\n",
    "    ...\n",
    "    return parameters\n",
    "```"
   ]
  },
  {
   "cell_type": "code",
   "execution_count": 43,
   "metadata": {},
   "outputs": [],
   "source": [
    "### CONSTANTS DEFINING THE MODEL ####\n",
    "n_x = 12288     # num_px * num_px * 3\n",
    "n_h = 7\n",
    "n_y = 1\n",
    "layers_dims = (n_x, n_h, n_y)\n",
    "learning_rate = 0.0075"
   ]
  },
  {
   "cell_type": "code",
   "execution_count": 45,
   "metadata": {},
   "outputs": [],
   "source": [
    "def two_layer_model(X, Y, layers_dims, learning_rate = 0.0075, num_iterations = 3000, print_cost=False):\n",
    "    \"\"\"\n",
    "    Реалізує двошаровий нейронний мережу: LINEAR->RELU->LINEAR->SIGMOID.\n",
    "\n",
    "Аргументи:\n",
    "    X — вхідні дані, форми (n\\_x, кількість прикладів)\n",
    "    Y — вектор справжніх міток (1 — кіт, 0 — не кіт), форми (1, кількість прикладів)\n",
    "    layers_dims — розміри шарів (n\\_x, n\\_h, n\\_y)\n",
    "    num_iterations — кількість ітерацій циклу оптимізації\n",
    "    learning_rate — швидкість навчання для оновлення за градієнтним спуском\n",
    "    print_cost — якщо встановлено в True, буде виводитись вартість кожні 100 ітерацій\n",
    "\n",
    "Повертає:\n",
    "    parameters — словник, що містить W1, W2, b1 та b2\n",
    "    \"\"\"\n",
    "    \n",
    "    np.random.seed(1)\n",
    "    grads = {}\n",
    "    costs = []                              # to keep track of the cost\n",
    "    m = X.shape[1]                           # номер прикладу\n",
    "    (n_x, n_h, n_y) = layers_dims\n",
    "    \n",
    "    # Ініціалізуйте словник параметрів, викликавши одну з функцій, яку ви раніше реалізували.\n",
    "    parameters = initialize_parameters(n_x, n_h, n_y)\n",
    "    \n",
    "    # Отримайте W1, b1, W2 та b2 зі словника параметрів.\n",
    "    W1 = parameters[\"W1\"]\n",
    "    b1 = parameters[\"b1\"]\n",
    "    W2 = parameters[\"W2\"]\n",
    "    b2 = parameters[\"b2\"]\n",
    "    \n",
    "    # цикл градієнтного спуску\n",
    "\n",
    "    for i in range(0, num_iterations):\n",
    "\n",
    "        # Пряме поширення: LINEAR -> RELU -> LINEAR -> SIGMOID. Вхідні дані: \"X, W1, b1, W2, b2\". Вихідні дані: \"A1, cache1, A2, cache2\".\n",
    "        A1, cache1 = linear_activation_forward(X, W1, b1, \"relu\")\n",
    "        A2, cache2 = linear_activation_forward(A1, W2, b2, \"sigmoid\")\n",
    "\n",
    "        # Обчислюємо вартість (cost).\n",
    "        cost = compute_cost(A2, Y)\n",
    "        \n",
    "        # Ініціалізація зворотного поширення (backward propagation).\n",
    "        dA2 = - (np.divide(Y, A2) - np.divide(1 - Y, 1 - A2))\n",
    "        \n",
    "        # Зворотне поширення (backward propagation). Вхідні дані: `dA2, cache2, cache1`. Вихідні дані: `dA1, dW2, db2`; також `dA0` (не використовується), `dW1`, `db1`.\n",
    "        dA2 = - (np.divide(Y, A2) - np.divide(1 - Y, 1 - A2))\n",
    "        dA1, dW2, db2 = linear_activation_backward(dA2, cache2, \"sigmoid\")\n",
    "        dA0, dW1, db1 = linear_activation_backward(dA1, cache1, \"relu\")\n",
    "        \n",
    "        # Встановіть `grads['dW1']` рівним `dW1`, `grads['db1']` рівним `db1`, `grads['dW2']` рівним `dW2`, `grads['db2']` рівним `db2`.\n",
    "        grads['dW1'] = dW1\n",
    "        grads['db1'] = db1\n",
    "        grads['dW2'] = dW2\n",
    "        grads['db2'] = db2\n",
    "        \n",
    "        # оновлюємо параметри\n",
    "        parameters = update_parameters(parameters, grads, learning_rate)\n",
    "\n",
    "        # Отримуємо W1, b1, W2, b2 з параметрів (parameters).\n",
    "        W1 = parameters[\"W1\"]\n",
    "        b1 = parameters[\"b1\"]\n",
    "        W2 = parameters[\"W2\"]\n",
    "        b2 = parameters[\"b2\"]\n",
    "        \n",
    "        # Виводимо вартість (cost) кожні 100 ітерацій.\n",
    "        if print_cost and i % 100 == 0 or i == num_iterations - 1:\n",
    "            print(\"Cost after iteration {}: {}\".format(i, np.squeeze(cost)))\n",
    "        if i % 100 == 0 or i == num_iterations:\n",
    "            costs.append(cost)\n",
    "\n",
    "    return parameters, costs\n",
    "\n",
    "def plot_costs(costs, learning_rate=0.0075):\n",
    "    plt.plot(np.squeeze(costs))\n",
    "    plt.ylabel('cost')\n",
    "    plt.xlabel('iterations (per hundreds)')\n",
    "    plt.title(\"Learning rate =\" + str(learning_rate))\n",
    "    plt.show()"
   ]
  },
  {
   "cell_type": "code",
   "execution_count": 46,
   "metadata": {},
   "outputs": [
    {
     "name": "stdout",
     "output_type": "stream",
     "text": [
      "Cost after iteration 1: 0.6926114346158595\n",
      "Cost after first iteration: 0.693049735659989\n",
      "Cost after iteration 1: 0.6915746967050506\n",
      "Cost after iteration 1: 0.6915746967050506\n",
      "Cost after iteration 1: 0.6915746967050506\n",
      "Cost after iteration 2: 0.6524135179683452\n",
      "\u001b[92m All tests passed.\n"
     ]
    }
   ],
   "source": [
    "parameters, costs = two_layer_model(train_x, train_y, layers_dims = (n_x, n_h, n_y), num_iterations = 2, print_cost=False)\n",
    "\n",
    "print(\"Cost after first iteration: \" + str(costs[0]))\n",
    "\n",
    "two_layer_model_test(two_layer_model)"
   ]
  },
  {
   "cell_type": "markdown",
   "metadata": {},
   "source": [
    "**Expected output:**\n",
    "\n",
    "```\n",
    "cost after iteration 1 must be around 0.69\n",
    "```"
   ]
  },
  {
   "cell_type": "markdown",
   "metadata": {},
   "source": [
    "Добре! Якщо код у попередній комірці працює без помилок, запустіть комірку нижче, щоб навчити модель.\n",
    "\n",
    "* Вартість (cost) має зменшуватися з кожною ітерацією.\n",
    "* Виконання 2500 ітерацій може зайняти до 5 хвилин."
   ]
  },
  {
   "cell_type": "code",
   "execution_count": 47,
   "metadata": {
    "scrolled": true
   },
   "outputs": [
    {
     "name": "stdout",
     "output_type": "stream",
     "text": [
      "Cost after iteration 0: 0.693049735659989\n",
      "Cost after iteration 100: 0.6464320953428849\n",
      "Cost after iteration 200: 0.6325140647912677\n",
      "Cost after iteration 300: 0.6015024920354665\n",
      "Cost after iteration 400: 0.5601966311605747\n",
      "Cost after iteration 500: 0.5158304772764729\n",
      "Cost after iteration 600: 0.47549013139433244\n",
      "Cost after iteration 700: 0.4339163151225749\n",
      "Cost after iteration 800: 0.4007977536203891\n",
      "Cost after iteration 900: 0.35807050113237976\n",
      "Cost after iteration 1000: 0.33942815383664116\n",
      "Cost after iteration 1100: 0.3052753636196265\n",
      "Cost after iteration 1200: 0.2749137728213018\n",
      "Cost after iteration 1300: 0.24681768210614874\n",
      "Cost after iteration 1400: 0.19850735037466088\n",
      "Cost after iteration 1500: 0.17448318112556635\n",
      "Cost after iteration 1600: 0.17080762978096195\n",
      "Cost after iteration 1700: 0.11306524562164721\n",
      "Cost after iteration 1800: 0.09629426845937146\n",
      "Cost after iteration 1900: 0.08342617959726856\n",
      "Cost after iteration 2000: 0.07439078704319077\n",
      "Cost after iteration 2100: 0.06630748132267927\n",
      "Cost after iteration 2200: 0.059193295010381654\n",
      "Cost after iteration 2300: 0.05336140348560554\n",
      "Cost after iteration 2400: 0.04855478562877013\n",
      "Cost after iteration 2499: 0.04421498215868949\n"
     ]
    },
    {
     "data": {
      "image/png": "[encoded data removed]",
      "text/plain": [
       "<Figure size 500x400 with 1 Axes>"
      ]
     },
     "metadata": {},
     "output_type": "display_data"
    }
   ],
   "source": [
    "parameters, costs = two_layer_model(train_x, train_y, layers_dims = (n_x, n_h, n_y), num_iterations = 2500, print_cost=True)\n",
    "plot_costs(costs, learning_rate)"
   ]
  },
  {
   "cell_type": "markdown",
   "metadata": {},
   "source": [
    "**Expected Output**:\n",
    "<table> \n",
    "    <tr>\n",
    "        <td> <b>Cost after iteration 0</b></td>\n",
    "        <td> 0.6930497356599888 </td>\n",
    "    </tr>\n",
    "    <tr>\n",
    "        <td> <b>Cost after iteration 100</b></td>\n",
    "        <td> 0.6464320953428849 </td>\n",
    "    </tr>\n",
    "    <tr>\n",
    "        <td> <b>...</b></td>\n",
    "        <td> ... </td>\n",
    "    </tr>\n",
    "    <tr>\n",
    "        <td> <b>Cost after iteration 2499</b></td>\n",
    "        <td> 0.04421498215868956 </td>\n",
    "    </tr>\n",
    "</table>"
   ]
  },
  {
   "cell_type": "markdown",
   "metadata": {},
   "source": [
    "Чудово! Ви успішно навчили модель. Добре, що ви зробили векторизовану реалізацію — інакше навчання зайняло б у 10 разів більше часу.\n",
    "\n",
    "Тепер ви можете використати навчені параметри для класифікації зображень з датасету. Щоб побачити ваші передбачення на навчальній та тестовій вибірках, запустіть наступну комірку.\n"
   ]
  },
  {
   "cell_type": "code",
   "execution_count": 48,
   "metadata": {},
   "outputs": [
    {
     "name": "stdout",
     "output_type": "stream",
     "text": [
      "Accuracy: 0.9999999999999998\n"
     ]
    }
   ],
   "source": [
    "predictions_train = predict(train_x, train_y, parameters)"
   ]
  },
  {
   "cell_type": "markdown",
   "metadata": {},
   "source": [
    "**Expected Output**:\n",
    "<table> \n",
    "    <tr>\n",
    "        <td> <b>Accuracy</b></td>\n",
    "        <td> 0.9999999999999998 </td>\n",
    "    </tr>\n",
    "</table>"
   ]
  },
  {
   "cell_type": "code",
   "execution_count": 49,
   "metadata": {},
   "outputs": [
    {
     "name": "stdout",
     "output_type": "stream",
     "text": [
      "Accuracy: 0.72\n"
     ]
    }
   ],
   "source": [
    "predictions_test = predict(test_x, test_y, parameters)"
   ]
  },
  {
   "cell_type": "markdown",
   "metadata": {},
   "source": [
    "**Expected Output**:\n",
    "\n",
    "<table> \n",
    "    <tr>\n",
    "        <td> <b>Accuracy</b></td>\n",
    "        <td> 0.72 </td>\n",
    "    </tr>\n",
    "</table>"
   ]
  },
  {
   "cell_type": "markdown",
   "metadata": {},
   "source": [
    "Вітаю! Схоже, ваша 2-шарова нейронна мережа показує кращу якість (72%) у порівнянні з логістичною регресією (70%, завдання з 2-го тижня). Подивимось, чи зможете ви досягти ще кращих результатів з \\$L\\$-шаровою моделлю.\n",
    "\n",
    "**Примітка**: Ви можете помітити, що запуск моделі на меншій кількості ітерацій (наприклад, 1500) дає кращу точність на тестовій вибірці. Це називається «рання зупинка» (early stopping), про яку ми дізнаємось пізніше. Рання зупинка допомагає уникнути перенавчання.\n"
   ]
  },
  {
   "cell_type": "markdown",
   "metadata": {},
   "source": [
    "<a name='5'></a>\n",
    "## 10 - L-шарова нейронна мережа\n",
    "\n",
    "<a name='ex-2'></a>\n",
    "\n",
    "### Вправа 12 - L\\_layer\\_model\n",
    "\n",
    "Використайте допоміжні функції, які ви реалізували раніше, щоб побудувати L-шарову нейронну мережу зі структурою:\n",
    "*\\[LINEAR -> RELU]\\$\\times\\$(L-1) -> LINEAR -> SIGMOID*.\n",
    "\n",
    "Функції та їхні вхідні параметри такі:\n",
    "```python\n",
    "def initialize_parameters_deep(layers_dims):\n",
    "    ...\n",
    "    return parameters \n",
    "def L_model_forward(X, parameters):\n",
    "    ...\n",
    "    return AL, caches\n",
    "def compute_cost(AL, Y):\n",
    "    ...\n",
    "    return cost\n",
    "def L_model_backward(AL, Y, caches):\n",
    "    ...\n",
    "    return grads\n",
    "def update_parameters(parameters, grads, learning_rate):\n",
    "    ...\n",
    "    return parameters\n",
    "```"
   ]
  },
  {
   "cell_type": "code",
   "execution_count": 50,
   "metadata": {},
   "outputs": [],
   "source": [
    "### CONSTANTS ###\n",
    "layers_dims = [12288, 20, 7, 5, 1] #  4-layer model"
   ]
  },
  {
   "cell_type": "code",
   "execution_count": 51,
   "metadata": {},
   "outputs": [],
   "source": [
    "def L_layer_model(X, Y, layers_dims, learning_rate = 0.0075, num_iterations = 3000, print_cost=False):\n",
    "    \"\"\"\n",
    "Реалізує L-шарову нейронну мережу: \\[ЛІНІЙНИЙ->RELU]\\*(L-1)->ЛІНІЙНИЙ->СИГМОЇДА.\n",
    "\n",
    "```\n",
    "Аргументи:\n",
    "X -- вхідні дані, розмірність (n_x, кількість прикладів)\n",
    "Y -- вектор істинних міток (1 для кота, 0 для не-кота), розмірність (1, кількість прикладів)\n",
    "layers_dims -- список, що містить розмірність вхідного шару та кожного шару мережі, довжина = кількість шарів + 1\n",
    "learning_rate -- швидкість навчання для градієнтного спуску\n",
    "num_iterations -- кількість ітерацій циклу оптимізації\n",
    "print_cost -- якщо True, виводить вартість (cost) кожні 100 кроків\n",
    "\n",
    "Повертає:\n",
    "parameters -- параметри, які навчився модель. Потім їх можна використовувати для прогнозування.\n",
    "```\n",
    "\n",
    "\"\"\"\n",
    "\n",
    "    np.random.seed(1)\n",
    "    costs = []                         # відстежуємо вартість (cost)\n",
    "    \n",
    "    # Parameters initialization.\n",
    "    parameters = initialize_parameters_deep(layers_dims)\n",
    "\n",
    "    # Loop (gradient descent)\n",
    "    for i in range(0, num_iterations):\n",
    "\n",
    "        # Пряме поширення: [LINEAR -> RELU]*(L-1) -> LINEAR -> SIGMOID.\n",
    "        AL, caches = L_model_forward(X, parameters)\n",
    "        \n",
    "        # Обчислюємо вартість (cost).\n",
    "        cost = compute_cost(AL, Y)\n",
    "    \n",
    "        # Ініціалізація зворотного поширення (backward propagation).\n",
    "        grads = L_model_backward(AL, Y, caches)  \n",
    " \n",
    "        # Update parameters.\n",
    "        parameters = update_parameters(parameters, grads, learning_rate)\n",
    "\n",
    "                \n",
    "        # Print the cost every 100 iterations\n",
    "        if print_cost and i % 100 == 0 or i == num_iterations - 1:\n",
    "            print(\"Cost after iteration {}: {}\".format(i, np.squeeze(cost)))\n",
    "        if i % 100 == 0 or i == num_iterations:\n",
    "            costs.append(cost)\n",
    "    \n",
    "    return parameters, costs"
   ]
  },
  {
   "cell_type": "code",
   "execution_count": 52,
   "metadata": {},
   "outputs": [
    {
     "name": "stdout",
     "output_type": "stream",
     "text": [
      "Cost after iteration 0: 0.7717493284237685\n",
      "Cost after first iteration: 0.7717493284237685\n",
      "Cost after iteration 1: 0.7070709008912568\n",
      "Cost after iteration 1: 0.7070709008912568\n",
      "Cost after iteration 1: 0.7070709008912568\n",
      "Cost after iteration 2: 0.7063462654190897\n",
      "\u001b[92m All tests passed.\n"
     ]
    }
   ],
   "source": [
    "parameters, costs = L_layer_model(train_x, train_y, layers_dims, num_iterations = 1, print_cost = False)\n",
    "\n",
    "print(\"Cost after first iteration: \" + str(costs[0]))\n",
    "\n",
    "L_layer_model_test(L_layer_model)"
   ]
  },
  {
   "cell_type": "markdown",
   "metadata": {},
   "source": [
    "Якщо ваш код пройшов попередню перевірку, запустіть код нижче, щоб навчити модель із 4 шарами.\n",
    "\n",
    "* Вартість (cost) має зменшуватись на кожній ітерації.\n",
    "\n",
    "* Виконання 2500 ітерацій може зайняти до 5 хвилин."
   ]
  },
  {
   "cell_type": "code",
   "execution_count": 53,
   "metadata": {},
   "outputs": [
    {
     "name": "stdout",
     "output_type": "stream",
     "text": [
      "Cost after iteration 0: 0.7717493284237685\n",
      "Cost after iteration 100: 0.6720534400822918\n",
      "Cost after iteration 200: 0.6482632048575216\n",
      "Cost after iteration 300: 0.6115068816101354\n",
      "Cost after iteration 400: 0.5670473268366113\n",
      "Cost after iteration 500: 0.5401376634547802\n",
      "Cost after iteration 600: 0.5279299569455271\n",
      "Cost after iteration 700: 0.4654773771766849\n",
      "Cost after iteration 800: 0.36912585249592783\n",
      "Cost after iteration 900: 0.39174697434805333\n",
      "Cost after iteration 1000: 0.31518698886006147\n",
      "Cost after iteration 1100: 0.2726998441789384\n",
      "Cost after iteration 1200: 0.23741853400268118\n",
      "Cost after iteration 1300: 0.19960120532208628\n",
      "Cost after iteration 1400: 0.1892630038846329\n",
      "Cost after iteration 1500: 0.16118854665827767\n",
      "Cost after iteration 1600: 0.14821389662363324\n",
      "Cost after iteration 1700: 0.1377748781297294\n",
      "Cost after iteration 1800: 0.12974017549190134\n",
      "Cost after iteration 1900: 0.12122535068005211\n",
      "Cost after iteration 2000: 0.11382060668633719\n",
      "Cost after iteration 2100: 0.1078392852625413\n",
      "Cost after iteration 2200: 0.10285466069352679\n",
      "Cost after iteration 2300: 0.10089745445261779\n",
      "Cost after iteration 2400: 0.09287821526472397\n",
      "Cost after iteration 2499: 0.08843994344170202\n"
     ]
    }
   ],
   "source": [
    "parameters, costs = L_layer_model(train_x, train_y, layers_dims, num_iterations = 2500, print_cost = True)"
   ]
  },
  {
   "cell_type": "markdown",
   "metadata": {},
   "source": [
    "**Expected Output**:\n",
    "<table> \n",
    "    <tr>\n",
    "        <td> <b>Cost after iteration 0</b></td>\n",
    "        <td> 0.771749 </td>\n",
    "    </tr>\n",
    "    <tr>\n",
    "        <td> <b>Cost after iteration 100</b></td>\n",
    "        <td> 0.672053 </td>\n",
    "    </tr>\n",
    "    <tr>\n",
    "        <td> <b>...</b></td>\n",
    "        <td> ... </td>\n",
    "    </tr>\n",
    "    <tr>\n",
    "        <td> <b>Cost after iteration 2499</b></td>\n",
    "        <td> 0.088439 </td>\n",
    "    </tr>\n",
    "</table>"
   ]
  },
  {
   "cell_type": "code",
   "execution_count": 54,
   "metadata": {},
   "outputs": [
    {
     "name": "stdout",
     "output_type": "stream",
     "text": [
      "Accuracy: 0.9856459330143539\n"
     ]
    }
   ],
   "source": [
    "pred_train = predict(train_x, train_y, parameters)"
   ]
  },
  {
   "cell_type": "markdown",
   "metadata": {},
   "source": [
    "**Expected Output**:\n",
    "\n",
    "<table>\n",
    "    <tr>\n",
    "    <td>\n",
    "        <b>Train Accuracy</b>\n",
    "    </td>\n",
    "    <td>\n",
    "    0.985645933014\n",
    "    </td>\n",
    "    </tr>\n",
    "</table>"
   ]
  },
  {
   "cell_type": "code",
   "execution_count": 55,
   "metadata": {},
   "outputs": [
    {
     "name": "stdout",
     "output_type": "stream",
     "text": [
      "Accuracy: 0.8\n"
     ]
    }
   ],
   "source": [
    "pred_test = predict(test_x, test_y, parameters)"
   ]
  },
  {
   "cell_type": "markdown",
   "metadata": {},
   "source": [
    "**Expected Output**:\n",
    "\n",
    "<table> \n",
    "    <tr>\n",
    "        <td> <b>Test Accuracy</b></td>\n",
    "        <td> 0.8 </td>\n",
    "    </tr>\n",
    "</table>"
   ]
  },
  {
   "cell_type": "markdown",
   "metadata": {},
   "source": [
    "Вітаю! Схоже, що ваша 4-шарова нейронна мережа має кращу точність (80%) порівняно з 2-шаровою (72%) на тому ж тестовому наборі.\n",
    "\n",
    "Це досить хороший результат для цього завдання. Молодець!\n",
    "\n",
    "Пізніше ми зможемо досягти ще вищої точності, систематично підбираючи кращі гіперпараметри: learning\\_rate, layers\\_dims, num\\_iterations тощо.\n"
   ]
  },
  {
   "cell_type": "markdown",
   "metadata": {},
   "source": [
    "<a name='6'></a>\n",
    "##  11 - Results Analysis\n",
    "\n",
    "Спершу подивіться на деякі зображення, які модель з L шарами класифікувала неправильно. Це допоможе побачити кілька помилково класифікованих зображень."
   ]
  },
  {
   "cell_type": "code",
   "execution_count": 56,
   "metadata": {},
   "outputs": [
    {
     "data": {
      "image/png": "[encoded data removed]",
      "text/plain": [
       "<Figure size 4000x4000 with 10 Axes>"
      ]
     },
     "metadata": {},
     "output_type": "display_data"
    }
   ],
   "source": [
    "print_mislabeled_images(classes, test_x, test_y, pred_test)"
   ]
  },
  {
   "cell_type": "markdown",
   "metadata": {},
   "source": [
    "**Декілька типів зображень, на яких модель зазвичай показує погані результати, включають:**\n",
    "\n",
    "* Тіло кота в незвичній позі\n",
    "* Кіт на фоні схожого кольору\n",
    "* Незвичний колір або порода кота\n",
    "* Кут зйомки камери\n",
    "* Яскравість зображення\n",
    "* Зміна масштабу (кіт дуже великий або маленький на зображенні)\n"
   ]
  },
  {
   "cell_type": "markdown",
   "metadata": {},
   "source": [
    "<a name='7'></a>\n",
    "## 12 - Тестування на власному зображенні\n",
    "\n",
    "Від цього моменту, якщо бажаєте, ви можете використати власне зображення, щоб перевірити роботу вашої моделі. Для цього виконайте наступні кроки:\n",
    "\n",
    "1. Натисніть на «File» у верхній панелі цього ноутбука, потім виберіть «Open».\n",
    "2. Додайте ваше зображення до директорії цього Jupyter Notebook, у папку «images».\n",
    "3. Змініть назву зображення у наступному коді на вашу.\n",
    "4. Запустіть код і перевірте, чи алгоритм правильно класифікує (1 = кіт, 0 = не кіт)!\n"
   ]
  },
  {
   "cell_type": "code",
   "execution_count": 64,
   "metadata": {},
   "outputs": [
    {
     "name": "stdout",
     "output_type": "stream",
     "text": [
      "Accuracy: 1.0\n",
      "y = 1.0, your L-layer model predicts a \"cat\" picture.\n"
     ]
    },
    {
     "data": {
      "image/png": "[encoded data removed]",
      "text/plain": [
       "<Figure size 4000x4000 with 1 Axes>"
      ]
     },
     "metadata": {},
     "output_type": "display_data"
    }
   ],
   "source": [
    "my_image = \"cat.jpg\" # change this to the name of your image file \n",
    "my_label_y = [1] # the true class of your image (1 -> cat, 0 -> non-cat)\n",
    "\n",
    "fname = \"images/\" + my_image\n",
    "image = np.array(Image.open(fname).resize((num_px, num_px)))\n",
    "plt.imshow(image)\n",
    "image = image / 255.\n",
    "image = image.reshape((1, num_px * num_px * 3)).T\n",
    "\n",
    "my_predicted_image = predict(image, my_label_y, parameters)\n",
    "\n",
    "\n",
    "print (\"y = \" + str(np.squeeze(my_predicted_image)) + \", your L-layer model predicts a \\\"\" + classes[int(np.squeeze(my_predicted_image)),].decode(\"utf-8\") +  \"\\\" picture.\")"
   ]
  },
  {
   "cell_type": "code",
   "execution_count": null,
   "metadata": {},
   "outputs": [],
   "source": []
  },
  {
   "cell_type": "code",
   "execution_count": null,
   "metadata": {},
   "outputs": [],
   "source": []
  }
 ],
 "metadata": {
  "coursera": {
   "course_slug": "neural-networks-deep-learning",
   "graded_item_id": "c4HO0",
   "launcher_item_id": "lSYZM"
  },
  "kernelspec": {
   "display_name": "Python 3 (ipykernel)",
   "language": "python",
   "name": "python3"
  },
  "language_info": {
   "codemirror_mode": {
    "name": "ipython",
    "version": 3
   },
   "file_extension": ".py",
   "mimetype": "text/x-python",
   "name": "python",
   "nbconvert_exporter": "python",
   "pygments_lexer": "ipython3",
   "version": "3.11.3"
  }
 },
 "nbformat": 4,
 "nbformat_minor": 4
}
