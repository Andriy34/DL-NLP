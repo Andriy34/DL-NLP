{
 "cells": [
  {
   "cell_type": "code",
   "execution_count": 3,
   "id": "49e61f15-79bb-4575-be1c-3fc45577049b",
   "metadata": {},
   "outputs": [
    {
     "name": "stdout",
     "output_type": "stream",
     "text": [
      "The history saving thread hit an unexpected error (OperationalError('attempt to write a readonly database')).History will not be written to the database.\n",
      "===Porter===:\n",
      "Original words: ['running', 'jumps', 'happily', 'programming', 'cared', 'fairly', 'sportingly']\n",
      "Stemmed words: ['run', 'jump', 'happili', 'program', 'care', 'fairli', 'sportingli']\n",
      "\n",
      "===Snowball===:\n",
      "Porter:\n",
      "Original words: ['running', 'jumps', 'happily', 'programming', 'cared', 'fairly', 'sportingly']\n",
      "Stemmed words: ['run', 'jump', 'happili', 'program', 'care', 'fair', 'sport']\n",
      "\n",
      "===Lancaster===:\n",
      "Porter:\n",
      "Original words: ['running', 'jumps', 'happily', 'programming', 'cared', 'fairly', 'sportingly']\n",
      "Stemmed words: ['run', 'jump', 'happy', 'program', 'car', 'fair', 'sport']\n"
     ]
    }
   ],
   "source": [
    "import nltk\n",
    "from nltk.stem import PorterStemmer\n",
    "from nltk.stem.snowball import SnowballStemmer\n",
    "from nltk.stem.lancaster import LancasterStemmer\n",
    "st = LancasterStemmer()\n",
    " \n",
    "# Create Snowball stemmer\n",
    "snow_stemmer = SnowballStemmer(language='english')\n",
    "\n",
    "# Create a Porter Stemmer instance\n",
    "porter_stemmer = PorterStemmer()\n",
    "\n",
    "# Create a Lancaster Stemmer instance\n",
    "lancaster_stemmer = LancasterStemmer()\n",
    "\n",
    "# Example words for stemming\n",
    "words = [\"running\", \"jumps\", \"happily\", \"programming\", 'cared','fairly','sportingly']\n",
    "\n",
    "# Apply stemming to each word\n",
    "stemmed_words = [porter_stemmer.stem(word) for word in words]\n",
    "print(\"===Porter===:\")\n",
    "print(\"Original words:\", words)\n",
    "print(\"Stemmed words:\", stemmed_words)\n",
    "\n",
    "print(\"\\n===Snowball===:\")\n",
    "stemmed_words = [snow_stemmer.stem(word) for word in words]\n",
    "print(\"Porter:\")\n",
    "print(\"Original words:\", words)\n",
    "print(\"Stemmed words:\", stemmed_words)\n",
    "\n",
    "print(\"\\n===Lancaster===:\")\n",
    "stemmed_words = [lancaster_stemmer.stem(word) for word in words]\n",
    "print(\"Porter:\")\n",
    "print(\"Original words:\", words)\n",
    "print(\"Stemmed words:\", stemmed_words)"
   ]
  },
  {
   "cell_type": "code",
   "execution_count": null,
   "id": "df205fba-51cf-4f3c-a772-e12c5f8bcd1b",
   "metadata": {},
   "outputs": [],
   "source": []
  },
  {
   "cell_type": "markdown",
   "id": "adb02b05-1b2d-4484-859b-2d02a4e429d6",
   "metadata": {},
   "source": [
    "# Exercises"
   ]
  },
  {
   "cell_type": "markdown",
   "id": "95ef6250-7a11-45f6-b287-b11f80305260",
   "metadata": {},
   "source": [
    "#### Task 0. Compare frequency distributions of stemmed and unstemmed NLTK corpora. Display most commonly used stems from nltk.text corpora on a plot.\n",
    "###### Завдання 0. Порівняйте частотні розподіли stemmed and unstemmed корпусів NLTK. Відображення найбільш часто використовуваних джерел із корпусів nltk.text на сюжеті."
   ]
  },
  {
   "cell_type": "code",
   "execution_count": 4,
   "id": "f30dd89f-3e6c-4217-8c9d-2321c781df14",
   "metadata": {},
   "outputs": [
    {
     "name": "stderr",
     "output_type": "stream",
     "text": [
      "[nltk_data] Downloading package brown to\n",
      "[nltk_data]     /Users/boykosvitlana/nltk_data...\n",
      "[nltk_data]   Unzipping corpora/brown.zip.\n"
     ]
    },
    {
     "data": {
      "image/png": "[encoded data removed]",
      "text/plain": [
       "<Figure size 1200x600 with 2 Axes>"
      ]
     },
     "metadata": {},
     "output_type": "display_data"
    }
   ],
   "source": [
    "import nltk\n",
    "from nltk.corpus import brown\n",
    "from nltk.stem import PorterStemmer\n",
    "import matplotlib.pyplot as plt\n",
    "from collections import Counter\n",
    "\n",
    "# Завантажуємо корпус Brown i отримуємо список усіх слів із нього\n",
    "nltk.download('brown')\n",
    "words = brown.words()\n",
    "\n",
    "# Обробка слів\n",
    "porter = PorterStemmer() # Створюємо об'єкт для стемінгу\n",
    "original_words = [word.lower() for word in words if word.isalpha()]  # переводимо слова у нижній регістр, залишаємо тільки ті, що складаються з літер\n",
    "stemmed_words = [porter.stem(word) for word in original_words]       # Застосовуємо стемінг до кожного слова\n",
    "\n",
    "# Підрахунок частоти слів\n",
    "original_freq = Counter(original_words)\n",
    "stemmed_freq = Counter(stemmed_words)\n",
    "\n",
    "# Візуалізація результатів \n",
    "plt.figure(figsize=(12, 6))\n",
    "\n",
    "# Топ-20 оригінальних слів\n",
    "plt.subplot(1, 2, 1)\n",
    "common_original = original_freq.most_common(20)\n",
    "plt.barh([w[0] for w in common_original], [w[1] for w in common_original])\n",
    "plt.title('Топ-20 оригінальних слів')\n",
    "plt.gca().invert_yaxis()\n",
    "\n",
    "# Топ-20 стемованих слів\n",
    "plt.subplot(1, 2, 2)\n",
    "common_stemmed = stemmed_freq.most_common(20)\n",
    "plt.barh([w[0] for w in common_stemmed], [w[1] for w in common_stemmed])\n",
    "plt.title('Топ-20 стемованих слів')\n",
    "plt.gca().invert_yaxis()\n",
    "\n",
    "plt.tight_layout()\n",
    "plt.show()"
   ]
  },
  {
   "cell_type": "markdown",
   "id": "80bea5db-0dd3-4699-a2aa-43345b03897f",
   "metadata": {},
   "source": [
    "#### Task 1. Write your own version of stemmer for Ukrainian (or other non-English language) using regular expressions.\n",
    "#### There is a regexp stemmer in NLTK (link).\n",
    "#### Please write your code so that it satisfies NLTK’s standard interface (a Stemmer class with .stem() method)\n",
    "\n",
    "###### Завдання 1. Напишіть власну версію stemmer для української (або іншої неанглійської) мови, використовуючи регулярні вирази.\n",
    "###### У NLTK є стеммер регулярного виразу (посилання).\n",
    "###### Напишіть свій код так, щоб він відповідав стандартному інтерфейсу NLTK (клас Stemmer із методом .stem())"
   ]
  },
  {
   "cell_type": "code",
   "execution_count": 5,
   "id": "ff6bbdd3-ee72-4119-a71a-b41a9a6cb35b",
   "metadata": {},
   "outputs": [
    {
     "name": "stdout",
     "output_type": "stream",
     "text": [
      "ходити -> ходит\n",
      "ходив -> ходи\n",
      "ходила -> ходил\n",
      "ходили -> ходил\n",
      "синє -> синє\n",
      "синього -> син\n",
      "добрий -> добр\n",
      "добра -> добр\n"
     ]
    }
   ],
   "source": [
    "import re\n",
    "from nltk.stem.api import StemmerI\n",
    "\n",
    "class UkrainianStemmer(StemmerI):\n",
    "    def __init__(self):\n",
    "        # ініціалізуємо регулярні вирази для видалення закінчень\n",
    "        self.patterns = [\n",
    "            # Іменники\n",
    "            (re.compile(r'(ів|ев|ов|ам|ям|ах|ях|ами|ями|ах|ях|и|і|ею|єю|ою|а|я|у|ю|ем|єм|ом|ій|ий|ей|і|ю)$'), ''),\n",
    "            # Дієслова\n",
    "            (re.compile(r'(ти|тиме|тимуть|тимеш|тимем|тимемо|тите|тимете|ла|ли|ло|л|в|вши|ши|ать|ять|уть|ють|іть|їть|еть)$'), ''),\n",
    "            # Прикметники\n",
    "            (re.compile(r'(іший|іша|іше|іші|ішого|ішому|ішим|ішім|ішій|ішою|ішій|іші|іших|ішими|ий|а|е|і|ій|ого|ому|им|ім|ій|ою|ій|і|их|ими)$'), ''),\n",
    "            # Прислівники\n",
    "            (re.compile(r'(о|е|іше|ії|ій|ше)$'), ''),\n",
    "        ]\n",
    "        \n",
    "        # # Словник винятків (слова, які не підпадають під загальні правила)\n",
    "        self.exceptions = {\n",
    "            'птаха': 'птах',\n",
    "            'добра': 'добр',\n",
    "            'синього': 'син',\n",
    "        }\n",
    "        \n",
    "    # функція стемінгу\n",
    "    def stem(self, word):  \n",
    "        word = word.lower()  # переводимо до нижнього регістру\n",
    "        \n",
    "        # перевіряємо винятки\n",
    "        if word in self.exceptions:\n",
    "            return self.exceptions[word]\n",
    "        \n",
    "        # Застосування регулярних виразів\n",
    "        for pattern, replacement in self.patterns:\n",
    "            if pattern.search(word):\n",
    "                stemmed = pattern.sub(replacement, word)\n",
    "                if len(stemmed) >= 2:  # основа повинна бути не менше 2 літер\n",
    "                    return stemmed\n",
    "        \n",
    "        return word\n",
    "\n",
    "# Приклад використання\n",
    "stemmer = UkrainianStemmer()\n",
    "words = [\"ходити\", \"ходив\", \"ходила\", \"ходили\", \"синє\", \"синього\", \"добрий\", \"добра\"]\n",
    "for word in words:\n",
    "    print(f\"{word} -> {stemmer.stem(word)}\")"
   ]
  },
  {
   "cell_type": "code",
   "execution_count": null,
   "id": "de683484-e1de-4505-8610-5d0b59618906",
   "metadata": {},
   "outputs": [],
   "source": []
  },
  {
   "cell_type": "markdown",
   "id": "0bce0901-a8f8-4fdf-9146-b1ef4cb1a832",
   "metadata": {},
   "source": [
    "#### Task 2. Implement Wagner-Fischer (or Vintsyuk) algorithm for string distance. (Link).\n",
    "#### Modify the algorithm so that substitution operation cost depends on the key proximity on QWERTY keyboard. For inspiration, look at this (StackExchange question).\n",
    "#### Or consider (this table) directly:\n",
    "#### Implement another modification to the algorithm: include transposition operation, so that you compute a (Damerau-Levenshtein distance).\n",
    "\n",
    "###### Завдання 2. Реалізувати алгоритм Вагнера-Фішера (або Вінцюка) для відстані струни. (Link).\n",
    "###### алгоритм Вагнера-Фішера обчислює редактийну відстань між двома рядками s1 та s2.\n",
    "###### 2.1 Змініть алгоритм так, щоб вартість операції заміни залежала від близькості клавіш на клавіатурі QWERTY. Щоб отримати натхнення, перегляньте це запитання StackExchange.\n",
    "\n",
    "###### Або розглянемо цю таблицю безпосередньо:\n",
    "\n",
    "###### 2.2 Застосуйте іншу модифікацію алгоритму: додайте операцію транспонування, щоб ви обчислили відстань Дамерау-Левенштейна."
   ]
  },
  {
   "cell_type": "code",
   "execution_count": 6,
   "id": "7689a338-e673-4d97-af78-a378ec7a1f70",
   "metadata": {},
   "outputs": [
    {
     "name": "stdout",
     "output_type": "stream",
     "text": [
      "3\n",
      "3\n",
      "0.3333333333333333\n"
     ]
    }
   ],
   "source": [
    "def wagner_fischer(s1, s2, substitution_cost_func=None, transposition=False):\n",
    "    len_s1 = len(s1)\n",
    "    len_s2 = len(s2)\n",
    "    \n",
    "    # Ініціалізація матриці\n",
    "    d = [[0] * (len_s2 + 1) for _ in range(len_s1 + 1)]\n",
    "\n",
    "    # Заповнення початкових значень (пустий рядок -> префікс)\n",
    "    for i in range(len_s1 + 1):\n",
    "        d[i][0] = i\n",
    "    for j in range(len_s2 + 1):\n",
    "        d[0][j] = j\n",
    "    \n",
    "    # QWERTY клавіатура - координати для розрахунку відстані між клавішами\n",
    "    qwerty = {\n",
    "        'q': (0, 0), 'w': (0, 1), 'e': (0, 2), 'r': (0, 3), 't': (0, 4), 'y': (0, 5), 'u': (0, 6), 'i': (0, 7), 'o': (0, 8), 'p': (0, 9),\n",
    "        'a': (1, 0), 's': (1, 1), 'd': (1, 2), 'f': (1, 3), 'g': (1, 4), 'h': (1, 5), 'j': (1, 6), 'k': (1, 7), 'l': (1, 8),\n",
    "        'z': (2, 0), 'x': (2, 1), 'c': (2, 2), 'v': (2, 3), 'b': (2, 4), 'n': (2, 5), 'm': (2, 6)\n",
    "    }\n",
    "    \n",
    "    # Функція вартості заміни за замовчуванням\n",
    "    if substitution_cost_func is None:\n",
    "        substitution_cost_func = lambda a, b: 0 if a == b else 1\n",
    "\n",
    "    # Заповнюємо нашу матрицю\n",
    "    for i in range(1, len_s1 + 1):\n",
    "        for j in range(1, len_s2 + 1):\n",
    "            if s1[i-1] == s2[j-1]:   # Якщо символи однакові - вартість заміни 0\n",
    "                cost = 0\n",
    "            else:\n",
    "                # Розрахунок вартості заміни на основі відстані на клавіатурі\n",
    "                char1 = s1[i-1].lower()\n",
    "                char2 = s2[j-1].lower()\n",
    "                \n",
    "                if char1 in qwerty and char2 in qwerty:\n",
    "                    x1, y1 = qwerty[char1]\n",
    "                    x2, y2 = qwerty[char2]\n",
    "                    distance = ((x2-x1)**2 + (y2-y1)**2)**0.5     # Евклідова відстань між клавішами\n",
    "                    cost = min(1, distance / 3.0)                 # Нормалізація до діапазону [0, 1]\n",
    "                else:\n",
    "                    cost = 1      # Стандартна вартість, якщо символи не на клавіатурі\n",
    "\n",
    "            # Обчислюємо мінімальну вартість операцій:\n",
    "            d[i][j] = min(\n",
    "                d[i-1][j] + 1,      # Видалення символу з s1\n",
    "                d[i][j-1] + 1,      # Вставка символу в s1\n",
    "                d[i-1][j-1] + cost  # Заміна символу\n",
    "            )\n",
    "            \n",
    "            # Додаткова перевірка на транспозицію (перестановку сусідніх символів)\n",
    "            if transposition and i > 1 and j > 1 and s1[i-1] == s2[j-2] and s1[i-2] == s2[j-1]:\n",
    "                d[i][j] = min(d[i][j], d[i-2][j-2] + cost)\n",
    "    \n",
    "    return d[len_s1][len_s2]\n",
    "\n",
    "# Приклади використання\n",
    "print(wagner_fischer(\"kitten\", \"sitting\"))  # Звичайна відстань Левенштейна \n",
    "print(wagner_fischer(\"kitten\", \"sitting\", transposition=True))  # Відстань Дамерау-Левенштейна\n",
    "print(wagner_fischer(\"hello\", \"heklo\"))  # Враховує відстань на клавіатурі (k і l близькі)"
   ]
  },
  {
   "cell_type": "code",
   "execution_count": null,
   "id": "f71f0be5-2afd-4977-adb0-4f8364ff7083",
   "metadata": {},
   "outputs": [],
   "source": []
  }
 ],
 "metadata": {
  "kernelspec": {
   "display_name": "Python 3 (ipykernel)",
   "language": "python",
   "name": "python3"
  },
  "language_info": {
   "codemirror_mode": {
    "name": "ipython",
    "version": 3
   },
   "file_extension": ".py",
   "mimetype": "text/x-python",
   "name": "python",
   "nbconvert_exporter": "python",
   "pygments_lexer": "ipython3",
   "version": "3.11.3"
  }
 },
 "nbformat": 4,
 "nbformat_minor": 5
}
