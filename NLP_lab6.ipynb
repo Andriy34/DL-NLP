{
 "cells": [
  {
   "cell_type": "markdown",
   "id": "a295f906-3de9-4a26-8676-b74650ebcf5a",
   "metadata": {},
   "source": [
    "## (bag-of-words/PPMI)"
   ]
  },
  {
   "cell_type": "markdown",
   "id": "c4951ffa-8f83-44e1-9afa-2b5a0efc91a0",
   "metadata": {},
   "source": [
    "Task 0. Take an arbitrary text from NLTK corpora (e.g. text3) and implement a Bag-of-Words tagger for it.\n",
    "\n",
    "Завдання 0. Візьміть довільний текст із корпусу NLTK (наприклад, text3) і реалізуйте тегер (tagger) на основі моделі \"Bag-of-Words\" "
   ]
  },
  {
   "cell_type": "code",
   "execution_count": 3,
   "id": "dc3fca5f-b656-4215-a518-433f7b886450",
   "metadata": {},
   "outputs": [
    {
     "name": "stderr",
     "output_type": "stream",
     "text": [
      "[nltk_data] Downloading package gutenberg to\n",
      "[nltk_data]     /Users/boykosvitlana/nltk_data...\n",
      "[nltk_data]   Package gutenberg is already up-to-date!\n",
      "[nltk_data] Downloading package punkt to\n",
      "[nltk_data]     /Users/boykosvitlana/nltk_data...\n",
      "[nltk_data]   Package punkt is already up-to-date!\n",
      "[nltk_data] Downloading package averaged_perceptron_tagger to\n",
      "[nltk_data]     /Users/boykosvitlana/nltk_data...\n",
      "[nltk_data]   Package averaged_perceptron_tagger is already up-to-\n",
      "[nltk_data]       date!\n"
     ]
    },
    {
     "name": "stdout",
     "output_type": "stream",
     "text": [
      "[('In', 'IN'), ('the', 'DT'), ('beginning', 'NN'), ('God', 'NNP'), ('created', 'VBD'), ('the', 'DT'), ('heaven', 'NN'), ('and', 'CC'), ('the', 'DT'), ('earth.', 'NN')]\n"
     ]
    }
   ],
   "source": [
    "import nltk\n",
    "from nltk.corpus import gutenberg\n",
    "from nltk import pos_tag\n",
    "from nltk.tokenize import word_tokenize\n",
    "from collections import defaultdict, Counter\n",
    "\n",
    "# Завантажимо корпус text3 (Біблія)\n",
    "nltk.download('gutenberg')\n",
    "nltk.download('punkt')\n",
    "nltk.download('averaged_perceptron_tagger')\n",
    "\n",
    "text = gutenberg.raw('bible-kjv.txt')\n",
    "tokens = word_tokenize(text)\n",
    "\n",
    "# Отримаємо POS-теги для кожного токена\n",
    "tagged = pos_tag(tokens)\n",
    "\n",
    "# Побудуємо частотну таблицю: слово -> найчастіший тег\n",
    "word_tag_freq = defaultdict(Counter)\n",
    "\n",
    "for word, tag in tagged:\n",
    "    word_tag_freq[word.lower()][tag] += 1\n",
    "\n",
    "# Тепер створимо простий тегер, який обирає найчастіший тег\n",
    "def bag_of_words_tagger(word):\n",
    "    word = word.lower()\n",
    "    if word in word_tag_freq:\n",
    "        return word_tag_freq[word].most_common(1)[0][0]\n",
    "    else:\n",
    "        return 'NN'  # якщо не знаємо — номінатив (іменник)\n",
    "\n",
    "# Перевіримо приклад:\n",
    "test_sentence = \"In the beginning God created the heaven and the earth.\".split()\n",
    "predicted_tags = [(word, bag_of_words_tagger(word)) for word in test_sentence]\n",
    "\n",
    "print(predicted_tags)\n"
   ]
  },
  {
   "cell_type": "code",
   "execution_count": null,
   "id": "8fa3e016-55ec-4519-a692-c80547ed5595",
   "metadata": {},
   "outputs": [],
   "source": []
  },
  {
   "cell_type": "markdown",
   "id": "d179472a-f96e-4e42-a3c8-f2a87f443238",
   "metadata": {},
   "source": [
    "Task 1. Enhance the tagger so that it will use N-grams instead of words\n",
    "\n",
    "Завдання 1. Покращіть тегер, щоб він використовував N-грам замість окремих слів."
   ]
  },
  {
   "cell_type": "code",
   "execution_count": 4,
   "id": "460f82b5-0119-458b-9642-1369b6cf57fe",
   "metadata": {},
   "outputs": [
    {
     "name": "stdout",
     "output_type": "stream",
     "text": [
      "[('In', 'NN'), ('the', 'DT'), ('beginning', 'NN'), ('God', 'NNP'), ('created', 'VBD'), ('the', 'DT'), ('heaven', 'NN'), ('and', 'CC'), ('the', 'DT'), ('earth.', 'NN')]\n"
     ]
    }
   ],
   "source": [
    "# Завантажимо текст\n",
    "text = gutenberg.raw('bible-kjv.txt')\n",
    "tokens = word_tokenize(text)  # розбиваємо текст на слова \n",
    "tagged = pos_tag(tokens)      # Отримуємо POS-теги для кожного токена\n",
    "\n",
    "# Побудуємо частотну таблицю для біграм (попереднє слово + поточне слово)\n",
    "context_tag_freq = defaultdict(Counter)\n",
    "\n",
    "# Проходимо по кожному слову в тексті, зберігаючи контекст і відповідний тег\n",
    "prev_word = \"<START>\"\n",
    "for i in range(len(tagged)):\n",
    "    word, tag = tagged[i]\n",
    "    context = (prev_word.lower(), word.lower())  # контекст = (попереднє слово, поточне слово)\n",
    "    context_tag_freq[context][tag] += 1          # рахуємо, скільки разів зустрічається кожен тег у цьому контексті\n",
    "    prev_word = word                             # поточне слово стає попереднім\n",
    "\n",
    "# Тегер: повертає найчастіший тег для вказаного контексту (біграма)\n",
    "def ngram_tagger(prev_word, word):\n",
    "    context = (prev_word.lower(), word.lower())\n",
    "    if context in context_tag_freq:\n",
    "        return context_tag_freq[context].most_common(1)[0][0]  # повертаємо найчастіший тег\n",
    "    else:\n",
    "        return 'NN'\n",
    "\n",
    "# Перевіримо приклад\n",
    "test_sentence = \"In the beginning God created the heaven and the earth.\".split()\n",
    "\n",
    "\n",
    "predicted_tags = []\n",
    "prev = \"<START>\"    # початковий контекст\n",
    "\n",
    "# Проходимо по реченню, тегуємо кожне слово, використовуючи попереднє\n",
    "for word in test_sentence:\n",
    "    tag = ngram_tagger(prev, word)\n",
    "    predicted_tags.append((word, tag))\n",
    "    prev = word\n",
    "\n",
    "print(predicted_tags)"
   ]
  },
  {
   "cell_type": "code",
   "execution_count": null,
   "id": "aa8b24aa-6195-471e-a594-4030b55c90cd",
   "metadata": {},
   "outputs": [],
   "source": []
  },
  {
   "cell_type": "markdown",
   "id": "a20bb79b-c7ac-43ce-b89a-f43ee930c69c",
   "metadata": {},
   "source": [
    "Task 2. Implement PPMI weighting with co-occurrence based on the presence within the same paragraph.\n",
    "\n",
    "Завдання 2. Реалізуйте вагування за методом PPMI (Positive Pointwise Mutual Information), де співзустріч базується на наявності слів в одному абзаці."
   ]
  },
  {
   "cell_type": "code",
   "execution_count": 7,
   "id": "e64a276c-f6c3-4a8d-8a9d-92462a7ef023",
   "metadata": {},
   "outputs": [
    {
     "name": "stdout",
     "output_type": "stream",
     "text": [
      "Топ PPMI-слів для 'god':\n",
      "    whales : 2.795\n",
      "    winged : 2.795\n",
      " replenish : 2.795\n",
      "  sheddeth : 2.795\n",
      " possessor : 2.795\n",
      "shoelatchet : 2.795\n",
      "beerlahairoi : 2.795\n",
      "    ladder : 2.795\n",
      "anointedst : 2.795\n",
      "   vowedst : 2.795\n"
     ]
    }
   ],
   "source": [
    "# наскільки часто два слова співзустрічаються в одному абзаці\n",
    "import math\n",
    "\n",
    "# Завантажимо текст (text3 - біблія)\n",
    "text = gutenberg.raw('bible-kjv.txt')\n",
    "\n",
    "# Розіб'ємо текст на абзаци (використовуємо подвійний переніс рядка як роздільник)\n",
    "paragraphs = text.split('\\n\\n')\n",
    "\n",
    "# Ініціалізуємо лічильники\n",
    "word_freq = Counter()                         # Частоти окремих слів\n",
    "co_occurrence = defaultdict(Counter)          # Співзустрічі: слово -> інші слова -> кількість\n",
    "total_paragraphs = 0\n",
    "\n",
    "# Обробка кожного абзацу\n",
    "for paragraph in paragraphs:\n",
    "    tokens = word_tokenize(paragraph.lower())          # токенізація + lowercase\n",
    "    words_in_paragraph = set(tokens)                   # тільки унікальні слова\n",
    "    total_paragraphs += 1\n",
    "\n",
    "    # Підраховуємо частоти\n",
    "    for w in words_in_paragraph:\n",
    "        word_freq[w] += 1\n",
    "        for c in words_in_paragraph:\n",
    "            if w != c:\n",
    "                co_occurrence[w][c] += 1\n",
    "\n",
    "# Обчислимо PPMI для кожної пари (w, c)\n",
    "ppmi = defaultdict(dict)\n",
    "\n",
    "for w in co_occurrence:\n",
    "    for c in co_occurrence[w]:\n",
    "        # P(w), P(c), P(w,c)\n",
    "        p_w = word_freq[w] / total_paragraphs\n",
    "        p_c = word_freq[c] / total_paragraphs\n",
    "        p_wc = co_occurrence[w][c] / total_paragraphs\n",
    "\n",
    "        # Обчислюємо PMI\n",
    "        pmi = math.log2(p_wc / (p_w * p_c)) if p_wc > 0 else 0\n",
    "\n",
    "        # PPMI = max(PMI, 0)\n",
    "        ppmi[w][c] = max(pmi, 0)\n",
    "\n",
    "# 🔍 Перевіримо приклад: які слова мають найвищу PPMI до слова \"god\"\n",
    "word = 'god'\n",
    "if word in ppmi:\n",
    "    sorted_related = sorted(ppmi[word].items(), key=lambda x: -x[1])[:10]\n",
    "    print(f\"Топ PPMI-слів для '{word}':\")\n",
    "    for w2, score in sorted_related:\n",
    "        print(f\"{w2:>10} : {score:.3f}\")\n",
    "else:\n",
    "    print(\"Слово не знайдено.\")\n"
   ]
  },
  {
   "cell_type": "code",
   "execution_count": null,
   "id": "a18b7d6b-6f21-4fc1-8974-9f237dc6c05a",
   "metadata": {},
   "outputs": [],
   "source": []
  },
  {
   "cell_type": "markdown",
   "id": "4903cf4d-1b86-47f1-909b-30faad971e24",
   "metadata": {},
   "source": [
    "Task 3. Implement PPMI weighting with co-occurrence based on a sliding window of neighboring words. Pick some number between 2-10.\n",
    "\n",
    "Завдання 3. Реалізуйте вагування за методом PPMI, де співзустріч визначається на основі рухомого вікна (sliding window) сусідніх слів. Виберіть розмір вікна від 2 до 10.\n"
   ]
  },
  {
   "cell_type": "code",
   "execution_count": 8,
   "id": "4b887a9e-ac24-408f-ad91-40082a799b7b",
   "metadata": {},
   "outputs": [
    {
     "name": "stdout",
     "output_type": "stream",
     "text": [
      "Топ PPMI-слів для 'god' (вікно 4):\n",
      "      68:9 : 5.727\n",
      "     68:32 : 5.727\n",
      "     77:14 : 5.727\n",
      "     83:13 : 5.727\n",
      "      84:8 : 5.727\n",
      "     115:3 : 5.727\n",
      "    whales : 4.727\n",
      " possessor : 4.727\n",
      "  elbethel : 4.727\n",
      "allonbachuth : 4.727\n"
     ]
    }
   ],
   "source": [
    "# Завантаження тексту (Біблія, text3)\n",
    "text = gutenberg.raw('bible-kjv.txt')\n",
    "\n",
    "# Токенізація всього тексту\n",
    "tokens = word_tokenize(text.lower())\n",
    "\n",
    "# Параметр вікна: кількість слів ліворуч і праворуч\n",
    "window_size = 4\n",
    "\n",
    "# Ініціалізація лічильників\n",
    "word_freq = Counter()\n",
    "co_occurrence = defaultdict(Counter)\n",
    "total_windows = 0\n",
    "\n",
    "# Проходимо по кожному слову і збираємо співзустрічі в межах вікна\n",
    "for i in range(len(tokens)):\n",
    "    center_word = tokens[i]\n",
    "    word_freq[center_word] += 1\n",
    "\n",
    "    # Межі вікна\n",
    "    start = max(0, i - window_size)\n",
    "    end = min(len(tokens), i + window_size + 1)\n",
    "\n",
    "    # Рахуємо співзустрічі: всі слова в межах вікна, крім самого себе\n",
    "    for j in range(start, end):\n",
    "        if j != i:\n",
    "            context_word = tokens[j]\n",
    "            co_occurrence[center_word][context_word] += 1\n",
    "            total_windows += 1\n",
    "\n",
    "# Обчислення PPMI\n",
    "ppmi = defaultdict(dict)\n",
    "\n",
    "for w in co_occurrence:\n",
    "    for c in co_occurrence[w]:\n",
    "        p_w = word_freq[w] / len(tokens)\n",
    "        p_c = word_freq[c] / len(tokens)\n",
    "        p_wc = co_occurrence[w][c] / total_windows\n",
    "\n",
    "        if p_wc > 0:\n",
    "            pmi = math.log2(p_wc / (p_w * p_c))\n",
    "            ppmi[w][c] = max(pmi, 0)\n",
    "\n",
    "# Перевіримо приклад: які слова мають найвищу PPMI до слова \"god\"\n",
    "word = 'god'\n",
    "if word in ppmi:\n",
    "    top_related = sorted(ppmi[word].items(), key=lambda x: -x[1])[:10]\n",
    "    print(f\"Топ PPMI-слів для '{word}' (вікно {window_size}):\")\n",
    "    for w2, score in top_related:\n",
    "        print(f\"{w2:>10} : {score:.3f}\")\n",
    "else:\n",
    "    print(f\"Слово '{word}' не знайдено у PPMI-таблиці.\")\n",
    "\n"
   ]
  },
  {
   "cell_type": "code",
   "execution_count": null,
   "id": "682cb796-a4ea-4011-84d1-cb1afea4d7ef",
   "metadata": {},
   "outputs": [],
   "source": []
  },
  {
   "cell_type": "markdown",
   "id": "9f024054-7f09-4c63-a96b-22154e219a2e",
   "metadata": {},
   "source": [
    "Task 4. Very rare words might will have high PMI values. How would you solve the problem?\n",
    "\n",
    "Завдання 4. Дуже рідкісні слова можуть мати високі значення PMI. Як би ви вирішили цю проблему?\n",
    "\n"
   ]
  },
  {
   "cell_type": "code",
   "execution_count": null,
   "id": "435be205-36cd-4b82-87d4-00f9175305ea",
   "metadata": {},
   "outputs": [],
   "source": []
  },
  {
   "cell_type": "markdown",
   "id": "3f119cbf-bc49-4af7-9396-9cf76d2e499e",
   "metadata": {},
   "source": [
    "Task 5. Check how algorithm works using English thesaurus. Pick some 10 words, find synonyms for these, e.g. using https://www.merriam-webster.com/thesaurus. Note that semantic similarity is represented in different shades of orange. Does it match the output of PPMI weighting function? Would be nice if you could also draw a table with shaded cells matching closeness given by PPMI.\n",
    "\n",
    "Завдання 5. Перевірте, як працює алгоритм, використовуючи англійський тезаурус. Виберіть приблизно 10 слів і знайдіть для них синоніми (наприклад, за допомогою сайту https://www.merriam-webster.com/thesaurus). Зверніть увагу, що семантична схожість позначається різними відтінками помаранчевого. Чи відповідає це виходу функції PPMI? Було б добре також побудувати таблицю з зафарбованими комірками, що відповідають близькості, визначеній функцією PPMI."
   ]
  },
  {
   "cell_type": "code",
   "execution_count": 12,
   "id": "27578590-4e53-4513-9233-a606b4801fdc",
   "metadata": {},
   "outputs": [
    {
     "data": {
      "image/png": "[encoded data removed]",
      "text/plain": [
       "<Figure size 1200x600 with 2 Axes>"
      ]
     },
     "metadata": {},
     "output_type": "display_data"
    }
   ],
   "source": [
    "import pandas as pd\n",
    "import seaborn as sns\n",
    "import matplotlib.pyplot as plt\n",
    "\n",
    "# набір слів і синонімів\n",
    "synonym_dict = {\n",
    "    \"king\": [\"monarch\", \"sovereign\"],\n",
    "    \"queen\": [\"empress\", \"consort\"],\n",
    "    \"man\": [\"guy\", \"gentleman\"],\n",
    "    \"woman\": [\"lady\", \"female\"],\n",
    "    \"happy\": [\"joyful\", \"cheerful\"],\n",
    "    \"sad\": [\"gloomy\", \"unhappy\"],\n",
    "    \"fast\": [\"quick\", \"speedy\"],\n",
    "    \"slow\": [\"sluggish\", \"leisurely\"],\n",
    "    \"strong\": [\"powerful\", \"sturdy\"],\n",
    "    \"weak\": [\"fragile\", \"feeble\"]\n",
    "}\n",
    "\n",
    "# Побудова таблиці з PPMI-значеннями\n",
    "ppmi_values = []\n",
    "\n",
    "for word, synonyms in synonym_dict.items():\n",
    "    row = {}\n",
    "    for synonym in synonyms:\n",
    "        # Отримуємо PPMI, або 0, якщо слово або синонім відсутні в матриці\n",
    "        score = ppmi.get(word, {}).get(synonym, 0.0)\n",
    "        row[synonym] = score\n",
    "    ppmi_values.append(row)\n",
    "\n",
    "#Створюємо DataFrame\n",
    "df = pd.DataFrame(ppmi_values, index=synonym_dict.keys())\n",
    "\n",
    "# Відображення heatmap (зафарбовані клітинки)\n",
    "plt.figure(figsize=(12, 6))\n",
    "sns.heatmap(df, annot=True, cmap=\"Oranges\", fmt=\".2f\", linewidths=0.5, linecolor='gray')\n",
    "plt.title(\"PPMI між словами та їх синонімами (з Merriam-Webster)\", fontsize=14)\n",
    "plt.ylabel(\"Слово\", fontsize=12)\n",
    "plt.xlabel(\"Синонім\", fontsize=12)\n",
    "plt.xticks(rotation=45)\n",
    "plt.yticks(rotation=0)\n",
    "plt.tight_layout()\n",
    "plt.show()\n"
   ]
  },
  {
   "cell_type": "code",
   "execution_count": null,
   "id": "e8acdb72-1c8c-4e63-8d75-191343ec7124",
   "metadata": {},
   "outputs": [],
   "source": []
  }
 ],
 "metadata": {
  "kernelspec": {
   "display_name": "Python 3 (ipykernel)",
   "language": "python",
   "name": "python3"
  },
  "language_info": {
   "codemirror_mode": {
    "name": "ipython",
    "version": 3
   },
   "file_extension": ".py",
   "mimetype": "text/x-python",
   "name": "python",
   "nbconvert_exporter": "python",
   "pygments_lexer": "ipython3",
   "version": "3.11.3"
  }
 },
 "nbformat": 4,
 "nbformat_minor": 5
}
